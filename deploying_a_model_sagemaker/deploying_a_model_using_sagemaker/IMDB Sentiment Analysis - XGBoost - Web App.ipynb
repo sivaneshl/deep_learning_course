{
 "cells": [
  {
   "cell_type": "markdown",
   "metadata": {},
   "source": [
    "# Sentiment Analysis Web App\n",
    "\n",
    "_Deep Learning Nanodegree Program | Deployment_\n",
    "\n",
    "---\n",
    "\n",
    "In this notebook we will use Amazon's SageMaker service to construct a random tree model to predict the sentiment of a movie review. In addition, we will deploy this model to an endpoint and construct a very simple web app which will interact with our model's deployed endpoint.\n",
    "\n",
    "## General Outline\n",
    "\n",
    "Typically, when using a notebook instance with SageMaker, you will proceed through the following steps. Of course, not every step will need to be done with each project. Also, there is quite a lot of room for variation in many of the steps, as you will see throughout these lessons.\n",
    "\n",
    "1. Download or otherwise retrieve the data.\n",
    "2. Process / Prepare the data.\n",
    "3. Upload the processed data to S3.\n",
    "4. Train a chosen model.\n",
    "5. Test the trained model (typically using a batch transform job).\n",
    "6. Deploy the trained model.\n",
    "7. Use the deployed model.\n",
    "\n",
    "In this notebook we will progress through each of the steps above. We will also see that the final step, using the deployed model, can be quite challenging."
   ]
  },
  {
   "cell_type": "markdown",
   "metadata": {},
   "source": [
    "## Step 1: Downloading the data\n",
    "\n",
    "The dataset we are going to use is very popular among researchers in Natural Language Processing, usually referred to as the [IMDb dataset](http://ai.stanford.edu/~amaas/data/sentiment/). It consists of movie reviews from the website [imdb.com](http://www.imdb.com/), each labeled as either '**pos**itive', if the reviewer enjoyed the film, or '**neg**ative' otherwise.\n",
    "\n",
    "> Maas, Andrew L., et al. [Learning Word Vectors for Sentiment Analysis](http://ai.stanford.edu/~amaas/data/sentiment/). In _Proceedings of the 49th Annual Meeting of the Association for Computational Linguistics: Human Language Technologies_. Association for Computational Linguistics, 2011.\n",
    "\n",
    "We begin by using some Jupyter Notebook magic to download and extract the dataset."
   ]
  },
  {
   "cell_type": "code",
   "execution_count": 1,
   "metadata": {},
   "outputs": [
    {
     "name": "stdout",
     "output_type": "stream",
     "text": [
      "mkdir: cannot create directory ‘../data’: File exists\n",
      "--2020-11-07 11:11:55--  http://ai.stanford.edu/~amaas/data/sentiment/aclImdb_v1.tar.gz\n",
      "Resolving ai.stanford.edu (ai.stanford.edu)... 171.64.68.10\n",
      "Connecting to ai.stanford.edu (ai.stanford.edu)|171.64.68.10|:80... connected.\n",
      "HTTP request sent, awaiting response... 200 OK\n",
      "Length: 84125825 (80M) [application/x-gzip]\n",
      "Saving to: ‘../data/aclImdb_v1.tar.gz’\n",
      "\n",
      "../data/aclImdb_v1. 100%[===================>]  80.23M  25.4MB/s    in 3.3s    \n",
      "\n",
      "2020-11-07 11:11:59 (24.2 MB/s) - ‘../data/aclImdb_v1.tar.gz’ saved [84125825/84125825]\n",
      "\n"
     ]
    }
   ],
   "source": [
    "%mkdir ../data\n",
    "!wget -O ../data/aclImdb_v1.tar.gz http://ai.stanford.edu/~amaas/data/sentiment/aclImdb_v1.tar.gz\n",
    "!tar -zxf ../data/aclImdb_v1.tar.gz -C ../data"
   ]
  },
  {
   "cell_type": "markdown",
   "metadata": {},
   "source": [
    "## Step 2: Preparing and Processing the data\n",
    "\n",
    "The data we have downloaded is split into various files, each of which contains a single review. It will be much easier going forward if we combine these individual files into two large files, one for training and one for testing."
   ]
  },
  {
   "cell_type": "code",
   "execution_count": 2,
   "metadata": {},
   "outputs": [],
   "source": [
    "import os\n",
    "import glob\n",
    "\n",
    "def read_imdb_data(data_dir='../data/aclImdb'):\n",
    "    data = {}\n",
    "    labels = {}\n",
    "    \n",
    "    for data_type in ['train', 'test']:\n",
    "        data[data_type] = {}\n",
    "        labels[data_type] = {}\n",
    "        \n",
    "        for sentiment in ['pos', 'neg']:\n",
    "            data[data_type][sentiment] = []\n",
    "            labels[data_type][sentiment] = []\n",
    "            \n",
    "            path = os.path.join(data_dir, data_type, sentiment, '*.txt')\n",
    "            files = glob.glob(path)\n",
    "            \n",
    "            for f in files:\n",
    "                with open(f) as review:\n",
    "                    data[data_type][sentiment].append(review.read())\n",
    "                    # Here we represent a positive review by '1' and a negative review by '0'\n",
    "                    labels[data_type][sentiment].append(1 if sentiment == 'pos' else 0)\n",
    "                    \n",
    "            assert len(data[data_type][sentiment]) == len(labels[data_type][sentiment]), \\\n",
    "                    \"{}/{} data size does not match labels size\".format(data_type, sentiment)\n",
    "                \n",
    "    return data, labels"
   ]
  },
  {
   "cell_type": "code",
   "execution_count": 3,
   "metadata": {},
   "outputs": [
    {
     "name": "stdout",
     "output_type": "stream",
     "text": [
      "IMDB reviews: train = 12500 pos / 12500 neg, test = 12500 pos / 12500 neg\n"
     ]
    }
   ],
   "source": [
    "data, labels = read_imdb_data()\n",
    "print(\"IMDB reviews: train = {} pos / {} neg, test = {} pos / {} neg\".format(\n",
    "            len(data['train']['pos']), len(data['train']['neg']),\n",
    "            len(data['test']['pos']), len(data['test']['neg'])))"
   ]
  },
  {
   "cell_type": "code",
   "execution_count": 4,
   "metadata": {},
   "outputs": [],
   "source": [
    "from sklearn.utils import shuffle\n",
    "\n",
    "def prepare_imdb_data(data, labels):\n",
    "    \"\"\"Prepare training and test sets from IMDb movie reviews.\"\"\"\n",
    "    \n",
    "    #Combine positive and negative reviews and labels\n",
    "    data_train = data['train']['pos'] + data['train']['neg']\n",
    "    data_test = data['test']['pos'] + data['test']['neg']\n",
    "    labels_train = labels['train']['pos'] + labels['train']['neg']\n",
    "    labels_test = labels['test']['pos'] + labels['test']['neg']\n",
    "    \n",
    "    #Shuffle reviews and corresponding labels within training and test sets\n",
    "    data_train, labels_train = shuffle(data_train, labels_train)\n",
    "    data_test, labels_test = shuffle(data_test, labels_test)\n",
    "    \n",
    "    # Return a unified training data, test data, training labels, test labets\n",
    "    return data_train, data_test, labels_train, labels_test"
   ]
  },
  {
   "cell_type": "code",
   "execution_count": 5,
   "metadata": {},
   "outputs": [
    {
     "name": "stdout",
     "output_type": "stream",
     "text": [
      "IMDb reviews (combined): train = 25000, test = 25000\n"
     ]
    }
   ],
   "source": [
    "train_X, test_X, train_y, test_y = prepare_imdb_data(data, labels)\n",
    "print(\"IMDb reviews (combined): train = {}, test = {}\".format(len(train_X), len(test_X)))"
   ]
  },
  {
   "cell_type": "code",
   "execution_count": 6,
   "metadata": {},
   "outputs": [
    {
     "data": {
      "text/plain": [
       "'I will admit that I\\'m only a college student at this present time, an English major at that. At the time I saw this film I was a high school student--I want to say junior year but it may have been senior, hard to remember. My experience with quantum physics goes pretty much to my honors physics course, an interest in quantum mechanics that has led me to read up on the subject in a number of books on the theoretical aspects of the field as well as any article I can find in Discover and the like. I\\'m not a PhD by any means.<br /><br />That said...<br /><br />This movie is simply terrible. It\\'s designed to appeal to the scientific mind of the average New Age guru who desperately wants to believe in how special everybody is. My mother is such a person and ever since she\\'s seen this movie she\\'s tried to get all her friends to see it and bought a copy of the film. I attempted to point out the various flaws and problems I\\'d seen with the films logic and science--and they are numerous--and she dismissed my claims because \"oh, so a high school student knows more than all those people with PhDs.\" In this case, apparently so.<br /><br />Leaving behind the fact that earning a PhD doesn\\'t necessarily require that a person be correct or, in fact, intelligent. Leaving behind the fact that my basic understanding of physics is enough to debunk half the film. Leaving that behind, the film makers completely manipulated their interviews with at least one of the participants to make it appear that he supported their beliefs when, in fact, he completely opposed them.<br /><br />I could go on and on but I think intuitor did a really good job of debunking the film so feel free to read that if you care to do so.<br /><br />http://www.intuitor.com/moviephysics/bleep.html'"
      ]
     },
     "execution_count": 6,
     "metadata": {},
     "output_type": "execute_result"
    }
   ],
   "source": [
    "train_X[100]"
   ]
  },
  {
   "cell_type": "markdown",
   "metadata": {},
   "source": [
    "## Processing the data\n",
    "\n",
    "Now that we have our training and testing datasets merged and ready to use, we need to start processing the raw data into something that will be useable by our machine learning algorithm. To begin with, we remove any html formatting and any non-alpha numeric characters that may appear in the reviews. We will do this in a very simplistic way using Python's regular expression module. We will discuss the reason for this rather simplistic pre-processing later on."
   ]
  },
  {
   "cell_type": "code",
   "execution_count": 7,
   "metadata": {},
   "outputs": [],
   "source": [
    "import re\n",
    "\n",
    "REPLACE_NO_SPACE = re.compile(\"(\\.)|(\\;)|(\\:)|(\\!)|(\\')|(\\?)|(\\,)|(\\\")|(\\()|(\\))|(\\[)|(\\])\")\n",
    "REPLACE_WITH_SPACE = re.compile(\"(<br\\s*/><br\\s*/>)|(\\-)|(\\/)\")\n",
    "\n",
    "def review_to_words(review):\n",
    "    words = REPLACE_NO_SPACE.sub(\"\", review.lower())\n",
    "    words = REPLACE_WITH_SPACE.sub(\" \", words)\n",
    "    return words"
   ]
  },
  {
   "cell_type": "code",
   "execution_count": 8,
   "metadata": {},
   "outputs": [
    {
     "data": {
      "text/plain": [
       "'i will admit that im only a college student at this present time an english major at that at the time i saw this film i was a high school student  i want to say junior year but it may have been senior hard to remember my experience with quantum physics goes pretty much to my honors physics course an interest in quantum mechanics that has led me to read up on the subject in a number of books on the theoretical aspects of the field as well as any article i can find in discover and the like im not a phd by any means that said this movie is simply terrible its designed to appeal to the scientific mind of the average new age guru who desperately wants to believe in how special everybody is my mother is such a person and ever since shes seen this movie shes tried to get all her friends to see it and bought a copy of the film i attempted to point out the various flaws and problems id seen with the films logic and science  and they are numerous  and she dismissed my claims because oh so a high school student knows more than all those people with phds in this case apparently so leaving behind the fact that earning a phd doesnt necessarily require that a person be correct or in fact intelligent leaving behind the fact that my basic understanding of physics is enough to debunk half the film leaving that behind the film makers completely manipulated their interviews with at least one of the participants to make it appear that he supported their beliefs when in fact he completely opposed them i could go on and on but i think intuitor did a really good job of debunking the film so feel free to read that if you care to do so http  wwwintuitorcom moviephysics bleephtml'"
      ]
     },
     "execution_count": 8,
     "metadata": {},
     "output_type": "execute_result"
    }
   ],
   "source": [
    "review_to_words(train_X[100])"
   ]
  },
  {
   "cell_type": "code",
   "execution_count": 9,
   "metadata": {},
   "outputs": [],
   "source": [
    "import pickle\n",
    "\n",
    "cache_dir = os.path.join(\"../cache\", \"sentiment_web_app\")  # where to store cache files\n",
    "os.makedirs(cache_dir, exist_ok=True)  # ensure cache directory exists\n",
    "\n",
    "def preprocess_data(data_train, data_test, labels_train, labels_test,\n",
    "                    cache_dir=cache_dir, cache_file=\"preprocessed_data.pkl\"):\n",
    "    \"\"\"Convert each review to words; read from cache if available.\"\"\"\n",
    "\n",
    "    # If cache_file is not None, try to read from it first\n",
    "    cache_data = None\n",
    "    if cache_file is not None:\n",
    "        try:\n",
    "            with open(os.path.join(cache_dir, cache_file), \"rb\") as f:\n",
    "                cache_data = pickle.load(f)\n",
    "            print(\"Read preprocessed data from cache file:\", cache_file)\n",
    "        except:\n",
    "            pass  # unable to read from cache, but that's okay\n",
    "    \n",
    "    # If cache is missing, then do the heavy lifting\n",
    "    if cache_data is None:\n",
    "        # Preprocess training and test data to obtain words for each review\n",
    "        #words_train = list(map(review_to_words, data_train))\n",
    "        #words_test = list(map(review_to_words, data_test))\n",
    "        words_train = [review_to_words(review) for review in data_train]\n",
    "        words_test = [review_to_words(review) for review in data_test]\n",
    "        \n",
    "        # Write to cache file for future runs\n",
    "        if cache_file is not None:\n",
    "            cache_data = dict(words_train=words_train, words_test=words_test,\n",
    "                              labels_train=labels_train, labels_test=labels_test)\n",
    "            with open(os.path.join(cache_dir, cache_file), \"wb\") as f:\n",
    "                pickle.dump(cache_data, f)\n",
    "            print(\"Wrote preprocessed data to cache file:\", cache_file)\n",
    "    else:\n",
    "        # Unpack data loaded from cache file\n",
    "        words_train, words_test, labels_train, labels_test = (cache_data['words_train'],\n",
    "                cache_data['words_test'], cache_data['labels_train'], cache_data['labels_test'])\n",
    "    \n",
    "    return words_train, words_test, labels_train, labels_test"
   ]
  },
  {
   "cell_type": "code",
   "execution_count": 10,
   "metadata": {},
   "outputs": [
    {
     "name": "stdout",
     "output_type": "stream",
     "text": [
      "Wrote preprocessed data to cache file: preprocessed_data.pkl\n"
     ]
    }
   ],
   "source": [
    "# Preprocess data\n",
    "train_X, test_X, train_y, test_y = preprocess_data(train_X, test_X, train_y, test_y)"
   ]
  },
  {
   "cell_type": "markdown",
   "metadata": {},
   "source": [
    "### Extract Bag-of-Words features\n",
    "\n",
    "For the model we will be implementing, rather than using the reviews directly, we are going to transform each review into a Bag-of-Words feature representation. Keep in mind that 'in the wild' we will only have access to the training set so our transformer can only use the training set to construct a representation."
   ]
  },
  {
   "cell_type": "code",
   "execution_count": 11,
   "metadata": {},
   "outputs": [],
   "source": [
    "import numpy as np\n",
    "from sklearn.feature_extraction.text import CountVectorizer\n",
    "\n",
    "# sklearn.externals.joblib is deprecated in 0.21 and will be removed in 0.23. \n",
    "# from sklearn.externals import joblib\n",
    "\n",
    "# Import joblib package directly\n",
    "import joblib\n",
    "# joblib is an enhanced version of pickle that is more efficient for storing NumPy arrays\n",
    "\n",
    "def extract_BoW_features(words_train, words_test, vocabulary_size=5000,\n",
    "                         cache_dir=cache_dir, cache_file=\"bow_features.pkl\"):\n",
    "    \"\"\"Extract Bag-of-Words for a given set of documents, already preprocessed into words.\"\"\"\n",
    "    \n",
    "    # If cache_file is not None, try to read from it first\n",
    "    cache_data = None\n",
    "    if cache_file is not None:\n",
    "        try:\n",
    "            with open(os.path.join(cache_dir, cache_file), \"rb\") as f:\n",
    "                cache_data = joblib.load(f)\n",
    "            print(\"Read features from cache file:\", cache_file)\n",
    "        except:\n",
    "            pass  # unable to read from cache, but that's okay\n",
    "    \n",
    "    # If cache is missing, then do the heavy lifting\n",
    "    if cache_data is None:\n",
    "        # Fit a vectorizer to training documents and use it to transform them\n",
    "        # NOTE: Training documents have already been preprocessed and tokenized into words;\n",
    "        #       pass in dummy functions to skip those steps, e.g. preprocessor=lambda x: x\n",
    "        vectorizer = CountVectorizer(max_features=vocabulary_size)\n",
    "        features_train = vectorizer.fit_transform(words_train).toarray()\n",
    "\n",
    "        # Apply the same vectorizer to transform the test documents (ignore unknown words)\n",
    "        features_test = vectorizer.transform(words_test).toarray()\n",
    "        \n",
    "        # NOTE: Remember to convert the features using .toarray() for a compact representation\n",
    "        \n",
    "        # Write to cache file for future runs (store vocabulary as well)\n",
    "        if cache_file is not None:\n",
    "            vocabulary = vectorizer.vocabulary_\n",
    "            cache_data = dict(features_train=features_train, features_test=features_test,\n",
    "                             vocabulary=vocabulary)\n",
    "            with open(os.path.join(cache_dir, cache_file), \"wb\") as f:\n",
    "                joblib.dump(cache_data, f)\n",
    "            print(\"Wrote features to cache file:\", cache_file)\n",
    "    else:\n",
    "        # Unpack data loaded from cache file\n",
    "        features_train, features_test, vocabulary = (cache_data['features_train'],\n",
    "                cache_data['features_test'], cache_data['vocabulary'])\n",
    "    \n",
    "    # Return both the extracted features as well as the vocabulary\n",
    "    return features_train, features_test, vocabulary"
   ]
  },
  {
   "cell_type": "code",
   "execution_count": 12,
   "metadata": {},
   "outputs": [
    {
     "name": "stdout",
     "output_type": "stream",
     "text": [
      "Wrote features to cache file: bow_features.pkl\n"
     ]
    }
   ],
   "source": [
    "# Extract Bag of Words features for both training and test datasets\n",
    "train_X, test_X, vocabulary = extract_BoW_features(train_X, test_X)"
   ]
  },
  {
   "cell_type": "code",
   "execution_count": 14,
   "metadata": {},
   "outputs": [
    {
     "data": {
      "text/plain": [
       "5000"
      ]
     },
     "execution_count": 14,
     "metadata": {},
     "output_type": "execute_result"
    }
   ],
   "source": [
    "len(train_X[1])"
   ]
  },
  {
   "cell_type": "markdown",
   "metadata": {},
   "source": [
    "## Step 3: Upload data to S3\n",
    "\n",
    "Now that we have created the feature representation of our training (and testing) data, it is time to start setting up and using the XGBoost classifier provided by SageMaker.\n",
    "\n",
    "### Writing the datasets\n",
    "\n",
    "The XGBoost classifier that we will be using requires the dataset to be written to a file and stored using Amazon S3. To do this, we will start by splitting the training dataset into two parts, the data we will train the model with and a validation set. Then, we will write those datasets to a file locally and then upload the files to S3. In addition, we will write the test set to a file and upload that file to S3. This is so that we can use SageMakers Batch Transform functionality to test our model once we've fit it."
   ]
  },
  {
   "cell_type": "code",
   "execution_count": 15,
   "metadata": {},
   "outputs": [],
   "source": [
    "import pandas as pd\n",
    "\n",
    "# Earlier we shuffled the training dataset so to make things simple we can just assign\n",
    "# the first 10 000 reviews to the validation set and use the remaining reviews for training.\n",
    "val_X = pd.DataFrame(train_X[:10000])\n",
    "train_X = pd.DataFrame(train_X[10000:])\n",
    "\n",
    "val_y = pd.DataFrame(train_y[:10000])\n",
    "train_y = pd.DataFrame(train_y[10000:])"
   ]
  },
  {
   "cell_type": "markdown",
   "metadata": {},
   "source": [
    "The documentation for the XGBoost algorithm in SageMaker requires that the training and validation datasets should contain no headers or index and that the label should occur first for each sample.\n",
    "\n",
    "For more information about this and other algorithms, the SageMaker developer documentation can be found on __[Amazon's website.](https://docs.aws.amazon.com/sagemaker/latest/dg/)__"
   ]
  },
  {
   "cell_type": "code",
   "execution_count": 16,
   "metadata": {},
   "outputs": [],
   "source": [
    "# First we make sure that the local directory in which we'd like to store the training and validation csv files exists.\n",
    "data_dir = '../data/sentiment_web_app'\n",
    "if not os.path.exists(data_dir):\n",
    "    os.makedirs(data_dir)"
   ]
  },
  {
   "cell_type": "code",
   "execution_count": 17,
   "metadata": {},
   "outputs": [],
   "source": [
    "pd.DataFrame(test_X).to_csv(os.path.join(data_dir, 'test.csv'), header=False, index=False)\n",
    "\n",
    "pd.concat([val_y, val_X], axis=1).to_csv(os.path.join(data_dir, 'validation.csv'), header=False, index=False)\n",
    "pd.concat([train_y, train_X], axis=1).to_csv(os.path.join(data_dir, 'train.csv'), header=False, index=False)"
   ]
  },
  {
   "cell_type": "code",
   "execution_count": 18,
   "metadata": {},
   "outputs": [],
   "source": [
    "# To save a bit of memory we can set text_X, train_X, val_X, train_y and val_y to None.\n",
    "\n",
    "test_X = train_X = val_X = train_y = val_y = None"
   ]
  },
  {
   "cell_type": "markdown",
   "metadata": {},
   "source": [
    "### Uploading Training / Validation files to S3\n",
    "\n",
    "Amazon's S3 service allows us to store files that can be accessed by both the built-in training models such as the XGBoost model we will be using as well as custom models such as the one we will see a little later.\n",
    "\n",
    "For this and most other tasks we will be doing using SageMaker, there are two methods we could use. The first is to use the low level functionality of SageMaker which requires knowing each of the objects involved in the SageMaker environment. The second is to use the high level functionality in which certain choices have been made on the user's behalf. The low level approach benefits from allowing the user a great deal of flexibility while the high level approach makes development much quicker. For our purposes we will opt to use the high level approach although using the low-level approach is certainly an option.\n",
    "\n",
    "Recall the method `upload_data()` which is a member of the object representing our current SageMaker session. What this method does is upload the data to the default bucket (which is created if it does not exist) into the path described by the key_prefix variable. To see this for yourself, once you have uploaded the data files, go to the S3 console and look to see where the files have been uploaded.\n",
    "\n",
    "For additional resources, see the __[SageMaker API documentation](http://sagemaker.readthedocs.io/en/latest/)__ and in addition the __[SageMaker Developer Guide.](https://docs.aws.amazon.com/sagemaker/latest/dg/)__"
   ]
  },
  {
   "cell_type": "code",
   "execution_count": 19,
   "metadata": {},
   "outputs": [],
   "source": [
    "import sagemaker\n",
    "\n",
    "session = sagemaker.Session() # Store the current SageMaker session\n",
    "\n",
    "# S3 prefix (which folder will we use)\n",
    "prefix = 'sentiment-web-app'\n",
    "\n",
    "test_location = session.upload_data(os.path.join(data_dir, 'test.csv'), key_prefix=prefix)\n",
    "val_location = session.upload_data(os.path.join(data_dir, 'validation.csv'), key_prefix=prefix)\n",
    "train_location = session.upload_data(os.path.join(data_dir, 'train.csv'), key_prefix=prefix)"
   ]
  },
  {
   "cell_type": "markdown",
   "metadata": {},
   "source": [
    "## Step 4: Creating the XGBoost model\n",
    "\n",
    "Now that the data has been uploaded it is time to create the XGBoost model. To begin with, we need to do some setup. At this point it is worth discussing what a model is in SageMaker. It is easiest to think of a model of comprising three different objects in the SageMaker ecosystem, which interact with one another.\n",
    "\n",
    "- Model Artifacts\n",
    "- Training Code (Container)\n",
    "- Inference Code (Container)\n",
    "\n",
    "The Model Artifacts are what you might think of as the actual model itself. For example, if you were building a neural network, the model artifacts would be the weights of the various layers. In our case, for an XGBoost model, the artifacts are the actual trees that are created during training.\n",
    "\n",
    "The other two objects, the training code and the inference code are then used to manipulate the training artifacts. More precisely, the training code uses the training data that is provided and creates the model artifacts, while the inference code uses the model artifacts to make predictions on new data.\n",
    "\n",
    "The way that SageMaker runs the training and inference code is by making use of Docker containers. For now, think of a container as being a way of packaging code up so that dependencies aren't an issue."
   ]
  },
  {
   "cell_type": "code",
   "execution_count": 20,
   "metadata": {},
   "outputs": [],
   "source": [
    "from sagemaker import get_execution_role\n",
    "\n",
    "# Our current execution role is required when creating the model as the training\n",
    "# and inference code will need to access the model artifacts.\n",
    "role = get_execution_role()"
   ]
  },
  {
   "cell_type": "code",
   "execution_count": 23,
   "metadata": {},
   "outputs": [],
   "source": [
    "# We need to retrieve the location of the container which is provided by Amazon for using XGBoost.\n",
    "# As a matter of convenience, the training and inference code both use the same container.\n",
    "from sagemaker.amazon.amazon_estimator import get_image_uri\n",
    "\n",
    "container = sagemaker.image_uris.retrieve('xgboost', session.boto_region_name, version='latest')\n"
   ]
  },
  {
   "cell_type": "code",
   "execution_count": 24,
   "metadata": {},
   "outputs": [
    {
     "name": "stderr",
     "output_type": "stream",
     "text": [
      "train_instance_count has been renamed in sagemaker>=2.\n",
      "See: https://sagemaker.readthedocs.io/en/stable/v2.html for details.\n",
      "train_instance_type has been renamed in sagemaker>=2.\n",
      "See: https://sagemaker.readthedocs.io/en/stable/v2.html for details.\n"
     ]
    }
   ],
   "source": [
    "# First we create a SageMaker estimator object for our model.\n",
    "xgb = sagemaker.estimator.Estimator(container, # The location of the container we wish to use\n",
    "                                    role,                                    # What is our current IAM Role\n",
    "                                    train_instance_count=1,                  # How many compute instances\n",
    "                                    train_instance_type='ml.m4.xlarge',      # What kind of compute instances\n",
    "                                    output_path='s3://{}/{}/output'.format(session.default_bucket(), prefix),\n",
    "                                    sagemaker_session=session)\n",
    "\n",
    "# And then set the algorithm specific parameters.\n",
    "xgb.set_hyperparameters(max_depth=5,\n",
    "                        eta=0.2,\n",
    "                        gamma=4,\n",
    "                        min_child_weight=6,\n",
    "                        subsample=0.8,\n",
    "                        silent=0,\n",
    "                        objective='binary:logistic',\n",
    "                        early_stopping_rounds=10,\n",
    "                        num_round=500)"
   ]
  },
  {
   "cell_type": "markdown",
   "metadata": {},
   "source": [
    "### Fit the XGBoost model\n",
    "\n",
    "Now that our model has been set up we simply need to attach the training and validation datasets and then ask SageMaker to set up the computation."
   ]
  },
  {
   "cell_type": "code",
   "execution_count": 26,
   "metadata": {},
   "outputs": [],
   "source": [
    "s3_input_train = sagemaker.inputs.TrainingInput(s3_data=train_location, content_type='csv')\n",
    "s3_input_validation = sagemaker.inputs.TrainingInput(s3_data=val_location, content_type='csv')"
   ]
  },
  {
   "cell_type": "code",
   "execution_count": 27,
   "metadata": {},
   "outputs": [
    {
     "name": "stdout",
     "output_type": "stream",
     "text": [
      "2020-11-07 11:17:37 Starting - Starting the training job...\n",
      "2020-11-07 11:17:39 Starting - Launching requested ML instances......\n",
      "2020-11-07 11:18:43 Starting - Preparing the instances for training............\n",
      "2020-11-07 11:20:58 Downloading - Downloading input data...\n",
      "2020-11-07 11:21:33 Training - Training image download completed. Training in progress..\u001b[34mArguments: train\u001b[0m\n",
      "\u001b[34m[2020-11-07:11:21:34:INFO] Running standalone xgboost training.\u001b[0m\n",
      "\u001b[34m[2020-11-07:11:21:34:INFO] File size need to be processed in the node: 238.5mb. Available memory size in the node: 8476.72mb\u001b[0m\n",
      "\u001b[34m[2020-11-07:11:21:34:INFO] Determined delimiter of CSV input is ','\u001b[0m\n",
      "\u001b[34m[11:21:34] S3DistributionType set as FullyReplicated\u001b[0m\n",
      "\u001b[34m[11:21:36] 15000x5000 matrix with 75000000 entries loaded from /opt/ml/input/data/train?format=csv&label_column=0&delimiter=,\u001b[0m\n",
      "\u001b[34m[2020-11-07:11:21:36:INFO] Determined delimiter of CSV input is ','\u001b[0m\n",
      "\u001b[34m[11:21:36] S3DistributionType set as FullyReplicated\u001b[0m\n",
      "\u001b[34m[11:21:37] 10000x5000 matrix with 50000000 entries loaded from /opt/ml/input/data/validation?format=csv&label_column=0&delimiter=,\u001b[0m\n",
      "\u001b[34m[11:21:40] src/tree/updater_prune.cc:74: tree pruning end, 1 roots, 42 extra nodes, 8 pruned nodes, max_depth=5\u001b[0m\n",
      "\u001b[34m[0]#011train-error:0.311533#011validation-error:0.3073\u001b[0m\n",
      "\u001b[34mMultiple eval metrics have been passed: 'validation-error' will be used for early stopping.\n",
      "\u001b[0m\n",
      "\u001b[34mWill train until validation-error hasn't improved in 10 rounds.\u001b[0m\n",
      "\u001b[34m[11:21:42] src/tree/updater_prune.cc:74: tree pruning end, 1 roots, 42 extra nodes, 2 pruned nodes, max_depth=5\u001b[0m\n",
      "\u001b[34m[1]#011train-error:0.3104#011validation-error:0.3011\u001b[0m\n",
      "\u001b[34m[11:21:43] src/tree/updater_prune.cc:74: tree pruning end, 1 roots, 40 extra nodes, 6 pruned nodes, max_depth=5\u001b[0m\n",
      "\u001b[34m[2]#011train-error:0.2822#011validation-error:0.2865\u001b[0m\n",
      "\u001b[34m[11:21:45] src/tree/updater_prune.cc:74: tree pruning end, 1 roots, 44 extra nodes, 0 pruned nodes, max_depth=5\u001b[0m\n",
      "\u001b[34m[3]#011train-error:0.2712#011validation-error:0.2745\u001b[0m\n",
      "\u001b[34m[11:21:46] src/tree/updater_prune.cc:74: tree pruning end, 1 roots, 34 extra nodes, 2 pruned nodes, max_depth=5\u001b[0m\n",
      "\u001b[34m[4]#011train-error:0.262933#011validation-error:0.2697\u001b[0m\n",
      "\u001b[34m[11:21:47] src/tree/updater_prune.cc:74: tree pruning end, 1 roots, 44 extra nodes, 4 pruned nodes, max_depth=5\u001b[0m\n",
      "\u001b[34m[5]#011train-error:0.255933#011validation-error:0.262\u001b[0m\n",
      "\u001b[34m[11:21:48] src/tree/updater_prune.cc:74: tree pruning end, 1 roots, 22 extra nodes, 8 pruned nodes, max_depth=5\u001b[0m\n",
      "\u001b[34m[6]#011train-error:0.248533#011validation-error:0.252\u001b[0m\n",
      "\u001b[34m[11:21:50] src/tree/updater_prune.cc:74: tree pruning end, 1 roots, 34 extra nodes, 12 pruned nodes, max_depth=5\u001b[0m\n",
      "\u001b[34m[7]#011train-error:0.2442#011validation-error:0.2503\u001b[0m\n",
      "\u001b[34m[11:21:51] src/tree/updater_prune.cc:74: tree pruning end, 1 roots, 30 extra nodes, 4 pruned nodes, max_depth=5\u001b[0m\n",
      "\u001b[34m[8]#011train-error:0.240867#011validation-error:0.2487\u001b[0m\n",
      "\u001b[34m[11:21:52] src/tree/updater_prune.cc:74: tree pruning end, 1 roots, 26 extra nodes, 12 pruned nodes, max_depth=5\u001b[0m\n",
      "\u001b[34m[9]#011train-error:0.232267#011validation-error:0.2408\u001b[0m\n",
      "\u001b[34m[11:21:54] src/tree/updater_prune.cc:74: tree pruning end, 1 roots, 36 extra nodes, 6 pruned nodes, max_depth=5\u001b[0m\n",
      "\u001b[34m[10]#011train-error:0.227667#011validation-error:0.2357\u001b[0m\n",
      "\u001b[34m[11:21:55] src/tree/updater_prune.cc:74: tree pruning end, 1 roots, 28 extra nodes, 6 pruned nodes, max_depth=5\u001b[0m\n",
      "\u001b[34m[11]#011train-error:0.2216#011validation-error:0.2281\u001b[0m\n",
      "\u001b[34m[11:21:56] src/tree/updater_prune.cc:74: tree pruning end, 1 roots, 28 extra nodes, 4 pruned nodes, max_depth=5\u001b[0m\n",
      "\u001b[34m[12]#011train-error:0.214667#011validation-error:0.2252\u001b[0m\n",
      "\u001b[34m[11:21:57] src/tree/updater_prune.cc:74: tree pruning end, 1 roots, 40 extra nodes, 4 pruned nodes, max_depth=5\u001b[0m\n",
      "\u001b[34m[13]#011train-error:0.209733#011validation-error:0.2242\u001b[0m\n",
      "\u001b[34m[11:21:59] src/tree/updater_prune.cc:74: tree pruning end, 1 roots, 22 extra nodes, 12 pruned nodes, max_depth=5\u001b[0m\n",
      "\u001b[34m[14]#011train-error:0.206667#011validation-error:0.2231\u001b[0m\n",
      "\u001b[34m[11:22:00] src/tree/updater_prune.cc:74: tree pruning end, 1 roots, 22 extra nodes, 6 pruned nodes, max_depth=5\u001b[0m\n",
      "\u001b[34m[15]#011train-error:0.2022#011validation-error:0.2159\u001b[0m\n",
      "\u001b[34m[11:22:01] src/tree/updater_prune.cc:74: tree pruning end, 1 roots, 22 extra nodes, 12 pruned nodes, max_depth=5\u001b[0m\n",
      "\u001b[34m[16]#011train-error:0.2004#011validation-error:0.2135\u001b[0m\n",
      "\u001b[34m[11:22:03] src/tree/updater_prune.cc:74: tree pruning end, 1 roots, 40 extra nodes, 6 pruned nodes, max_depth=5\u001b[0m\n",
      "\u001b[34m[17]#011train-error:0.194333#011validation-error:0.2107\u001b[0m\n",
      "\u001b[34m[11:22:04] src/tree/updater_prune.cc:74: tree pruning end, 1 roots, 28 extra nodes, 16 pruned nodes, max_depth=5\u001b[0m\n",
      "\u001b[34m[18]#011train-error:0.1908#011validation-error:0.2106\u001b[0m\n",
      "\u001b[34m[11:22:05] src/tree/updater_prune.cc:74: tree pruning end, 1 roots, 26 extra nodes, 10 pruned nodes, max_depth=5\u001b[0m\n",
      "\u001b[34m[19]#011train-error:0.1892#011validation-error:0.209\u001b[0m\n",
      "\u001b[34m[11:22:06] src/tree/updater_prune.cc:74: tree pruning end, 1 roots, 24 extra nodes, 4 pruned nodes, max_depth=5\u001b[0m\n",
      "\u001b[34m[20]#011train-error:0.188#011validation-error:0.2085\u001b[0m\n",
      "\u001b[34m[11:22:08] src/tree/updater_prune.cc:74: tree pruning end, 1 roots, 24 extra nodes, 16 pruned nodes, max_depth=5\u001b[0m\n",
      "\u001b[34m[21]#011train-error:0.184267#011validation-error:0.2068\u001b[0m\n",
      "\u001b[34m[11:22:09] src/tree/updater_prune.cc:74: tree pruning end, 1 roots, 34 extra nodes, 10 pruned nodes, max_depth=5\u001b[0m\n",
      "\u001b[34m[22]#011train-error:0.180867#011validation-error:0.2025\u001b[0m\n",
      "\u001b[34m[11:22:10] src/tree/updater_prune.cc:74: tree pruning end, 1 roots, 18 extra nodes, 6 pruned nodes, max_depth=5\u001b[0m\n",
      "\u001b[34m[23]#011train-error:0.179667#011validation-error:0.202\u001b[0m\n",
      "\u001b[34m[11:22:11] src/tree/updater_prune.cc:74: tree pruning end, 1 roots, 26 extra nodes, 4 pruned nodes, max_depth=5\u001b[0m\n",
      "\u001b[34m[24]#011train-error:0.1772#011validation-error:0.1984\u001b[0m\n",
      "\u001b[34m[11:22:13] src/tree/updater_prune.cc:74: tree pruning end, 1 roots, 16 extra nodes, 8 pruned nodes, max_depth=5\u001b[0m\n",
      "\u001b[34m[25]#011train-error:0.177867#011validation-error:0.198\u001b[0m\n",
      "\u001b[34m[11:22:14] src/tree/updater_prune.cc:74: tree pruning end, 1 roots, 28 extra nodes, 6 pruned nodes, max_depth=5\u001b[0m\n",
      "\u001b[34m[26]#011train-error:0.177067#011validation-error:0.1959\u001b[0m\n",
      "\u001b[34m[11:22:15] src/tree/updater_prune.cc:74: tree pruning end, 1 roots, 26 extra nodes, 8 pruned nodes, max_depth=5\u001b[0m\n",
      "\u001b[34m[27]#011train-error:0.172933#011validation-error:0.1941\u001b[0m\n",
      "\u001b[34m[11:22:17] src/tree/updater_prune.cc:74: tree pruning end, 1 roots, 32 extra nodes, 6 pruned nodes, max_depth=5\u001b[0m\n",
      "\u001b[34m[28]#011train-error:0.170667#011validation-error:0.1924\u001b[0m\n",
      "\u001b[34m[11:22:18] src/tree/updater_prune.cc:74: tree pruning end, 1 roots, 28 extra nodes, 12 pruned nodes, max_depth=5\u001b[0m\n",
      "\u001b[34m[29]#011train-error:0.168667#011validation-error:0.1914\u001b[0m\n",
      "\u001b[34m[11:22:19] src/tree/updater_prune.cc:74: tree pruning end, 1 roots, 18 extra nodes, 10 pruned nodes, max_depth=5\u001b[0m\n",
      "\u001b[34m[30]#011train-error:0.166467#011validation-error:0.1899\u001b[0m\n",
      "\u001b[34m[11:22:20] src/tree/updater_prune.cc:74: tree pruning end, 1 roots, 36 extra nodes, 6 pruned nodes, max_depth=5\u001b[0m\n",
      "\u001b[34m[31]#011train-error:0.163667#011validation-error:0.1882\u001b[0m\n",
      "\u001b[34m[11:22:22] src/tree/updater_prune.cc:74: tree pruning end, 1 roots, 16 extra nodes, 8 pruned nodes, max_depth=5\u001b[0m\n",
      "\u001b[34m[32]#011train-error:0.161267#011validation-error:0.189\u001b[0m\n",
      "\u001b[34m[11:22:23] src/tree/updater_prune.cc:74: tree pruning end, 1 roots, 44 extra nodes, 8 pruned nodes, max_depth=5\u001b[0m\n",
      "\u001b[34m[33]#011train-error:0.158667#011validation-error:0.1874\u001b[0m\n",
      "\u001b[34m[11:22:24] src/tree/updater_prune.cc:74: tree pruning end, 1 roots, 42 extra nodes, 10 pruned nodes, max_depth=5\u001b[0m\n",
      "\u001b[34m[34]#011train-error:0.158067#011validation-error:0.1848\u001b[0m\n",
      "\u001b[34m[11:22:25] src/tree/updater_prune.cc:74: tree pruning end, 1 roots, 24 extra nodes, 8 pruned nodes, max_depth=5\u001b[0m\n",
      "\u001b[34m[35]#011train-error:0.156267#011validation-error:0.1849\u001b[0m\n",
      "\u001b[34m[11:22:27] src/tree/updater_prune.cc:74: tree pruning end, 1 roots, 16 extra nodes, 14 pruned nodes, max_depth=5\u001b[0m\n",
      "\u001b[34m[36]#011train-error:0.156067#011validation-error:0.1841\u001b[0m\n",
      "\u001b[34m[11:22:28] src/tree/updater_prune.cc:74: tree pruning end, 1 roots, 26 extra nodes, 8 pruned nodes, max_depth=5\u001b[0m\n",
      "\u001b[34m[37]#011train-error:0.155533#011validation-error:0.1837\u001b[0m\n",
      "\u001b[34m[11:22:29] src/tree/updater_prune.cc:74: tree pruning end, 1 roots, 34 extra nodes, 8 pruned nodes, max_depth=5\u001b[0m\n",
      "\u001b[34m[38]#011train-error:0.152133#011validation-error:0.1823\u001b[0m\n",
      "\u001b[34m[11:22:30] src/tree/updater_prune.cc:74: tree pruning end, 1 roots, 28 extra nodes, 6 pruned nodes, max_depth=5\u001b[0m\n",
      "\u001b[34m[39]#011train-error:0.151#011validation-error:0.181\u001b[0m\n",
      "\u001b[34m[11:22:32] src/tree/updater_prune.cc:74: tree pruning end, 1 roots, 28 extra nodes, 4 pruned nodes, max_depth=5\u001b[0m\n",
      "\u001b[34m[40]#011train-error:0.15#011validation-error:0.1805\u001b[0m\n",
      "\u001b[34m[11:22:33] src/tree/updater_prune.cc:74: tree pruning end, 1 roots, 24 extra nodes, 12 pruned nodes, max_depth=5\u001b[0m\n",
      "\u001b[34m[41]#011train-error:0.148267#011validation-error:0.1798\u001b[0m\n",
      "\u001b[34m[11:22:34] src/tree/updater_prune.cc:74: tree pruning end, 1 roots, 34 extra nodes, 4 pruned nodes, max_depth=5\u001b[0m\n",
      "\u001b[34m[42]#011train-error:0.146#011validation-error:0.1792\u001b[0m\n",
      "\u001b[34m[11:22:35] src/tree/updater_prune.cc:74: tree pruning end, 1 roots, 14 extra nodes, 10 pruned nodes, max_depth=5\u001b[0m\n",
      "\u001b[34m[43]#011train-error:0.144867#011validation-error:0.1794\u001b[0m\n",
      "\u001b[34m[11:22:37] src/tree/updater_prune.cc:74: tree pruning end, 1 roots, 32 extra nodes, 4 pruned nodes, max_depth=5\u001b[0m\n",
      "\u001b[34m[44]#011train-error:0.143733#011validation-error:0.1789\u001b[0m\n",
      "\u001b[34m[11:22:38] src/tree/updater_prune.cc:74: tree pruning end, 1 roots, 28 extra nodes, 8 pruned nodes, max_depth=5\u001b[0m\n",
      "\u001b[34m[45]#011train-error:0.142667#011validation-error:0.1778\u001b[0m\n",
      "\u001b[34m[11:22:39] src/tree/updater_prune.cc:74: tree pruning end, 1 roots, 22 extra nodes, 2 pruned nodes, max_depth=5\u001b[0m\n",
      "\u001b[34m[46]#011train-error:0.1412#011validation-error:0.1774\u001b[0m\n",
      "\u001b[34m[11:22:40] src/tree/updater_prune.cc:74: tree pruning end, 1 roots, 28 extra nodes, 2 pruned nodes, max_depth=5\u001b[0m\n",
      "\u001b[34m[47]#011train-error:0.139133#011validation-error:0.1771\u001b[0m\n",
      "\u001b[34m[11:22:42] src/tree/updater_prune.cc:74: tree pruning end, 1 roots, 30 extra nodes, 6 pruned nodes, max_depth=5\u001b[0m\n",
      "\u001b[34m[48]#011train-error:0.138933#011validation-error:0.1764\u001b[0m\n",
      "\u001b[34m[11:22:43] src/tree/updater_prune.cc:74: tree pruning end, 1 roots, 32 extra nodes, 6 pruned nodes, max_depth=5\u001b[0m\n",
      "\u001b[34m[49]#011train-error:0.1382#011validation-error:0.1746\u001b[0m\n",
      "\u001b[34m[11:22:44] src/tree/updater_prune.cc:74: tree pruning end, 1 roots, 24 extra nodes, 8 pruned nodes, max_depth=5\u001b[0m\n",
      "\u001b[34m[50]#011train-error:0.1362#011validation-error:0.1729\u001b[0m\n",
      "\u001b[34m[11:22:46] src/tree/updater_prune.cc:74: tree pruning end, 1 roots, 26 extra nodes, 6 pruned nodes, max_depth=5\u001b[0m\n",
      "\u001b[34m[51]#011train-error:0.1346#011validation-error:0.173\u001b[0m\n",
      "\u001b[34m[11:22:47] src/tree/updater_prune.cc:74: tree pruning end, 1 roots, 26 extra nodes, 8 pruned nodes, max_depth=5\u001b[0m\n",
      "\u001b[34m[52]#011train-error:0.133933#011validation-error:0.1717\u001b[0m\n",
      "\u001b[34m[11:22:48] src/tree/updater_prune.cc:74: tree pruning end, 1 roots, 12 extra nodes, 8 pruned nodes, max_depth=5\u001b[0m\n",
      "\u001b[34m[53]#011train-error:0.134333#011validation-error:0.1711\u001b[0m\n",
      "\u001b[34m[11:22:49] src/tree/updater_prune.cc:74: tree pruning end, 1 roots, 16 extra nodes, 12 pruned nodes, max_depth=5\u001b[0m\n",
      "\u001b[34m[54]#011train-error:0.133667#011validation-error:0.1692\u001b[0m\n",
      "\u001b[34m[11:22:51] src/tree/updater_prune.cc:74: tree pruning end, 1 roots, 24 extra nodes, 8 pruned nodes, max_depth=5\u001b[0m\n",
      "\u001b[34m[55]#011train-error:0.132333#011validation-error:0.1688\u001b[0m\n",
      "\u001b[34m[11:22:52] src/tree/updater_prune.cc:74: tree pruning end, 1 roots, 26 extra nodes, 4 pruned nodes, max_depth=5\u001b[0m\n",
      "\u001b[34m[56]#011train-error:0.130933#011validation-error:0.1687\u001b[0m\n",
      "\u001b[34m[11:22:53] src/tree/updater_prune.cc:74: tree pruning end, 1 roots, 30 extra nodes, 6 pruned nodes, max_depth=5\u001b[0m\n",
      "\u001b[34m[57]#011train-error:0.130533#011validation-error:0.1687\u001b[0m\n",
      "\u001b[34m[11:22:54] src/tree/updater_prune.cc:74: tree pruning end, 1 roots, 24 extra nodes, 6 pruned nodes, max_depth=5\u001b[0m\n",
      "\u001b[34m[58]#011train-error:0.129733#011validation-error:0.1682\u001b[0m\n",
      "\u001b[34m[11:22:56] src/tree/updater_prune.cc:74: tree pruning end, 1 roots, 28 extra nodes, 10 pruned nodes, max_depth=5\u001b[0m\n",
      "\u001b[34m[59]#011train-error:0.128467#011validation-error:0.166\u001b[0m\n",
      "\u001b[34m[11:22:57] src/tree/updater_prune.cc:74: tree pruning end, 1 roots, 16 extra nodes, 6 pruned nodes, max_depth=5\u001b[0m\n",
      "\u001b[34m[60]#011train-error:0.128133#011validation-error:0.1657\u001b[0m\n",
      "\u001b[34m[11:22:58] src/tree/updater_prune.cc:74: tree pruning end, 1 roots, 16 extra nodes, 14 pruned nodes, max_depth=5\u001b[0m\n",
      "\u001b[34m[61]#011train-error:0.1278#011validation-error:0.1651\u001b[0m\n",
      "\u001b[34m[11:22:59] src/tree/updater_prune.cc:74: tree pruning end, 1 roots, 18 extra nodes, 6 pruned nodes, max_depth=5\u001b[0m\n",
      "\u001b[34m[62]#011train-error:0.127867#011validation-error:0.1646\u001b[0m\n",
      "\u001b[34m[11:23:01] src/tree/updater_prune.cc:74: tree pruning end, 1 roots, 30 extra nodes, 12 pruned nodes, max_depth=5\u001b[0m\n",
      "\u001b[34m[63]#011train-error:0.1252#011validation-error:0.1624\u001b[0m\n",
      "\u001b[34m[11:23:02] src/tree/updater_prune.cc:74: tree pruning end, 1 roots, 14 extra nodes, 12 pruned nodes, max_depth=5\u001b[0m\n",
      "\u001b[34m[64]#011train-error:0.123933#011validation-error:0.1619\u001b[0m\n",
      "\u001b[34m[11:23:03] src/tree/updater_prune.cc:74: tree pruning end, 1 roots, 18 extra nodes, 2 pruned nodes, max_depth=5\u001b[0m\n",
      "\u001b[34m[65]#011train-error:0.123067#011validation-error:0.1614\u001b[0m\n",
      "\u001b[34m[11:23:04] src/tree/updater_prune.cc:74: tree pruning end, 1 roots, 20 extra nodes, 8 pruned nodes, max_depth=5\u001b[0m\n",
      "\u001b[34m[66]#011train-error:0.1232#011validation-error:0.1623\u001b[0m\n",
      "\u001b[34m[11:23:06] src/tree/updater_prune.cc:74: tree pruning end, 1 roots, 16 extra nodes, 4 pruned nodes, max_depth=5\u001b[0m\n",
      "\u001b[34m[67]#011train-error:0.1224#011validation-error:0.1611\u001b[0m\n",
      "\u001b[34m[11:23:07] src/tree/updater_prune.cc:74: tree pruning end, 1 roots, 12 extra nodes, 18 pruned nodes, max_depth=5\u001b[0m\n",
      "\u001b[34m[68]#011train-error:0.1218#011validation-error:0.1622\u001b[0m\n",
      "\u001b[34m[11:23:08] src/tree/updater_prune.cc:74: tree pruning end, 1 roots, 20 extra nodes, 8 pruned nodes, max_depth=5\u001b[0m\n",
      "\u001b[34m[69]#011train-error:0.1204#011validation-error:0.1613\u001b[0m\n",
      "\u001b[34m[11:23:09] src/tree/updater_prune.cc:74: tree pruning end, 1 roots, 18 extra nodes, 8 pruned nodes, max_depth=5\u001b[0m\n",
      "\u001b[34m[70]#011train-error:0.120133#011validation-error:0.1618\u001b[0m\n",
      "\u001b[34m[11:23:11] src/tree/updater_prune.cc:74: tree pruning end, 1 roots, 22 extra nodes, 8 pruned nodes, max_depth=5\u001b[0m\n",
      "\u001b[34m[71]#011train-error:0.118733#011validation-error:0.1612\u001b[0m\n",
      "\u001b[34m[11:23:12] src/tree/updater_prune.cc:74: tree pruning end, 1 roots, 22 extra nodes, 10 pruned nodes, max_depth=5\u001b[0m\n",
      "\u001b[34m[72]#011train-error:0.119#011validation-error:0.1613\u001b[0m\n",
      "\u001b[34m[11:23:13] src/tree/updater_prune.cc:74: tree pruning end, 1 roots, 14 extra nodes, 8 pruned nodes, max_depth=5\u001b[0m\n",
      "\u001b[34m[73]#011train-error:0.118467#011validation-error:0.1604\u001b[0m\n",
      "\u001b[34m[11:23:15] src/tree/updater_prune.cc:74: tree pruning end, 1 roots, 14 extra nodes, 10 pruned nodes, max_depth=5\u001b[0m\n",
      "\u001b[34m[74]#011train-error:0.118533#011validation-error:0.1598\u001b[0m\n",
      "\u001b[34m[11:23:16] src/tree/updater_prune.cc:74: tree pruning end, 1 roots, 18 extra nodes, 16 pruned nodes, max_depth=5\u001b[0m\n",
      "\u001b[34m[75]#011train-error:0.118733#011validation-error:0.1599\u001b[0m\n",
      "\u001b[34m[11:23:17] src/tree/updater_prune.cc:74: tree pruning end, 1 roots, 20 extra nodes, 4 pruned nodes, max_depth=5\u001b[0m\n",
      "\u001b[34m[76]#011train-error:0.1172#011validation-error:0.1596\u001b[0m\n",
      "\u001b[34m[11:23:18] src/tree/updater_prune.cc:74: tree pruning end, 1 roots, 14 extra nodes, 14 pruned nodes, max_depth=5\u001b[0m\n",
      "\u001b[34m[77]#011train-error:0.116933#011validation-error:0.159\u001b[0m\n",
      "\u001b[34m[11:23:20] src/tree/updater_prune.cc:74: tree pruning end, 1 roots, 12 extra nodes, 14 pruned nodes, max_depth=5\u001b[0m\n",
      "\u001b[34m[78]#011train-error:0.1166#011validation-error:0.1581\u001b[0m\n",
      "\u001b[34m[11:23:21] src/tree/updater_prune.cc:74: tree pruning end, 1 roots, 36 extra nodes, 14 pruned nodes, max_depth=5\u001b[0m\n",
      "\u001b[34m[79]#011train-error:0.116533#011validation-error:0.1583\u001b[0m\n",
      "\u001b[34m[11:23:22] src/tree/updater_prune.cc:74: tree pruning end, 1 roots, 18 extra nodes, 12 pruned nodes, max_depth=5\u001b[0m\n",
      "\u001b[34m[80]#011train-error:0.1164#011validation-error:0.1573\u001b[0m\n",
      "\u001b[34m[11:23:23] src/tree/updater_prune.cc:74: tree pruning end, 1 roots, 32 extra nodes, 10 pruned nodes, max_depth=5\u001b[0m\n",
      "\u001b[34m[81]#011train-error:0.115467#011validation-error:0.1575\u001b[0m\n",
      "\u001b[34m[11:23:25] src/tree/updater_prune.cc:74: tree pruning end, 1 roots, 30 extra nodes, 6 pruned nodes, max_depth=5\u001b[0m\n",
      "\u001b[34m[82]#011train-error:0.114#011validation-error:0.1587\u001b[0m\n",
      "\u001b[34m[11:23:26] src/tree/updater_prune.cc:74: tree pruning end, 1 roots, 22 extra nodes, 14 pruned nodes, max_depth=5\u001b[0m\n",
      "\u001b[34m[83]#011train-error:0.112667#011validation-error:0.1576\u001b[0m\n",
      "\u001b[34m[11:23:27] src/tree/updater_prune.cc:74: tree pruning end, 1 roots, 18 extra nodes, 4 pruned nodes, max_depth=5\u001b[0m\n",
      "\u001b[34m[84]#011train-error:0.112667#011validation-error:0.158\u001b[0m\n",
      "\u001b[34m[11:23:28] src/tree/updater_prune.cc:74: tree pruning end, 1 roots, 30 extra nodes, 6 pruned nodes, max_depth=5\u001b[0m\n",
      "\u001b[34m[85]#011train-error:0.111933#011validation-error:0.1568\u001b[0m\n",
      "\u001b[34m[11:23:30] src/tree/updater_prune.cc:74: tree pruning end, 1 roots, 16 extra nodes, 16 pruned nodes, max_depth=5\u001b[0m\n",
      "\u001b[34m[86]#011train-error:0.111333#011validation-error:0.1567\u001b[0m\n",
      "\u001b[34m[11:23:31] src/tree/updater_prune.cc:74: tree pruning end, 1 roots, 14 extra nodes, 6 pruned nodes, max_depth=5\u001b[0m\n",
      "\u001b[34m[87]#011train-error:0.110867#011validation-error:0.1558\u001b[0m\n",
      "\u001b[34m[11:23:32] src/tree/updater_prune.cc:74: tree pruning end, 1 roots, 16 extra nodes, 8 pruned nodes, max_depth=5\u001b[0m\n",
      "\u001b[34m[88]#011train-error:0.110467#011validation-error:0.1557\u001b[0m\n",
      "\u001b[34m[11:23:33] src/tree/updater_prune.cc:74: tree pruning end, 1 roots, 28 extra nodes, 12 pruned nodes, max_depth=5\u001b[0m\n",
      "\u001b[34m[89]#011train-error:0.109133#011validation-error:0.1557\u001b[0m\n",
      "\u001b[34m[11:23:35] src/tree/updater_prune.cc:74: tree pruning end, 1 roots, 32 extra nodes, 14 pruned nodes, max_depth=5\u001b[0m\n",
      "\u001b[34m[90]#011train-error:0.108933#011validation-error:0.1552\u001b[0m\n",
      "\u001b[34m[11:23:36] src/tree/updater_prune.cc:74: tree pruning end, 1 roots, 18 extra nodes, 8 pruned nodes, max_depth=5\u001b[0m\n",
      "\u001b[34m[91]#011train-error:0.1078#011validation-error:0.1553\u001b[0m\n",
      "\u001b[34m[11:23:37] src/tree/updater_prune.cc:74: tree pruning end, 1 roots, 12 extra nodes, 12 pruned nodes, max_depth=5\u001b[0m\n",
      "\u001b[34m[92]#011train-error:0.107867#011validation-error:0.1547\u001b[0m\n",
      "\u001b[34m[11:23:38] src/tree/updater_prune.cc:74: tree pruning end, 1 roots, 16 extra nodes, 6 pruned nodes, max_depth=5\u001b[0m\n",
      "\u001b[34m[93]#011train-error:0.107#011validation-error:0.1547\u001b[0m\n",
      "\u001b[34m[11:23:40] src/tree/updater_prune.cc:74: tree pruning end, 1 roots, 20 extra nodes, 8 pruned nodes, max_depth=5\u001b[0m\n",
      "\u001b[34m[94]#011train-error:0.1066#011validation-error:0.154\u001b[0m\n",
      "\u001b[34m[11:23:41] src/tree/updater_prune.cc:74: tree pruning end, 1 roots, 18 extra nodes, 10 pruned nodes, max_depth=5\u001b[0m\n",
      "\u001b[34m[95]#011train-error:0.105333#011validation-error:0.1536\u001b[0m\n",
      "\u001b[34m[11:23:42] src/tree/updater_prune.cc:74: tree pruning end, 1 roots, 10 extra nodes, 10 pruned nodes, max_depth=5\u001b[0m\n",
      "\u001b[34m[96]#011train-error:0.105733#011validation-error:0.1534\u001b[0m\n",
      "\u001b[34m[11:23:44] src/tree/updater_prune.cc:74: tree pruning end, 1 roots, 24 extra nodes, 10 pruned nodes, max_depth=5\u001b[0m\n",
      "\u001b[34m[97]#011train-error:0.103667#011validation-error:0.1524\u001b[0m\n",
      "\u001b[34m[11:23:45] src/tree/updater_prune.cc:74: tree pruning end, 1 roots, 16 extra nodes, 14 pruned nodes, max_depth=5\u001b[0m\n",
      "\u001b[34m[98]#011train-error:0.104067#011validation-error:0.152\u001b[0m\n",
      "\u001b[34m[11:23:46] src/tree/updater_prune.cc:74: tree pruning end, 1 roots, 20 extra nodes, 8 pruned nodes, max_depth=5\u001b[0m\n",
      "\u001b[34m[99]#011train-error:0.104133#011validation-error:0.1525\u001b[0m\n",
      "\u001b[34m[11:23:47] src/tree/updater_prune.cc:74: tree pruning end, 1 roots, 12 extra nodes, 6 pruned nodes, max_depth=5\u001b[0m\n",
      "\u001b[34m[100]#011train-error:0.104067#011validation-error:0.1515\u001b[0m\n",
      "\u001b[34m[11:23:49] src/tree/updater_prune.cc:74: tree pruning end, 1 roots, 18 extra nodes, 0 pruned nodes, max_depth=5\u001b[0m\n",
      "\u001b[34m[101]#011train-error:0.104067#011validation-error:0.1523\u001b[0m\n",
      "\u001b[34m[11:23:50] src/tree/updater_prune.cc:74: tree pruning end, 1 roots, 16 extra nodes, 4 pruned nodes, max_depth=5\u001b[0m\n",
      "\u001b[34m[102]#011train-error:0.103267#011validation-error:0.1515\u001b[0m\n",
      "\u001b[34m[11:23:51] src/tree/updater_prune.cc:74: tree pruning end, 1 roots, 14 extra nodes, 6 pruned nodes, max_depth=5\u001b[0m\n",
      "\u001b[34m[103]#011train-error:0.102533#011validation-error:0.1508\u001b[0m\n",
      "\u001b[34m[11:23:52] src/tree/updater_prune.cc:74: tree pruning end, 1 roots, 18 extra nodes, 12 pruned nodes, max_depth=5\u001b[0m\n",
      "\u001b[34m[104]#011train-error:0.1024#011validation-error:0.1501\u001b[0m\n",
      "\u001b[34m[11:23:54] src/tree/updater_prune.cc:74: tree pruning end, 1 roots, 26 extra nodes, 12 pruned nodes, max_depth=5\u001b[0m\n",
      "\u001b[34m[105]#011train-error:0.101867#011validation-error:0.1496\u001b[0m\n",
      "\u001b[34m[11:23:55] src/tree/updater_prune.cc:74: tree pruning end, 1 roots, 12 extra nodes, 6 pruned nodes, max_depth=5\u001b[0m\n",
      "\u001b[34m[106]#011train-error:0.101467#011validation-error:0.1493\u001b[0m\n",
      "\u001b[34m[11:23:56] src/tree/updater_prune.cc:74: tree pruning end, 1 roots, 16 extra nodes, 10 pruned nodes, max_depth=5\u001b[0m\n",
      "\u001b[34m[107]#011train-error:0.101267#011validation-error:0.1487\u001b[0m\n",
      "\u001b[34m[11:23:57] src/tree/updater_prune.cc:74: tree pruning end, 1 roots, 12 extra nodes, 12 pruned nodes, max_depth=5\u001b[0m\n",
      "\u001b[34m[108]#011train-error:0.101067#011validation-error:0.149\u001b[0m\n",
      "\u001b[34m[11:23:59] src/tree/updater_prune.cc:74: tree pruning end, 1 roots, 24 extra nodes, 2 pruned nodes, max_depth=5\u001b[0m\n",
      "\u001b[34m[109]#011train-error:0.099533#011validation-error:0.1485\u001b[0m\n",
      "\u001b[34m[11:24:00] src/tree/updater_prune.cc:74: tree pruning end, 1 roots, 14 extra nodes, 8 pruned nodes, max_depth=5\u001b[0m\n",
      "\u001b[34m[110]#011train-error:0.099667#011validation-error:0.149\u001b[0m\n",
      "\u001b[34m[11:24:01] src/tree/updater_prune.cc:74: tree pruning end, 1 roots, 16 extra nodes, 6 pruned nodes, max_depth=5\u001b[0m\n",
      "\u001b[34m[111]#011train-error:0.0994#011validation-error:0.1482\u001b[0m\n",
      "\u001b[34m[11:24:02] src/tree/updater_prune.cc:74: tree pruning end, 1 roots, 16 extra nodes, 6 pruned nodes, max_depth=5\u001b[0m\n",
      "\u001b[34m[112]#011train-error:0.097667#011validation-error:0.147\u001b[0m\n",
      "\u001b[34m[11:24:04] src/tree/updater_prune.cc:74: tree pruning end, 1 roots, 16 extra nodes, 8 pruned nodes, max_depth=5\u001b[0m\n",
      "\u001b[34m[113]#011train-error:0.0974#011validation-error:0.1475\u001b[0m\n",
      "\u001b[34m[11:24:05] src/tree/updater_prune.cc:74: tree pruning end, 1 roots, 24 extra nodes, 4 pruned nodes, max_depth=5\u001b[0m\n",
      "\u001b[34m[114]#011train-error:0.097133#011validation-error:0.1467\u001b[0m\n",
      "\u001b[34m[11:24:06] src/tree/updater_prune.cc:74: tree pruning end, 1 roots, 10 extra nodes, 2 pruned nodes, max_depth=5\u001b[0m\n",
      "\u001b[34m[115]#011train-error:0.096933#011validation-error:0.146\u001b[0m\n",
      "\u001b[34m[11:24:08] src/tree/updater_prune.cc:74: tree pruning end, 1 roots, 14 extra nodes, 8 pruned nodes, max_depth=5\u001b[0m\n",
      "\u001b[34m[116]#011train-error:0.096533#011validation-error:0.1457\u001b[0m\n",
      "\u001b[34m[11:24:09] src/tree/updater_prune.cc:74: tree pruning end, 1 roots, 10 extra nodes, 6 pruned nodes, max_depth=5\u001b[0m\n",
      "\u001b[34m[117]#011train-error:0.0966#011validation-error:0.1454\u001b[0m\n",
      "\u001b[34m[11:24:10] src/tree/updater_prune.cc:74: tree pruning end, 1 roots, 20 extra nodes, 14 pruned nodes, max_depth=5\u001b[0m\n",
      "\u001b[34m[118]#011train-error:0.0958#011validation-error:0.1456\u001b[0m\n",
      "\u001b[34m[11:24:11] src/tree/updater_prune.cc:74: tree pruning end, 1 roots, 22 extra nodes, 8 pruned nodes, max_depth=5\u001b[0m\n",
      "\u001b[34m[119]#011train-error:0.095733#011validation-error:0.145\u001b[0m\n",
      "\u001b[34m[11:24:13] src/tree/updater_prune.cc:74: tree pruning end, 1 roots, 12 extra nodes, 10 pruned nodes, max_depth=5\u001b[0m\n",
      "\u001b[34m[120]#011train-error:0.094667#011validation-error:0.1447\u001b[0m\n",
      "\u001b[34m[11:24:14] src/tree/updater_prune.cc:74: tree pruning end, 1 roots, 20 extra nodes, 14 pruned nodes, max_depth=5\u001b[0m\n",
      "\u001b[34m[121]#011train-error:0.094467#011validation-error:0.1451\u001b[0m\n",
      "\u001b[34m[11:24:15] src/tree/updater_prune.cc:74: tree pruning end, 1 roots, 16 extra nodes, 8 pruned nodes, max_depth=5\u001b[0m\n",
      "\u001b[34m[122]#011train-error:0.0942#011validation-error:0.1451\u001b[0m\n",
      "\u001b[34m[11:24:16] src/tree/updater_prune.cc:74: tree pruning end, 1 roots, 18 extra nodes, 12 pruned nodes, max_depth=5\u001b[0m\n",
      "\u001b[34m[123]#011train-error:0.093667#011validation-error:0.1442\u001b[0m\n",
      "\u001b[34m[11:24:18] src/tree/updater_prune.cc:74: tree pruning end, 1 roots, 20 extra nodes, 4 pruned nodes, max_depth=5\u001b[0m\n",
      "\u001b[34m[124]#011train-error:0.0928#011validation-error:0.1449\u001b[0m\n",
      "\u001b[34m[11:24:19] src/tree/updater_prune.cc:74: tree pruning end, 1 roots, 16 extra nodes, 8 pruned nodes, max_depth=5\u001b[0m\n",
      "\u001b[34m[125]#011train-error:0.092467#011validation-error:0.1435\u001b[0m\n",
      "\u001b[34m[11:24:20] src/tree/updater_prune.cc:74: tree pruning end, 1 roots, 10 extra nodes, 8 pruned nodes, max_depth=5\u001b[0m\n",
      "\u001b[34m[126]#011train-error:0.092333#011validation-error:0.1436\u001b[0m\n",
      "\u001b[34m[11:24:21] src/tree/updater_prune.cc:74: tree pruning end, 1 roots, 16 extra nodes, 0 pruned nodes, max_depth=5\u001b[0m\n",
      "\u001b[34m[127]#011train-error:0.091733#011validation-error:0.1438\u001b[0m\n",
      "\u001b[34m[11:24:23] src/tree/updater_prune.cc:74: tree pruning end, 1 roots, 18 extra nodes, 4 pruned nodes, max_depth=5\u001b[0m\n",
      "\u001b[34m[128]#011train-error:0.091267#011validation-error:0.1437\u001b[0m\n",
      "\u001b[34m[11:24:24] src/tree/updater_prune.cc:74: tree pruning end, 1 roots, 16 extra nodes, 10 pruned nodes, max_depth=5\u001b[0m\n",
      "\u001b[34m[129]#011train-error:0.090667#011validation-error:0.1434\u001b[0m\n",
      "\u001b[34m[11:24:25] src/tree/updater_prune.cc:74: tree pruning end, 1 roots, 14 extra nodes, 6 pruned nodes, max_depth=5\u001b[0m\n",
      "\u001b[34m[130]#011train-error:0.091133#011validation-error:0.1426\u001b[0m\n",
      "\u001b[34m[11:24:27] src/tree/updater_prune.cc:74: tree pruning end, 1 roots, 14 extra nodes, 8 pruned nodes, max_depth=5\u001b[0m\n",
      "\u001b[34m[131]#011train-error:0.090133#011validation-error:0.1423\u001b[0m\n",
      "\u001b[34m[11:24:28] src/tree/updater_prune.cc:74: tree pruning end, 1 roots, 12 extra nodes, 6 pruned nodes, max_depth=5\u001b[0m\n",
      "\u001b[34m[132]#011train-error:0.0904#011validation-error:0.1425\u001b[0m\n",
      "\u001b[34m[11:24:29] src/tree/updater_prune.cc:74: tree pruning end, 1 roots, 24 extra nodes, 8 pruned nodes, max_depth=5\u001b[0m\n",
      "\u001b[34m[133]#011train-error:0.089467#011validation-error:0.1434\u001b[0m\n",
      "\u001b[34m[11:24:30] src/tree/updater_prune.cc:74: tree pruning end, 1 roots, 10 extra nodes, 4 pruned nodes, max_depth=5\u001b[0m\n",
      "\u001b[34m[134]#011train-error:0.089#011validation-error:0.1429\u001b[0m\n",
      "\u001b[34m[11:24:32] src/tree/updater_prune.cc:74: tree pruning end, 1 roots, 14 extra nodes, 12 pruned nodes, max_depth=5\u001b[0m\n",
      "\u001b[34m[135]#011train-error:0.088867#011validation-error:0.1425\u001b[0m\n",
      "\u001b[34m[11:24:33] src/tree/updater_prune.cc:74: tree pruning end, 1 roots, 10 extra nodes, 6 pruned nodes, max_depth=5\u001b[0m\n",
      "\u001b[34m[136]#011train-error:0.088933#011validation-error:0.1419\u001b[0m\n",
      "\u001b[34m[11:24:34] src/tree/updater_prune.cc:74: tree pruning end, 1 roots, 14 extra nodes, 8 pruned nodes, max_depth=5\u001b[0m\n",
      "\u001b[34m[137]#011train-error:0.088533#011validation-error:0.1419\u001b[0m\n",
      "\u001b[34m[11:24:35] src/tree/updater_prune.cc:74: tree pruning end, 1 roots, 10 extra nodes, 10 pruned nodes, max_depth=5\u001b[0m\n",
      "\u001b[34m[138]#011train-error:0.088067#011validation-error:0.1415\u001b[0m\n",
      "\u001b[34m[11:24:37] src/tree/updater_prune.cc:74: tree pruning end, 1 roots, 10 extra nodes, 12 pruned nodes, max_depth=5\u001b[0m\n",
      "\u001b[34m[139]#011train-error:0.088#011validation-error:0.1413\u001b[0m\n",
      "\u001b[34m[11:24:38] src/tree/updater_prune.cc:74: tree pruning end, 1 roots, 16 extra nodes, 4 pruned nodes, max_depth=5\u001b[0m\n",
      "\u001b[34m[140]#011train-error:0.088#011validation-error:0.141\u001b[0m\n",
      "\u001b[34m[11:24:39] src/tree/updater_prune.cc:74: tree pruning end, 1 roots, 14 extra nodes, 8 pruned nodes, max_depth=5\u001b[0m\n",
      "\u001b[34m[141]#011train-error:0.087667#011validation-error:0.141\u001b[0m\n",
      "\u001b[34m[11:24:41] src/tree/updater_prune.cc:74: tree pruning end, 1 roots, 22 extra nodes, 8 pruned nodes, max_depth=5\u001b[0m\n",
      "\u001b[34m[142]#011train-error:0.087133#011validation-error:0.1408\u001b[0m\n",
      "\u001b[34m[11:24:42] src/tree/updater_prune.cc:74: tree pruning end, 1 roots, 18 extra nodes, 10 pruned nodes, max_depth=5\u001b[0m\n",
      "\u001b[34m[143]#011train-error:0.0874#011validation-error:0.1407\u001b[0m\n",
      "\u001b[34m[11:24:43] src/tree/updater_prune.cc:74: tree pruning end, 1 roots, 12 extra nodes, 6 pruned nodes, max_depth=5\u001b[0m\n",
      "\u001b[34m[144]#011train-error:0.086733#011validation-error:0.1414\u001b[0m\n",
      "\u001b[34m[11:24:44] src/tree/updater_prune.cc:74: tree pruning end, 1 roots, 18 extra nodes, 8 pruned nodes, max_depth=5\u001b[0m\n",
      "\u001b[34m[145]#011train-error:0.0864#011validation-error:0.1414\u001b[0m\n",
      "\u001b[34m[11:24:46] src/tree/updater_prune.cc:74: tree pruning end, 1 roots, 12 extra nodes, 4 pruned nodes, max_depth=5\u001b[0m\n",
      "\u001b[34m[146]#011train-error:0.086467#011validation-error:0.1405\u001b[0m\n",
      "\u001b[34m[11:24:47] src/tree/updater_prune.cc:74: tree pruning end, 1 roots, 14 extra nodes, 6 pruned nodes, max_depth=5\u001b[0m\n",
      "\u001b[34m[147]#011train-error:0.086133#011validation-error:0.1398\u001b[0m\n",
      "\u001b[34m[11:24:48] src/tree/updater_prune.cc:74: tree pruning end, 1 roots, 26 extra nodes, 4 pruned nodes, max_depth=5\u001b[0m\n",
      "\u001b[34m[148]#011train-error:0.086#011validation-error:0.1407\u001b[0m\n",
      "\u001b[34m[11:24:49] src/tree/updater_prune.cc:74: tree pruning end, 1 roots, 14 extra nodes, 6 pruned nodes, max_depth=5\u001b[0m\n",
      "\u001b[34m[149]#011train-error:0.085933#011validation-error:0.1403\u001b[0m\n",
      "\u001b[34m[11:24:51] src/tree/updater_prune.cc:74: tree pruning end, 1 roots, 22 extra nodes, 8 pruned nodes, max_depth=5\u001b[0m\n",
      "\u001b[34m[150]#011train-error:0.084933#011validation-error:0.1412\u001b[0m\n",
      "\u001b[34m[11:24:52] src/tree/updater_prune.cc:74: tree pruning end, 1 roots, 20 extra nodes, 12 pruned nodes, max_depth=5\u001b[0m\n",
      "\u001b[34m[151]#011train-error:0.084533#011validation-error:0.1407\u001b[0m\n",
      "\u001b[34m[11:24:53] src/tree/updater_prune.cc:74: tree pruning end, 1 roots, 10 extra nodes, 6 pruned nodes, max_depth=5\u001b[0m\n",
      "\u001b[34m[152]#011train-error:0.084467#011validation-error:0.1402\u001b[0m\n",
      "\u001b[34m[11:24:54] src/tree/updater_prune.cc:74: tree pruning end, 1 roots, 22 extra nodes, 10 pruned nodes, max_depth=5\u001b[0m\n",
      "\u001b[34m[153]#011train-error:0.084267#011validation-error:0.1401\u001b[0m\n",
      "\u001b[34m[11:24:56] src/tree/updater_prune.cc:74: tree pruning end, 1 roots, 14 extra nodes, 16 pruned nodes, max_depth=5\u001b[0m\n",
      "\u001b[34m[154]#011train-error:0.0844#011validation-error:0.1408\u001b[0m\n",
      "\n",
      "2020-11-07 11:25:09 Uploading - Uploading generated training model\n",
      "2020-11-07 11:25:09 Completed - Training job completed\n",
      "\u001b[34m[11:24:57] src/tree/updater_prune.cc:74: tree pruning end, 1 roots, 10 extra nodes, 8 pruned nodes, max_depth=5\u001b[0m\n",
      "\u001b[34m[155]#011train-error:0.084333#011validation-error:0.1403\u001b[0m\n",
      "\u001b[34m[11:24:58] src/tree/updater_prune.cc:74: tree pruning end, 1 roots, 14 extra nodes, 18 pruned nodes, max_depth=5\u001b[0m\n",
      "\u001b[34m[156]#011train-error:0.084133#011validation-error:0.1404\u001b[0m\n",
      "\u001b[34m[11:25:00] src/tree/updater_prune.cc:74: tree pruning end, 1 roots, 14 extra nodes, 4 pruned nodes, max_depth=5\u001b[0m\n",
      "\u001b[34m[157]#011train-error:0.0836#011validation-error:0.1401\u001b[0m\n",
      "\u001b[34mStopping. Best iteration:\u001b[0m\n",
      "\u001b[34m[147]#011train-error:0.086133#011validation-error:0.1398\n",
      "\u001b[0m\n",
      "Training seconds: 251\n",
      "Billable seconds: 251\n"
     ]
    }
   ],
   "source": [
    "xgb.fit({'train': s3_input_train, 'validation': s3_input_validation})"
   ]
  },
  {
   "cell_type": "markdown",
   "metadata": {},
   "source": [
    "## Step 5: Testing the model\n",
    "\n",
    "Now that we've fit our XGBoost model, it's time to see how well it performs. To do this we will use SageMakers Batch Transform functionality. Batch Transform is a convenient way to perform inference on a large dataset in a way that is not realtime. That is, we don't necessarily need to use our model's results immediately and instead we can perform inference on a large number of samples. An example of this in industry might be performing an end of month report. This method of inference can also be useful to us as it means that we can perform inference on our entire test set. \n",
    "\n",
    "To perform a Batch Transformation we need to first create a transformer objects from our trained estimator object."
   ]
  },
  {
   "cell_type": "code",
   "execution_count": 28,
   "metadata": {},
   "outputs": [],
   "source": [
    "xgb_transformer = xgb.transformer(instance_count = 1, instance_type = 'ml.m4.xlarge')"
   ]
  },
  {
   "cell_type": "markdown",
   "metadata": {},
   "source": [
    "Next we actually perform the transform job. When doing so we need to make sure to specify the type of data we are sending so that it is serialized correctly in the background. In our case we are providing our model with csv data so we specify `text/csv`. Also, if the test data that we have provided is too large to process all at once then we need to specify how the data file should be split up. Since each line is a single entry in our data set we tell SageMaker that it can split the input on each line."
   ]
  },
  {
   "cell_type": "code",
   "execution_count": 29,
   "metadata": {},
   "outputs": [
    {
     "name": "stdout",
     "output_type": "stream",
     "text": [
      ".............................\u001b[32m2020-11-07T11:30:50.987:[sagemaker logs]: MaxConcurrentTransforms=4, MaxPayloadInMB=6, BatchStrategy=MULTI_RECORD\u001b[0m\n",
      "\u001b[34mArguments: serve\u001b[0m\n",
      "\u001b[34m[2020-11-07 11:30:50 +0000] [1] [INFO] Starting gunicorn 19.7.1\u001b[0m\n",
      "\u001b[34m[2020-11-07 11:30:50 +0000] [1] [INFO] Listening at: http://0.0.0.0:8080 (1)\u001b[0m\n",
      "\u001b[34m[2020-11-07 11:30:50 +0000] [1] [INFO] Using worker: gevent\u001b[0m\n",
      "\u001b[34m[2020-11-07 11:30:50 +0000] [37] [INFO] Booting worker with pid: 37\u001b[0m\n",
      "\u001b[34m[2020-11-07 11:30:50 +0000] [38] [INFO] Booting worker with pid: 38\u001b[0m\n",
      "\u001b[34m[2020-11-07:11:30:50:INFO] Model loaded successfully for worker : 37\u001b[0m\n",
      "\u001b[34m[2020-11-07 11:30:51 +0000] [39] [INFO] Booting worker with pid: 39\u001b[0m\n",
      "\u001b[34m[2020-11-07 11:30:51 +0000] [40] [INFO] Booting worker with pid: 40\u001b[0m\n",
      "\u001b[35mArguments: serve\u001b[0m\n",
      "\u001b[35m[2020-11-07 11:30:50 +0000] [1] [INFO] Starting gunicorn 19.7.1\u001b[0m\n",
      "\u001b[35m[2020-11-07 11:30:50 +0000] [1] [INFO] Listening at: http://0.0.0.0:8080 (1)\u001b[0m\n",
      "\u001b[35m[2020-11-07 11:30:50 +0000] [1] [INFO] Using worker: gevent\u001b[0m\n",
      "\u001b[35m[2020-11-07 11:30:50 +0000] [37] [INFO] Booting worker with pid: 37\u001b[0m\n",
      "\u001b[35m[2020-11-07 11:30:50 +0000] [38] [INFO] Booting worker with pid: 38\u001b[0m\n",
      "\u001b[35m[2020-11-07:11:30:50:INFO] Model loaded successfully for worker : 37\u001b[0m\n",
      "\u001b[35m[2020-11-07 11:30:51 +0000] [39] [INFO] Booting worker with pid: 39\u001b[0m\n",
      "\u001b[35m[2020-11-07 11:30:51 +0000] [40] [INFO] Booting worker with pid: 40\u001b[0m\n",
      "\u001b[34m[2020-11-07:11:30:51:INFO] Model loaded successfully for worker : 38\u001b[0m\n",
      "\u001b[34m[2020-11-07:11:30:51:INFO] Model loaded successfully for worker : 39\u001b[0m\n",
      "\u001b[34m[2020-11-07:11:30:51:INFO] Model loaded successfully for worker : 40\u001b[0m\n",
      "\u001b[34m[2020-11-07:11:30:51:INFO] Sniff delimiter as ','\u001b[0m\n",
      "\u001b[34m[2020-11-07:11:30:51:INFO] Determined delimiter of CSV input is ','\u001b[0m\n",
      "\u001b[34m[2020-11-07:11:30:51:INFO] Sniff delimiter as ','\u001b[0m\n",
      "\u001b[34m[2020-11-07:11:30:51:INFO] Determined delimiter of CSV input is ','\u001b[0m\n",
      "\u001b[34m[2020-11-07:11:30:51:INFO] Sniff delimiter as ','\u001b[0m\n",
      "\u001b[34m[2020-11-07:11:30:51:INFO] Determined delimiter of CSV input is ','\u001b[0m\n",
      "\u001b[34m[2020-11-07:11:30:51:INFO] Sniff delimiter as ','\u001b[0m\n",
      "\u001b[34m[2020-11-07:11:30:51:INFO] Determined delimiter of CSV input is ','\u001b[0m\n",
      "\u001b[35m[2020-11-07:11:30:51:INFO] Model loaded successfully for worker : 38\u001b[0m\n",
      "\u001b[35m[2020-11-07:11:30:51:INFO] Model loaded successfully for worker : 39\u001b[0m\n",
      "\u001b[35m[2020-11-07:11:30:51:INFO] Model loaded successfully for worker : 40\u001b[0m\n",
      "\u001b[35m[2020-11-07:11:30:51:INFO] Sniff delimiter as ','\u001b[0m\n",
      "\u001b[35m[2020-11-07:11:30:51:INFO] Determined delimiter of CSV input is ','\u001b[0m\n",
      "\u001b[35m[2020-11-07:11:30:51:INFO] Sniff delimiter as ','\u001b[0m\n",
      "\u001b[35m[2020-11-07:11:30:51:INFO] Determined delimiter of CSV input is ','\u001b[0m\n",
      "\u001b[35m[2020-11-07:11:30:51:INFO] Sniff delimiter as ','\u001b[0m\n",
      "\u001b[35m[2020-11-07:11:30:51:INFO] Determined delimiter of CSV input is ','\u001b[0m\n",
      "\u001b[35m[2020-11-07:11:30:51:INFO] Sniff delimiter as ','\u001b[0m\n",
      "\u001b[35m[2020-11-07:11:30:51:INFO] Determined delimiter of CSV input is ','\u001b[0m\n",
      "\u001b[34m[2020-11-07:11:30:53:INFO] Sniff delimiter as ','\u001b[0m\n",
      "\u001b[34m[2020-11-07:11:30:53:INFO] Determined delimiter of CSV input is ','\u001b[0m\n",
      "\u001b[34m[2020-11-07:11:30:53:INFO] Sniff delimiter as ','\u001b[0m\n",
      "\u001b[34m[2020-11-07:11:30:53:INFO] Determined delimiter of CSV input is ','\u001b[0m\n",
      "\u001b[35m[2020-11-07:11:30:53:INFO] Sniff delimiter as ','\u001b[0m\n",
      "\u001b[35m[2020-11-07:11:30:53:INFO] Determined delimiter of CSV input is ','\u001b[0m\n",
      "\u001b[35m[2020-11-07:11:30:53:INFO] Sniff delimiter as ','\u001b[0m\n",
      "\u001b[35m[2020-11-07:11:30:53:INFO] Determined delimiter of CSV input is ','\u001b[0m\n",
      "\u001b[34m[2020-11-07:11:30:54:INFO] Sniff delimiter as ','\u001b[0m\n",
      "\u001b[34m[2020-11-07:11:30:54:INFO] Determined delimiter of CSV input is ','\u001b[0m\n",
      "\u001b[35m[2020-11-07:11:30:54:INFO] Sniff delimiter as ','\u001b[0m\n",
      "\u001b[35m[2020-11-07:11:30:54:INFO] Determined delimiter of CSV input is ','\u001b[0m\n",
      "\u001b[34m[2020-11-07:11:30:54:INFO] Sniff delimiter as ','\u001b[0m\n",
      "\u001b[34m[2020-11-07:11:30:54:INFO] Determined delimiter of CSV input is ','\u001b[0m\n",
      "\u001b[35m[2020-11-07:11:30:54:INFO] Sniff delimiter as ','\u001b[0m\n",
      "\u001b[35m[2020-11-07:11:30:54:INFO] Determined delimiter of CSV input is ','\u001b[0m\n",
      "\u001b[34m[2020-11-07:11:30:56:INFO] Sniff delimiter as ','\u001b[0m\n",
      "\u001b[34m[2020-11-07:11:30:56:INFO] Determined delimiter of CSV input is ','\u001b[0m\n",
      "\u001b[34m[2020-11-07:11:30:56:INFO] Sniff delimiter as ','\u001b[0m\n",
      "\u001b[34m[2020-11-07:11:30:56:INFO] Determined delimiter of CSV input is ','\u001b[0m\n",
      "\u001b[34m[2020-11-07:11:30:56:INFO] Sniff delimiter as ','\u001b[0m\n",
      "\u001b[35m[2020-11-07:11:30:56:INFO] Sniff delimiter as ','\u001b[0m\n",
      "\u001b[35m[2020-11-07:11:30:56:INFO] Determined delimiter of CSV input is ','\u001b[0m\n",
      "\u001b[35m[2020-11-07:11:30:56:INFO] Sniff delimiter as ','\u001b[0m\n",
      "\u001b[35m[2020-11-07:11:30:56:INFO] Determined delimiter of CSV input is ','\u001b[0m\n",
      "\u001b[35m[2020-11-07:11:30:56:INFO] Sniff delimiter as ','\u001b[0m\n",
      "\u001b[34m[2020-11-07:11:30:56:INFO] Determined delimiter of CSV input is ','\u001b[0m\n",
      "\u001b[34m[2020-11-07:11:30:56:INFO] Sniff delimiter as ','\u001b[0m\n",
      "\u001b[34m[2020-11-07:11:30:56:INFO] Determined delimiter of CSV input is ','\u001b[0m\n",
      "\u001b[35m[2020-11-07:11:30:56:INFO] Determined delimiter of CSV input is ','\u001b[0m\n",
      "\u001b[35m[2020-11-07:11:30:56:INFO] Sniff delimiter as ','\u001b[0m\n",
      "\u001b[35m[2020-11-07:11:30:56:INFO] Determined delimiter of CSV input is ','\u001b[0m\n",
      "\u001b[34m[2020-11-07:11:30:58:INFO] Sniff delimiter as ','\u001b[0m\n",
      "\u001b[34m[2020-11-07:11:30:58:INFO] Determined delimiter of CSV input is ','\u001b[0m\n",
      "\u001b[34m[2020-11-07:11:30:58:INFO] Sniff delimiter as ','\u001b[0m\n",
      "\u001b[35m[2020-11-07:11:30:58:INFO] Sniff delimiter as ','\u001b[0m\n",
      "\u001b[35m[2020-11-07:11:30:58:INFO] Determined delimiter of CSV input is ','\u001b[0m\n",
      "\u001b[35m[2020-11-07:11:30:58:INFO] Sniff delimiter as ','\u001b[0m\n",
      "\u001b[34m[2020-11-07:11:30:58:INFO] Determined delimiter of CSV input is ','\u001b[0m\n",
      "\u001b[34m[2020-11-07:11:30:58:INFO] Sniff delimiter as ','\u001b[0m\n",
      "\u001b[34m[2020-11-07:11:30:58:INFO] Determined delimiter of CSV input is ','\u001b[0m\n",
      "\u001b[35m[2020-11-07:11:30:58:INFO] Determined delimiter of CSV input is ','\u001b[0m\n",
      "\u001b[35m[2020-11-07:11:30:58:INFO] Sniff delimiter as ','\u001b[0m\n",
      "\u001b[35m[2020-11-07:11:30:58:INFO] Determined delimiter of CSV input is ','\u001b[0m\n",
      "\u001b[34m[2020-11-07:11:30:59:INFO] Sniff delimiter as ','\u001b[0m\n",
      "\u001b[34m[2020-11-07:11:30:59:INFO] Determined delimiter of CSV input is ','\u001b[0m\n",
      "\u001b[35m[2020-11-07:11:30:59:INFO] Sniff delimiter as ','\u001b[0m\n",
      "\u001b[35m[2020-11-07:11:30:59:INFO] Determined delimiter of CSV input is ','\u001b[0m\n",
      "\u001b[34m[2020-11-07:11:31:01:INFO] Sniff delimiter as ','\u001b[0m\n",
      "\u001b[34m[2020-11-07:11:31:01:INFO] Determined delimiter of CSV input is ','\u001b[0m\n",
      "\u001b[34m[2020-11-07:11:31:01:INFO] Sniff delimiter as ','\u001b[0m\n",
      "\u001b[34m[2020-11-07:11:31:01:INFO] Determined delimiter of CSV input is ','\u001b[0m\n",
      "\u001b[34m[2020-11-07:11:31:01:INFO] Sniff delimiter as ','\u001b[0m\n",
      "\u001b[34m[2020-11-07:11:31:01:INFO] Determined delimiter of CSV input is ','\u001b[0m\n",
      "\u001b[35m[2020-11-07:11:31:01:INFO] Sniff delimiter as ','\u001b[0m\n",
      "\u001b[35m[2020-11-07:11:31:01:INFO] Determined delimiter of CSV input is ','\u001b[0m\n",
      "\u001b[35m[2020-11-07:11:31:01:INFO] Sniff delimiter as ','\u001b[0m\n",
      "\u001b[35m[2020-11-07:11:31:01:INFO] Determined delimiter of CSV input is ','\u001b[0m\n",
      "\u001b[35m[2020-11-07:11:31:01:INFO] Sniff delimiter as ','\u001b[0m\n",
      "\u001b[35m[2020-11-07:11:31:01:INFO] Determined delimiter of CSV input is ','\u001b[0m\n",
      "\u001b[34m[2020-11-07:11:31:03:INFO] Sniff delimiter as ','\u001b[0m\n",
      "\u001b[34m[2020-11-07:11:31:03:INFO] Determined delimiter of CSV input is ','\u001b[0m\n",
      "\u001b[34m[2020-11-07:11:31:03:INFO] Sniff delimiter as ','\u001b[0m\n",
      "\u001b[34m[2020-11-07:11:31:03:INFO] Determined delimiter of CSV input is ','\u001b[0m\n",
      "\u001b[34m[2020-11-07:11:31:03:INFO] Sniff delimiter as ','\u001b[0m\n",
      "\u001b[34m[2020-11-07:11:31:03:INFO] Determined delimiter of CSV input is ','\u001b[0m\n",
      "\u001b[35m[2020-11-07:11:31:03:INFO] Sniff delimiter as ','\u001b[0m\n",
      "\u001b[35m[2020-11-07:11:31:03:INFO] Determined delimiter of CSV input is ','\u001b[0m\n",
      "\u001b[35m[2020-11-07:11:31:03:INFO] Sniff delimiter as ','\u001b[0m\n",
      "\u001b[35m[2020-11-07:11:31:03:INFO] Determined delimiter of CSV input is ','\u001b[0m\n",
      "\u001b[35m[2020-11-07:11:31:03:INFO] Sniff delimiter as ','\u001b[0m\n",
      "\u001b[35m[2020-11-07:11:31:03:INFO] Determined delimiter of CSV input is ','\u001b[0m\n",
      "\u001b[34m[2020-11-07:11:31:04:INFO] Sniff delimiter as ','\u001b[0m\n",
      "\u001b[34m[2020-11-07:11:31:04:INFO] Determined delimiter of CSV input is ','\u001b[0m\n",
      "\u001b[35m[2020-11-07:11:31:04:INFO] Sniff delimiter as ','\u001b[0m\n",
      "\u001b[35m[2020-11-07:11:31:04:INFO] Determined delimiter of CSV input is ','\u001b[0m\n",
      "\u001b[34m[2020-11-07:11:31:05:INFO] Sniff delimiter as ','\u001b[0m\n",
      "\u001b[34m[2020-11-07:11:31:05:INFO] Determined delimiter of CSV input is ','\u001b[0m\n",
      "\u001b[35m[2020-11-07:11:31:05:INFO] Sniff delimiter as ','\u001b[0m\n",
      "\u001b[35m[2020-11-07:11:31:05:INFO] Determined delimiter of CSV input is ','\u001b[0m\n",
      "\u001b[34m[2020-11-07:11:31:06:INFO] Sniff delimiter as ','\u001b[0m\n",
      "\u001b[34m[2020-11-07:11:31:06:INFO] Determined delimiter of CSV input is ','\u001b[0m\n",
      "\u001b[35m[2020-11-07:11:31:06:INFO] Sniff delimiter as ','\u001b[0m\n",
      "\u001b[35m[2020-11-07:11:31:06:INFO] Determined delimiter of CSV input is ','\u001b[0m\n",
      "\u001b[34m[2020-11-07:11:31:06:INFO] Sniff delimiter as ','\u001b[0m\n",
      "\u001b[34m[2020-11-07:11:31:06:INFO] Determined delimiter of CSV input is ','\u001b[0m\n",
      "\u001b[34m[2020-11-07:11:31:06:INFO] Sniff delimiter as ','\u001b[0m\n",
      "\u001b[34m[2020-11-07:11:31:06:INFO] Determined delimiter of CSV input is ','\u001b[0m\n",
      "\u001b[35m[2020-11-07:11:31:06:INFO] Sniff delimiter as ','\u001b[0m\n",
      "\u001b[35m[2020-11-07:11:31:06:INFO] Determined delimiter of CSV input is ','\u001b[0m\n",
      "\u001b[35m[2020-11-07:11:31:06:INFO] Sniff delimiter as ','\u001b[0m\n",
      "\u001b[35m[2020-11-07:11:31:06:INFO] Determined delimiter of CSV input is ','\u001b[0m\n",
      "\u001b[34m[2020-11-07:11:31:08:INFO] Sniff delimiter as ','\u001b[0m\n",
      "\u001b[34m[2020-11-07:11:31:08:INFO] Determined delimiter of CSV input is ','\u001b[0m\n",
      "\u001b[34m[2020-11-07:11:31:08:INFO] Sniff delimiter as ','\u001b[0m\n",
      "\u001b[35m[2020-11-07:11:31:08:INFO] Sniff delimiter as ','\u001b[0m\n",
      "\u001b[35m[2020-11-07:11:31:08:INFO] Determined delimiter of CSV input is ','\u001b[0m\n",
      "\u001b[35m[2020-11-07:11:31:08:INFO] Sniff delimiter as ','\u001b[0m\n",
      "\u001b[34m[2020-11-07:11:31:08:INFO] Determined delimiter of CSV input is ','\u001b[0m\n",
      "\u001b[34m[2020-11-07:11:31:08:INFO] Sniff delimiter as ','\u001b[0m\n",
      "\u001b[34m[2020-11-07:11:31:08:INFO] Determined delimiter of CSV input is ','\u001b[0m\n",
      "\u001b[35m[2020-11-07:11:31:08:INFO] Determined delimiter of CSV input is ','\u001b[0m\n",
      "\u001b[35m[2020-11-07:11:31:08:INFO] Sniff delimiter as ','\u001b[0m\n",
      "\u001b[35m[2020-11-07:11:31:08:INFO] Determined delimiter of CSV input is ','\u001b[0m\n",
      "\u001b[34m[2020-11-07:11:31:09:INFO] Sniff delimiter as ','\u001b[0m\n",
      "\u001b[34m[2020-11-07:11:31:09:INFO] Determined delimiter of CSV input is ','\u001b[0m\n",
      "\u001b[35m[2020-11-07:11:31:09:INFO] Sniff delimiter as ','\u001b[0m\n",
      "\u001b[35m[2020-11-07:11:31:09:INFO] Determined delimiter of CSV input is ','\u001b[0m\n",
      "\u001b[34m[2020-11-07:11:31:10:INFO] Sniff delimiter as ','\u001b[0m\n",
      "\u001b[35m[2020-11-07:11:31:10:INFO] Sniff delimiter as ','\u001b[0m\n",
      "\u001b[34m[2020-11-07:11:31:10:INFO] Determined delimiter of CSV input is ','\u001b[0m\n",
      "\u001b[34m[2020-11-07:11:31:10:INFO] Sniff delimiter as ','\u001b[0m\n",
      "\u001b[34m[2020-11-07:11:31:10:INFO] Determined delimiter of CSV input is ','\u001b[0m\n",
      "\u001b[35m[2020-11-07:11:31:10:INFO] Determined delimiter of CSV input is ','\u001b[0m\n",
      "\u001b[35m[2020-11-07:11:31:10:INFO] Sniff delimiter as ','\u001b[0m\n",
      "\u001b[35m[2020-11-07:11:31:10:INFO] Determined delimiter of CSV input is ','\u001b[0m\n",
      "\u001b[34m[2020-11-07:11:31:11:INFO] Determined delimiter of CSV input is ','\u001b[0m\n",
      "\u001b[35m[2020-11-07:11:31:11:INFO] Determined delimiter of CSV input is ','\u001b[0m\n",
      "\u001b[34m[2020-11-07:11:31:13:INFO] Sniff delimiter as ','\u001b[0m\n",
      "\u001b[34m[2020-11-07:11:31:13:INFO] Determined delimiter of CSV input is ','\u001b[0m\n",
      "\u001b[34m[2020-11-07:11:31:13:INFO] Sniff delimiter as ','\u001b[0m\n",
      "\u001b[34m[2020-11-07:11:31:13:INFO] Determined delimiter of CSV input is ','\u001b[0m\n",
      "\u001b[34m[2020-11-07:11:31:13:INFO] Sniff delimiter as ','\u001b[0m\n",
      "\u001b[34m[2020-11-07:11:31:13:INFO] Determined delimiter of CSV input is ','\u001b[0m\n",
      "\u001b[34m[2020-11-07:11:31:13:INFO] Sniff delimiter as ','\u001b[0m\n",
      "\u001b[34m[2020-11-07:11:31:13:INFO] Determined delimiter of CSV input is ','\u001b[0m\n",
      "\u001b[35m[2020-11-07:11:31:13:INFO] Sniff delimiter as ','\u001b[0m\n",
      "\u001b[35m[2020-11-07:11:31:13:INFO] Determined delimiter of CSV input is ','\u001b[0m\n",
      "\u001b[35m[2020-11-07:11:31:13:INFO] Sniff delimiter as ','\u001b[0m\n",
      "\u001b[35m[2020-11-07:11:31:13:INFO] Determined delimiter of CSV input is ','\u001b[0m\n",
      "\u001b[35m[2020-11-07:11:31:13:INFO] Sniff delimiter as ','\u001b[0m\n",
      "\u001b[35m[2020-11-07:11:31:13:INFO] Determined delimiter of CSV input is ','\u001b[0m\n",
      "\u001b[35m[2020-11-07:11:31:13:INFO] Sniff delimiter as ','\u001b[0m\n",
      "\u001b[35m[2020-11-07:11:31:13:INFO] Determined delimiter of CSV input is ','\u001b[0m\n",
      "\n"
     ]
    }
   ],
   "source": [
    "xgb_transformer.transform(test_location, content_type='text/csv', split_type='Line')"
   ]
  },
  {
   "cell_type": "markdown",
   "metadata": {},
   "source": [
    "Currently the transform job is running but it is doing so in the background. Since we wish to wait until the transform job is done and we would like a bit of feedback we can run the `wait()` method."
   ]
  },
  {
   "cell_type": "code",
   "execution_count": 30,
   "metadata": {},
   "outputs": [
    {
     "name": "stdout",
     "output_type": "stream",
     "text": [
      "\u001b[32m2020-11-07T11:30:50.987:[sagemaker logs]: MaxConcurrentTransforms=4, MaxPayloadInMB=6, BatchStrategy=MULTI_RECORD\u001b[0m\n",
      "\u001b[34mArguments: serve\u001b[0m\n",
      "\u001b[34m[2020-11-07 11:30:50 +0000] [1] [INFO] Starting gunicorn 19.7.1\u001b[0m\n",
      "\u001b[34m[2020-11-07 11:30:50 +0000] [1] [INFO] Listening at: http://0.0.0.0:8080 (1)\u001b[0m\n",
      "\u001b[34m[2020-11-07 11:30:50 +0000] [1] [INFO] Using worker: gevent\u001b[0m\n",
      "\u001b[34m[2020-11-07 11:30:50 +0000] [37] [INFO] Booting worker with pid: 37\u001b[0m\n",
      "\u001b[34m[2020-11-07 11:30:50 +0000] [38] [INFO] Booting worker with pid: 38\u001b[0m\n",
      "\u001b[34m[2020-11-07:11:30:50:INFO] Model loaded successfully for worker : 37\u001b[0m\n",
      "\u001b[34m[2020-11-07 11:30:51 +0000] [39] [INFO] Booting worker with pid: 39\u001b[0m\n",
      "\u001b[34m[2020-11-07 11:30:51 +0000] [40] [INFO] Booting worker with pid: 40\u001b[0m\n",
      "\u001b[35mArguments: serve\u001b[0m\n",
      "\u001b[35m[2020-11-07 11:30:50 +0000] [1] [INFO] Starting gunicorn 19.7.1\u001b[0m\n",
      "\u001b[35m[2020-11-07 11:30:50 +0000] [1] [INFO] Listening at: http://0.0.0.0:8080 (1)\u001b[0m\n",
      "\u001b[35m[2020-11-07 11:30:50 +0000] [1] [INFO] Using worker: gevent\u001b[0m\n",
      "\u001b[35m[2020-11-07 11:30:50 +0000] [37] [INFO] Booting worker with pid: 37\u001b[0m\n",
      "\u001b[35m[2020-11-07 11:30:50 +0000] [38] [INFO] Booting worker with pid: 38\u001b[0m\n",
      "\u001b[35m[2020-11-07:11:30:50:INFO] Model loaded successfully for worker : 37\u001b[0m\n",
      "\u001b[35m[2020-11-07 11:30:51 +0000] [39] [INFO] Booting worker with pid: 39\u001b[0m\n",
      "\u001b[35m[2020-11-07 11:30:51 +0000] [40] [INFO] Booting worker with pid: 40\u001b[0m\n",
      "\u001b[34m[2020-11-07:11:30:51:INFO] Model loaded successfully for worker : 38\u001b[0m\n",
      "\u001b[34m[2020-11-07:11:30:51:INFO] Model loaded successfully for worker : 39\u001b[0m\n",
      "\u001b[34m[2020-11-07:11:30:51:INFO] Model loaded successfully for worker : 40\u001b[0m\n",
      "\u001b[34m[2020-11-07:11:30:51:INFO] Sniff delimiter as ','\u001b[0m\n",
      "\u001b[34m[2020-11-07:11:30:51:INFO] Determined delimiter of CSV input is ','\u001b[0m\n",
      "\u001b[34m[2020-11-07:11:30:51:INFO] Sniff delimiter as ','\u001b[0m\n",
      "\u001b[34m[2020-11-07:11:30:51:INFO] Determined delimiter of CSV input is ','\u001b[0m\n",
      "\u001b[34m[2020-11-07:11:30:51:INFO] Sniff delimiter as ','\u001b[0m\n",
      "\u001b[34m[2020-11-07:11:30:51:INFO] Determined delimiter of CSV input is ','\u001b[0m\n",
      "\u001b[34m[2020-11-07:11:30:51:INFO] Sniff delimiter as ','\u001b[0m\n",
      "\u001b[34m[2020-11-07:11:30:51:INFO] Determined delimiter of CSV input is ','\u001b[0m\n",
      "\u001b[35m[2020-11-07:11:30:51:INFO] Model loaded successfully for worker : 38\u001b[0m\n",
      "\u001b[35m[2020-11-07:11:30:51:INFO] Model loaded successfully for worker : 39\u001b[0m\n",
      "\u001b[35m[2020-11-07:11:30:51:INFO] Model loaded successfully for worker : 40\u001b[0m\n",
      "\u001b[35m[2020-11-07:11:30:51:INFO] Sniff delimiter as ','\u001b[0m\n",
      "\u001b[35m[2020-11-07:11:30:51:INFO] Determined delimiter of CSV input is ','\u001b[0m\n",
      "\u001b[35m[2020-11-07:11:30:51:INFO] Sniff delimiter as ','\u001b[0m\n",
      "\u001b[35m[2020-11-07:11:30:51:INFO] Determined delimiter of CSV input is ','\u001b[0m\n",
      "\u001b[35m[2020-11-07:11:30:51:INFO] Sniff delimiter as ','\u001b[0m\n",
      "\u001b[35m[2020-11-07:11:30:51:INFO] Determined delimiter of CSV input is ','\u001b[0m\n",
      "\u001b[35m[2020-11-07:11:30:51:INFO] Sniff delimiter as ','\u001b[0m\n",
      "\u001b[35m[2020-11-07:11:30:51:INFO] Determined delimiter of CSV input is ','\u001b[0m\n",
      "\u001b[34m[2020-11-07:11:30:53:INFO] Sniff delimiter as ','\u001b[0m\n",
      "\u001b[34m[2020-11-07:11:30:53:INFO] Determined delimiter of CSV input is ','\u001b[0m\n",
      "\u001b[34m[2020-11-07:11:30:53:INFO] Sniff delimiter as ','\u001b[0m\n",
      "\u001b[34m[2020-11-07:11:30:53:INFO] Determined delimiter of CSV input is ','\u001b[0m\n",
      "\u001b[35m[2020-11-07:11:30:53:INFO] Sniff delimiter as ','\u001b[0m\n",
      "\u001b[35m[2020-11-07:11:30:53:INFO] Determined delimiter of CSV input is ','\u001b[0m\n",
      "\u001b[35m[2020-11-07:11:30:53:INFO] Sniff delimiter as ','\u001b[0m\n",
      "\u001b[35m[2020-11-07:11:30:53:INFO] Determined delimiter of CSV input is ','\u001b[0m\n",
      "\u001b[34m[2020-11-07:11:30:54:INFO] Sniff delimiter as ','\u001b[0m\n",
      "\u001b[34m[2020-11-07:11:30:54:INFO] Determined delimiter of CSV input is ','\u001b[0m\n",
      "\u001b[35m[2020-11-07:11:30:54:INFO] Sniff delimiter as ','\u001b[0m\n",
      "\u001b[35m[2020-11-07:11:30:54:INFO] Determined delimiter of CSV input is ','\u001b[0m\n",
      "\u001b[34m[2020-11-07:11:30:54:INFO] Sniff delimiter as ','\u001b[0m\n",
      "\u001b[34m[2020-11-07:11:30:54:INFO] Determined delimiter of CSV input is ','\u001b[0m\n",
      "\u001b[35m[2020-11-07:11:30:54:INFO] Sniff delimiter as ','\u001b[0m\n",
      "\u001b[35m[2020-11-07:11:30:54:INFO] Determined delimiter of CSV input is ','\u001b[0m\n",
      "\u001b[34m[2020-11-07:11:30:56:INFO] Sniff delimiter as ','\u001b[0m\n",
      "\u001b[34m[2020-11-07:11:30:56:INFO] Determined delimiter of CSV input is ','\u001b[0m\n",
      "\u001b[34m[2020-11-07:11:30:56:INFO] Sniff delimiter as ','\u001b[0m\n",
      "\u001b[34m[2020-11-07:11:30:56:INFO] Determined delimiter of CSV input is ','\u001b[0m\n",
      "\u001b[34m[2020-11-07:11:30:56:INFO] Sniff delimiter as ','\u001b[0m\n",
      "\u001b[35m[2020-11-07:11:30:56:INFO] Sniff delimiter as ','\u001b[0m\n",
      "\u001b[35m[2020-11-07:11:30:56:INFO] Determined delimiter of CSV input is ','\u001b[0m\n",
      "\u001b[35m[2020-11-07:11:30:56:INFO] Sniff delimiter as ','\u001b[0m\n",
      "\u001b[35m[2020-11-07:11:30:56:INFO] Determined delimiter of CSV input is ','\u001b[0m\n",
      "\u001b[35m[2020-11-07:11:30:56:INFO] Sniff delimiter as ','\u001b[0m\n",
      "\u001b[34m[2020-11-07:11:30:56:INFO] Determined delimiter of CSV input is ','\u001b[0m\n",
      "\u001b[34m[2020-11-07:11:30:56:INFO] Sniff delimiter as ','\u001b[0m\n",
      "\u001b[34m[2020-11-07:11:30:56:INFO] Determined delimiter of CSV input is ','\u001b[0m\n",
      "\u001b[35m[2020-11-07:11:30:56:INFO] Determined delimiter of CSV input is ','\u001b[0m\n",
      "\u001b[35m[2020-11-07:11:30:56:INFO] Sniff delimiter as ','\u001b[0m\n",
      "\u001b[35m[2020-11-07:11:30:56:INFO] Determined delimiter of CSV input is ','\u001b[0m\n",
      "\u001b[34m[2020-11-07:11:30:58:INFO] Sniff delimiter as ','\u001b[0m\n",
      "\u001b[34m[2020-11-07:11:30:58:INFO] Determined delimiter of CSV input is ','\u001b[0m\n",
      "\u001b[34m[2020-11-07:11:30:58:INFO] Sniff delimiter as ','\u001b[0m\n",
      "\u001b[35m[2020-11-07:11:30:58:INFO] Sniff delimiter as ','\u001b[0m\n",
      "\u001b[35m[2020-11-07:11:30:58:INFO] Determined delimiter of CSV input is ','\u001b[0m\n",
      "\u001b[35m[2020-11-07:11:30:58:INFO] Sniff delimiter as ','\u001b[0m\n",
      "\u001b[34m[2020-11-07:11:30:58:INFO] Determined delimiter of CSV input is ','\u001b[0m\n",
      "\u001b[34m[2020-11-07:11:30:58:INFO] Sniff delimiter as ','\u001b[0m\n",
      "\u001b[34m[2020-11-07:11:30:58:INFO] Determined delimiter of CSV input is ','\u001b[0m\n",
      "\u001b[35m[2020-11-07:11:30:58:INFO] Determined delimiter of CSV input is ','\u001b[0m\n",
      "\u001b[35m[2020-11-07:11:30:58:INFO] Sniff delimiter as ','\u001b[0m\n",
      "\u001b[35m[2020-11-07:11:30:58:INFO] Determined delimiter of CSV input is ','\u001b[0m\n",
      "\u001b[34m[2020-11-07:11:30:59:INFO] Sniff delimiter as ','\u001b[0m\n",
      "\u001b[34m[2020-11-07:11:30:59:INFO] Determined delimiter of CSV input is ','\u001b[0m\n",
      "\u001b[35m[2020-11-07:11:30:59:INFO] Sniff delimiter as ','\u001b[0m\n",
      "\u001b[35m[2020-11-07:11:30:59:INFO] Determined delimiter of CSV input is ','\u001b[0m\n",
      "\u001b[34m[2020-11-07:11:31:01:INFO] Sniff delimiter as ','\u001b[0m\n",
      "\u001b[34m[2020-11-07:11:31:01:INFO] Determined delimiter of CSV input is ','\u001b[0m\n",
      "\u001b[34m[2020-11-07:11:31:01:INFO] Sniff delimiter as ','\u001b[0m\n",
      "\u001b[34m[2020-11-07:11:31:01:INFO] Determined delimiter of CSV input is ','\u001b[0m\n",
      "\u001b[34m[2020-11-07:11:31:01:INFO] Sniff delimiter as ','\u001b[0m\n",
      "\u001b[34m[2020-11-07:11:31:01:INFO] Determined delimiter of CSV input is ','\u001b[0m\n",
      "\u001b[34m[2020-11-07:11:31:01:INFO] Sniff delimiter as ','\u001b[0m\n",
      "\u001b[34m[2020-11-07:11:31:01:INFO] Determined delimiter of CSV input is ','\u001b[0m\n",
      "\u001b[35m[2020-11-07:11:31:01:INFO] Sniff delimiter as ','\u001b[0m\n",
      "\u001b[35m[2020-11-07:11:31:01:INFO] Determined delimiter of CSV input is ','\u001b[0m\n",
      "\u001b[35m[2020-11-07:11:31:01:INFO] Sniff delimiter as ','\u001b[0m\n",
      "\u001b[35m[2020-11-07:11:31:01:INFO] Determined delimiter of CSV input is ','\u001b[0m\n",
      "\u001b[35m[2020-11-07:11:31:01:INFO] Sniff delimiter as ','\u001b[0m\n",
      "\u001b[35m[2020-11-07:11:31:01:INFO] Determined delimiter of CSV input is ','\u001b[0m\n",
      "\u001b[35m[2020-11-07:11:31:01:INFO] Sniff delimiter as ','\u001b[0m\n",
      "\u001b[35m[2020-11-07:11:31:01:INFO] Determined delimiter of CSV input is ','\u001b[0m\n",
      "\u001b[34m[2020-11-07:11:31:03:INFO] Sniff delimiter as ','\u001b[0m\n",
      "\u001b[34m[2020-11-07:11:31:03:INFO] Determined delimiter of CSV input is ','\u001b[0m\n",
      "\u001b[34m[2020-11-07:11:31:03:INFO] Sniff delimiter as ','\u001b[0m\n",
      "\u001b[34m[2020-11-07:11:31:03:INFO] Determined delimiter of CSV input is ','\u001b[0m\n",
      "\u001b[34m[2020-11-07:11:31:03:INFO] Sniff delimiter as ','\u001b[0m\n",
      "\u001b[34m[2020-11-07:11:31:03:INFO] Determined delimiter of CSV input is ','\u001b[0m\n",
      "\u001b[35m[2020-11-07:11:31:03:INFO] Sniff delimiter as ','\u001b[0m\n",
      "\u001b[35m[2020-11-07:11:31:03:INFO] Determined delimiter of CSV input is ','\u001b[0m\n",
      "\u001b[35m[2020-11-07:11:31:03:INFO] Sniff delimiter as ','\u001b[0m\n",
      "\u001b[35m[2020-11-07:11:31:03:INFO] Determined delimiter of CSV input is ','\u001b[0m\n",
      "\u001b[35m[2020-11-07:11:31:03:INFO] Sniff delimiter as ','\u001b[0m\n",
      "\u001b[35m[2020-11-07:11:31:03:INFO] Determined delimiter of CSV input is ','\u001b[0m\n",
      "\u001b[34m[2020-11-07:11:31:04:INFO] Sniff delimiter as ','\u001b[0m\n",
      "\u001b[34m[2020-11-07:11:31:04:INFO] Determined delimiter of CSV input is ','\u001b[0m\n",
      "\u001b[35m[2020-11-07:11:31:04:INFO] Sniff delimiter as ','\u001b[0m\n",
      "\u001b[35m[2020-11-07:11:31:04:INFO] Determined delimiter of CSV input is ','\u001b[0m\n",
      "\u001b[34m[2020-11-07:11:31:05:INFO] Sniff delimiter as ','\u001b[0m\n",
      "\u001b[34m[2020-11-07:11:31:05:INFO] Determined delimiter of CSV input is ','\u001b[0m\n",
      "\u001b[35m[2020-11-07:11:31:05:INFO] Sniff delimiter as ','\u001b[0m\n",
      "\u001b[35m[2020-11-07:11:31:05:INFO] Determined delimiter of CSV input is ','\u001b[0m\n",
      "\u001b[34m[2020-11-07:11:31:06:INFO] Sniff delimiter as ','\u001b[0m\n",
      "\u001b[34m[2020-11-07:11:31:06:INFO] Determined delimiter of CSV input is ','\u001b[0m\n",
      "\u001b[35m[2020-11-07:11:31:06:INFO] Sniff delimiter as ','\u001b[0m\n",
      "\u001b[35m[2020-11-07:11:31:06:INFO] Determined delimiter of CSV input is ','\u001b[0m\n",
      "\u001b[34m[2020-11-07:11:31:06:INFO] Sniff delimiter as ','\u001b[0m\n",
      "\u001b[34m[2020-11-07:11:31:06:INFO] Determined delimiter of CSV input is ','\u001b[0m\n",
      "\u001b[34m[2020-11-07:11:31:06:INFO] Sniff delimiter as ','\u001b[0m\n",
      "\u001b[34m[2020-11-07:11:31:06:INFO] Determined delimiter of CSV input is ','\u001b[0m\n",
      "\u001b[35m[2020-11-07:11:31:06:INFO] Sniff delimiter as ','\u001b[0m\n",
      "\u001b[35m[2020-11-07:11:31:06:INFO] Determined delimiter of CSV input is ','\u001b[0m\n",
      "\u001b[35m[2020-11-07:11:31:06:INFO] Sniff delimiter as ','\u001b[0m\n",
      "\u001b[35m[2020-11-07:11:31:06:INFO] Determined delimiter of CSV input is ','\u001b[0m\n",
      "\u001b[34m[2020-11-07:11:31:08:INFO] Sniff delimiter as ','\u001b[0m\n",
      "\u001b[34m[2020-11-07:11:31:08:INFO] Determined delimiter of CSV input is ','\u001b[0m\n",
      "\u001b[34m[2020-11-07:11:31:08:INFO] Sniff delimiter as ','\u001b[0m\n",
      "\u001b[35m[2020-11-07:11:31:08:INFO] Sniff delimiter as ','\u001b[0m\n",
      "\u001b[35m[2020-11-07:11:31:08:INFO] Determined delimiter of CSV input is ','\u001b[0m\n",
      "\u001b[35m[2020-11-07:11:31:08:INFO] Sniff delimiter as ','\u001b[0m\n",
      "\u001b[34m[2020-11-07:11:31:08:INFO] Determined delimiter of CSV input is ','\u001b[0m\n",
      "\u001b[34m[2020-11-07:11:31:08:INFO] Sniff delimiter as ','\u001b[0m\n",
      "\u001b[34m[2020-11-07:11:31:08:INFO] Determined delimiter of CSV input is ','\u001b[0m\n",
      "\u001b[35m[2020-11-07:11:31:08:INFO] Determined delimiter of CSV input is ','\u001b[0m\n",
      "\u001b[35m[2020-11-07:11:31:08:INFO] Sniff delimiter as ','\u001b[0m\n",
      "\u001b[35m[2020-11-07:11:31:08:INFO] Determined delimiter of CSV input is ','\u001b[0m\n",
      "\u001b[34m[2020-11-07:11:31:09:INFO] Sniff delimiter as ','\u001b[0m\n",
      "\u001b[34m[2020-11-07:11:31:09:INFO] Determined delimiter of CSV input is ','\u001b[0m\n",
      "\u001b[35m[2020-11-07:11:31:09:INFO] Sniff delimiter as ','\u001b[0m\n",
      "\u001b[35m[2020-11-07:11:31:09:INFO] Determined delimiter of CSV input is ','\u001b[0m\n",
      "\u001b[34m[2020-11-07:11:31:10:INFO] Sniff delimiter as ','\u001b[0m\n",
      "\u001b[35m[2020-11-07:11:31:10:INFO] Sniff delimiter as ','\u001b[0m\n",
      "\u001b[34m[2020-11-07:11:31:10:INFO] Determined delimiter of CSV input is ','\u001b[0m\n",
      "\u001b[34m[2020-11-07:11:31:10:INFO] Sniff delimiter as ','\u001b[0m\n",
      "\u001b[34m[2020-11-07:11:31:10:INFO] Determined delimiter of CSV input is ','\u001b[0m\n",
      "\u001b[35m[2020-11-07:11:31:10:INFO] Determined delimiter of CSV input is ','\u001b[0m\n",
      "\u001b[35m[2020-11-07:11:31:10:INFO] Sniff delimiter as ','\u001b[0m\n",
      "\u001b[35m[2020-11-07:11:31:10:INFO] Determined delimiter of CSV input is ','\u001b[0m\n",
      "\u001b[34m[2020-11-07:11:31:11:INFO] Sniff delimiter as ','\u001b[0m\n",
      "\u001b[34m[2020-11-07:11:31:11:INFO] Determined delimiter of CSV input is ','\u001b[0m\n",
      "\u001b[34m[2020-11-07:11:31:11:INFO] Sniff delimiter as ','\u001b[0m\n",
      "\u001b[34m[2020-11-07:11:31:11:INFO] Determined delimiter of CSV input is ','\u001b[0m\n",
      "\u001b[35m[2020-11-07:11:31:11:INFO] Sniff delimiter as ','\u001b[0m\n",
      "\u001b[35m[2020-11-07:11:31:11:INFO] Determined delimiter of CSV input is ','\u001b[0m\n",
      "\u001b[35m[2020-11-07:11:31:11:INFO] Sniff delimiter as ','\u001b[0m\n",
      "\u001b[35m[2020-11-07:11:31:11:INFO] Determined delimiter of CSV input is ','\u001b[0m\n",
      "\u001b[34m[2020-11-07:11:31:13:INFO] Sniff delimiter as ','\u001b[0m\n",
      "\u001b[34m[2020-11-07:11:31:13:INFO] Determined delimiter of CSV input is ','\u001b[0m\n",
      "\u001b[34m[2020-11-07:11:31:13:INFO] Sniff delimiter as ','\u001b[0m\n",
      "\u001b[34m[2020-11-07:11:31:13:INFO] Determined delimiter of CSV input is ','\u001b[0m\n",
      "\u001b[34m[2020-11-07:11:31:13:INFO] Sniff delimiter as ','\u001b[0m\n",
      "\u001b[34m[2020-11-07:11:31:13:INFO] Determined delimiter of CSV input is ','\u001b[0m\n",
      "\u001b[34m[2020-11-07:11:31:13:INFO] Sniff delimiter as ','\u001b[0m\n",
      "\u001b[34m[2020-11-07:11:31:13:INFO] Determined delimiter of CSV input is ','\u001b[0m\n",
      "\u001b[35m[2020-11-07:11:31:13:INFO] Sniff delimiter as ','\u001b[0m\n",
      "\u001b[35m[2020-11-07:11:31:13:INFO] Determined delimiter of CSV input is ','\u001b[0m\n",
      "\u001b[35m[2020-11-07:11:31:13:INFO] Sniff delimiter as ','\u001b[0m\n",
      "\u001b[35m[2020-11-07:11:31:13:INFO] Determined delimiter of CSV input is ','\u001b[0m\n",
      "\u001b[35m[2020-11-07:11:31:13:INFO] Sniff delimiter as ','\u001b[0m\n",
      "\u001b[35m[2020-11-07:11:31:13:INFO] Determined delimiter of CSV input is ','\u001b[0m\n",
      "\u001b[35m[2020-11-07:11:31:13:INFO] Sniff delimiter as ','\u001b[0m\n",
      "\u001b[35m[2020-11-07:11:31:13:INFO] Determined delimiter of CSV input is ','\u001b[0m\n"
     ]
    }
   ],
   "source": [
    "xgb_transformer.wait()"
   ]
  },
  {
   "cell_type": "markdown",
   "metadata": {},
   "source": [
    "Now the transform job has executed and the result, the estimated sentiment of each review, has been saved on S3. Since we would rather work on this file locally we can perform a bit of notebook magic to copy the file to the `data_dir`."
   ]
  },
  {
   "cell_type": "code",
   "execution_count": 31,
   "metadata": {},
   "outputs": [
    {
     "name": "stdout",
     "output_type": "stream",
     "text": [
      "download: s3://sagemaker-us-east-2-923075793485/xgboost-2020-11-07-11-26-12-113/test.csv.out to ../data/sentiment_web_app/test.csv.out\r\n"
     ]
    }
   ],
   "source": [
    "!aws s3 cp --recursive $xgb_transformer.output_path $data_dir"
   ]
  },
  {
   "cell_type": "markdown",
   "metadata": {},
   "source": [
    "The last step is now to read in the output from our model, convert the output to something a little more usable, in this case we want the sentiment to be either `1` (positive) or `0` (negative), and then compare to the ground truth labels."
   ]
  },
  {
   "cell_type": "code",
   "execution_count": 32,
   "metadata": {},
   "outputs": [],
   "source": [
    "predictions = pd.read_csv(os.path.join(data_dir, 'test.csv.out'), header=None)\n",
    "predictions = [round(num) for num in predictions.squeeze().values]"
   ]
  },
  {
   "cell_type": "code",
   "execution_count": 33,
   "metadata": {},
   "outputs": [
    {
     "data": {
      "text/plain": [
       "0.8594"
      ]
     },
     "execution_count": 33,
     "metadata": {},
     "output_type": "execute_result"
    }
   ],
   "source": [
    "from sklearn.metrics import accuracy_score\n",
    "accuracy_score(test_y, predictions)"
   ]
  },
  {
   "cell_type": "markdown",
   "metadata": {},
   "source": [
    "## Step 6: Deploying the model\n",
    "\n",
    "Once we construct and fit our model, SageMaker stores the resulting model artifacts and we can use those to deploy an endpoint (inference code). To see this, look in the SageMaker console and you should see that a model has been created along with a link to the S3 location where the model artifacts have been stored.\n",
    "\n",
    "Deploying an endpoint is a lot like training the model with a few important differences. The first is that a deployed model doesn't change the model artifacts, so as you send it various testing instances the model won't change. Another difference is that since we aren't performing a fixed computation, as we were in the training step or while performing a batch transform, the compute instance that gets started stays running until we tell it to stop. This is important to note as if we forget and leave it running we will be charged the entire time.\n",
    "\n",
    "In other words **If you are no longer using a deployed endpoint, shut it down!**"
   ]
  },
  {
   "cell_type": "code",
   "execution_count": 34,
   "metadata": {},
   "outputs": [
    {
     "name": "stdout",
     "output_type": "stream",
     "text": [
      "-------------!"
     ]
    }
   ],
   "source": [
    "xgb_predictor = xgb.deploy(initial_instance_count = 1, instance_type = 'ml.m4.xlarge')"
   ]
  },
  {
   "cell_type": "markdown",
   "metadata": {},
   "source": [
    "### Testing the model (again)\n",
    "\n",
    "Now that we have deployed our endpoint, we can send the testing data to it and get back the inference results. We already did this earlier using the batch transform functionality of SageMaker, however, we will test our model again using the newly deployed endpoint so that we can make sure that it works properly and to get a bit of a feel for how the endpoint works.\n",
    "\n",
    "When using the created endpoint it is important to know that we are limited in the amount of information we can send in each call so we need to break the testing data up into chunks and then send each chunk. Also, we need to serialize our data before we send it to the endpoint to ensure that our data is transmitted properly. Fortunately, SageMaker can do the serialization part for us provided we tell it the format of our data."
   ]
  },
  {
   "cell_type": "code",
   "execution_count": 40,
   "metadata": {},
   "outputs": [],
   "source": [
    "# from sagemaker.predictor import csv_serializer\n",
    "\n",
    "# We need to tell the endpoint what format the data we are sending is in so that SageMaker can perform the serialization.\n",
    "xgb_predictor.contenttype = 'text/csv'\n",
    "xgb_predictor.serializer = sagemaker.serializers.CSVSerializer()"
   ]
  },
  {
   "cell_type": "code",
   "execution_count": 41,
   "metadata": {},
   "outputs": [],
   "source": [
    "# We split the data into chunks and send each chunk seperately, accumulating the results.\n",
    "\n",
    "def predict(data, rows=512):\n",
    "    split_array = np.array_split(data, int(data.shape[0] / float(rows) + 1))\n",
    "    predictions = ''\n",
    "    for array in split_array:\n",
    "        predictions = ','.join([predictions, xgb_predictor.predict(array).decode('utf-8')])\n",
    "    \n",
    "    return np.fromstring(predictions[1:], sep=',')"
   ]
  },
  {
   "cell_type": "code",
   "execution_count": 42,
   "metadata": {},
   "outputs": [],
   "source": [
    "test_X = pd.read_csv(os.path.join(data_dir, 'test.csv'), header=None).values\n",
    "\n",
    "predictions = predict(test_X)\n",
    "predictions = [round(num) for num in predictions]"
   ]
  },
  {
   "cell_type": "markdown",
   "metadata": {},
   "source": [
    "Lastly, we check to see what the accuracy of our model is."
   ]
  },
  {
   "cell_type": "code",
   "execution_count": 43,
   "metadata": {},
   "outputs": [
    {
     "data": {
      "text/plain": [
       "0.8594"
      ]
     },
     "execution_count": 43,
     "metadata": {},
     "output_type": "execute_result"
    }
   ],
   "source": [
    "from sklearn.metrics import accuracy_score\n",
    "accuracy_score(test_y, predictions)"
   ]
  },
  {
   "cell_type": "markdown",
   "metadata": {},
   "source": [
    "And the results here should agree with the model testing that we did earlier using the batch transform job.\n",
    "\n",
    "### Cleaning up\n",
    "\n",
    "Now that we've determined that deploying our model works as expected, we are going to shut it down. Remember that the longer the endpoint is left running, the greater the cost and since we have a bit more work to do before we are able to use our endpoint with our simple web app, we should shut everything down."
   ]
  },
  {
   "cell_type": "code",
   "execution_count": null,
   "metadata": {},
   "outputs": [],
   "source": [
    "# xgb_predictor.delete_endpoint()"
   ]
  },
  {
   "cell_type": "markdown",
   "metadata": {},
   "source": [
    "## Step 7: Putting our model to work\n",
    "\n",
    "As we've mentioned a few times now, our goal is to have our model deployed and then access it using a very simple web app. The intent is for this web app to take some user submitted data (a review), send it off to our endpoint (the model) and then display the result.\n",
    "\n",
    "However, there is a small catch. Currently the only way we can access the endpoint to send it data is using the SageMaker API. We can, if we wish, expose the actual URL that our model's endpoint is receiving data from, however, if we just send it data ourselves we will not get anything in return. This is because the endpoint created by SageMaker requires the entity accessing it have the correct permissions. So, we would need to somehow authenticate our web app with AWS.\n",
    "\n",
    "Having a website that authenticates to AWS seems a bit beyond the scope of this lesson so we will opt for an alternative approach. Namely, we will create a new endpoint which does not require authentication and which acts as a proxy for the SageMaker endpoint.\n",
    "\n",
    "As an additional constraint, we will try to avoid doing any data processing in the web app itself. Remember that when we constructed and tested our model we started with a movie review, then we simplified it by removing any html formatting and punctuation, then we constructed a bag of words embedding and the resulting vector is what we sent to our model. All of this needs to be done to our user input as well.\n",
    "\n",
    "Fortunately we can do all of this data processing in the backend, using Amazon's Lambda service.\n",
    "\n",
    "<img src=\"Web App Diagram.svg\">\n",
    "\n",
    "The diagram above gives an overview of how the various services will work together. On the far right is the model which we trained above and which will be deployed using SageMaker. On the far left is our web app that collects a user's movie review, sends it off and expects a positive or negative sentiment in return.\n",
    "\n",
    "In the middle is where some of the magic happens. We will construct a Lambda function, which you can think of as a straightforward Python function that can be executed whenever a specified event occurs. This Python function will do the data processing we need to perform on a user submitted review. In addition, we will give this function permission to send and recieve data from a SageMaker endpoint.\n",
    "\n",
    "Lastly, the method we will use to execute the Lambda function is a new endpoint that we will create using API Gateway. This endpoint will be a url that listens for data to be sent to it. Once it gets some data it will pass that data on to the Lambda function and then return whatever the Lambda function returns. Essentially it will act as an interface that lets our web app communicate with the Lambda function.\n",
    "\n",
    "### Processing a single review\n",
    "\n",
    "For now, suppose we are given a movie review by our user in the form of a string, like so:"
   ]
  },
  {
   "cell_type": "code",
   "execution_count": 44,
   "metadata": {},
   "outputs": [],
   "source": [
    "test_review = \"Nothing but a disgusting materialistic pageant of glistening abed remote control greed zombies, totally devoid of any heart or heat. A romantic comedy that has zero romantic chemestry and zero laughs!\""
   ]
  },
  {
   "cell_type": "markdown",
   "metadata": {},
   "source": [
    "How do we go from this string to the bag of words feature vector that is expected by our model?\n",
    "\n",
    "If we recall at the beginning of this notebook, the first step is to remove any unnecessary characters using the `review_to_words` method. Remember that we intentionally did this in a very simplistic way. This is because we are going to have to copy this method to our (eventual) Lambda function (we will go into more detail later) and this means it needs to be rather simplistic."
   ]
  },
  {
   "cell_type": "code",
   "execution_count": 45,
   "metadata": {},
   "outputs": [
    {
     "name": "stdout",
     "output_type": "stream",
     "text": [
      "nothing but a disgusting materialistic pageant of glistening abed remote control greed zombies totally devoid of any heart or heat a romantic comedy that has zero romantic chemestry and zero laughs\n"
     ]
    }
   ],
   "source": [
    "test_words = review_to_words(test_review)\n",
    "print(test_words)"
   ]
  },
  {
   "cell_type": "markdown",
   "metadata": {},
   "source": [
    "Next, we need to construct a bag of words embedding of the `test_words` string. To do this, remember that a bag of words embedding uses a `vocabulary` consisting of the most frequently appearing words in a set of documents. Then, for each word in the vocabulary we record the number of times that word appears in `test_words`. We constructed the `vocabulary` earlier using the training set for our problem so encoding `test_words` is relatively straightforward."
   ]
  },
  {
   "cell_type": "code",
   "execution_count": 46,
   "metadata": {},
   "outputs": [],
   "source": [
    "def bow_encoding(words, vocabulary):\n",
    "    bow = [0] * len(vocabulary) # Start by setting the count for each word in the vocabulary to zero.\n",
    "    for word in words.split():  # For each word in the string\n",
    "        if word in vocabulary:  # If the word is one that occurs in the vocabulary, increase its count.\n",
    "            bow[vocabulary[word]] += 1\n",
    "    return bow"
   ]
  },
  {
   "cell_type": "code",
   "execution_count": 47,
   "metadata": {},
   "outputs": [
    {
     "name": "stdout",
     "output_type": "stream",
     "text": [
      "[0, 0, 0, 0, 0, 0, 0, 0, 0, 0, 0, 0, 0, 0, 0, 0, 0, 0, 0, 0, 0, 0, 0, 0, 0, 0, 0, 0, 0, 0, 0, 0, 0, 0, 0, 0, 0, 0, 0, 0, 0, 0, 0, 0, 0, 0, 0, 0, 0, 0, 0, 0, 0, 0, 0, 0, 0, 0, 0, 0, 0, 0, 0, 0, 0, 0, 0, 0, 0, 0, 0, 0, 0, 0, 0, 0, 0, 0, 0, 0, 0, 0, 0, 0, 0, 0, 0, 0, 0, 0, 0, 0, 0, 0, 0, 0, 0, 0, 0, 0, 0, 0, 0, 0, 0, 0, 0, 0, 0, 0, 0, 0, 0, 0, 0, 0, 0, 0, 0, 0, 0, 0, 0, 0, 0, 0, 0, 0, 0, 0, 0, 0, 0, 0, 0, 0, 0, 0, 0, 0, 0, 0, 0, 0, 0, 0, 0, 0, 0, 0, 0, 0, 0, 0, 0, 0, 0, 0, 0, 0, 0, 0, 0, 0, 0, 0, 0, 0, 0, 0, 0, 0, 0, 0, 0, 0, 0, 0, 0, 0, 0, 0, 0, 0, 0, 0, 0, 0, 0, 0, 0, 0, 0, 0, 0, 0, 0, 0, 0, 0, 0, 0, 0, 0, 0, 0, 0, 0, 0, 0, 0, 0, 0, 0, 0, 0, 0, 0, 0, 0, 0, 0, 0, 0, 0, 0, 1, 0, 0, 0, 0, 0, 0, 0, 0, 0, 0, 0, 0, 0, 0, 0, 0, 0, 0, 0, 0, 0, 0, 0, 0, 0, 0, 0, 0, 0, 1, 0, 0, 0, 0, 0, 0, 0, 0, 0, 0, 0, 0, 0, 0, 0, 0, 0, 0, 0, 0, 0, 0, 0, 0, 0, 0, 0, 0, 0, 0, 0, 0, 0, 0, 0, 0, 0, 0, 0, 0, 0, 0, 0, 0, 0, 0, 0, 0, 0, 0, 0, 0, 0, 0, 0, 0, 0, 0, 0, 0, 0, 0, 0, 0, 0, 0, 0, 0, 0, 0, 0, 0, 0, 0, 0, 0, 0, 0, 0, 0, 0, 0, 0, 0, 0, 0, 0, 0, 0, 0, 0, 0, 0, 0, 0, 0, 0, 0, 0, 0, 0, 0, 0, 0, 0, 0, 0, 0, 0, 0, 0, 0, 0, 0, 0, 0, 0, 0, 0, 0, 0, 0, 0, 0, 0, 0, 0, 0, 0, 0, 0, 0, 0, 0, 0, 0, 0, 0, 0, 0, 0, 0, 0, 0, 0, 0, 0, 0, 0, 0, 0, 0, 0, 0, 0, 0, 0, 0, 0, 0, 0, 0, 0, 0, 0, 0, 0, 0, 0, 0, 0, 0, 0, 0, 0, 0, 0, 0, 0, 0, 0, 0, 0, 0, 0, 0, 0, 0, 0, 0, 0, 0, 0, 0, 0, 0, 0, 0, 0, 0, 0, 0, 0, 0, 0, 0, 0, 0, 0, 0, 0, 0, 0, 0, 0, 0, 0, 0, 0, 0, 0, 0, 0, 0, 0, 0, 0, 0, 0, 0, 0, 0, 0, 0, 0, 0, 0, 0, 0, 0, 0, 0, 0, 0, 0, 0, 0, 0, 0, 0, 0, 0, 0, 0, 0, 0, 0, 0, 0, 0, 0, 0, 0, 0, 0, 0, 0, 0, 0, 0, 0, 0, 0, 0, 0, 0, 0, 0, 0, 0, 0, 0, 0, 0, 0, 0, 0, 0, 0, 0, 0, 0, 0, 0, 0, 0, 0, 0, 0, 0, 0, 0, 0, 0, 0, 0, 0, 0, 0, 0, 0, 0, 0, 0, 0, 0, 0, 0, 0, 0, 0, 0, 0, 0, 0, 0, 0, 0, 0, 0, 0, 0, 0, 0, 0, 0, 0, 0, 0, 0, 0, 0, 0, 0, 0, 0, 0, 0, 0, 0, 0, 0, 0, 0, 0, 0, 0, 0, 0, 0, 0, 0, 0, 0, 0, 0, 0, 0, 0, 0, 0, 0, 0, 0, 0, 0, 0, 0, 0, 1, 0, 0, 0, 0, 0, 0, 0, 0, 0, 0, 0, 0, 0, 0, 0, 0, 0, 0, 0, 0, 0, 0, 0, 0, 0, 0, 0, 0, 0, 0, 0, 0, 0, 0, 0, 0, 0, 0, 0, 0, 0, 0, 0, 0, 0, 0, 0, 0, 0, 0, 0, 0, 0, 0, 0, 0, 0, 0, 0, 0, 0, 0, 0, 0, 0, 0, 0, 0, 0, 0, 0, 0, 0, 0, 0, 0, 0, 0, 0, 0, 0, 0, 0, 0, 0, 0, 0, 0, 0, 0, 0, 0, 0, 0, 0, 0, 0, 0, 0, 0, 0, 0, 0, 0, 0, 0, 0, 0, 0, 0, 0, 0, 0, 0, 0, 0, 0, 0, 0, 0, 0, 0, 0, 0, 0, 0, 0, 0, 0, 0, 0, 0, 0, 0, 0, 0, 0, 0, 0, 0, 0, 0, 0, 0, 0, 0, 0, 0, 0, 0, 0, 0, 0, 0, 0, 0, 0, 0, 0, 0, 0, 0, 0, 0, 0, 0, 0, 0, 0, 0, 0, 0, 0, 0, 0, 0, 0, 0, 0, 0, 0, 0, 0, 0, 0, 0, 0, 0, 0, 0, 0, 0, 0, 0, 0, 0, 0, 0, 0, 0, 0, 0, 0, 0, 0, 0, 0, 0, 0, 0, 0, 0, 0, 0, 0, 0, 0, 0, 0, 0, 0, 0, 0, 0, 0, 0, 0, 0, 0, 0, 0, 0, 0, 0, 0, 0, 0, 0, 0, 0, 0, 0, 0, 0, 0, 0, 0, 0, 0, 0, 0, 0, 0, 1, 0, 0, 0, 0, 0, 0, 0, 0, 0, 0, 0, 0, 0, 0, 0, 0, 0, 0, 0, 0, 0, 0, 0, 0, 0, 0, 0, 0, 0, 0, 0, 0, 0, 0, 0, 0, 0, 0, 0, 0, 0, 0, 0, 0, 0, 0, 0, 0, 0, 0, 0, 0, 0, 0, 0, 0, 0, 0, 0, 0, 0, 0, 0, 0, 0, 0, 0, 0, 0, 0, 0, 0, 0, 0, 0, 0, 0, 0, 0, 0, 0, 0, 0, 0, 0, 0, 1, 0, 0, 0, 0, 0, 0, 0, 0, 0, 0, 0, 0, 0, 0, 0, 0, 0, 0, 0, 0, 0, 0, 0, 0, 0, 0, 0, 0, 0, 0, 0, 0, 0, 0, 0, 0, 0, 0, 0, 0, 0, 0, 0, 0, 0, 0, 0, 0, 0, 0, 0, 0, 0, 0, 0, 0, 0, 0, 0, 0, 0, 0, 0, 0, 0, 0, 0, 0, 0, 0, 0, 0, 0, 0, 0, 0, 0, 0, 0, 0, 0, 0, 0, 0, 0, 0, 0, 0, 0, 0, 0, 0, 0, 0, 0, 0, 0, 0, 0, 0, 0, 0, 0, 0, 0, 0, 0, 0, 0, 0, 0, 0, 0, 0, 0, 0, 0, 0, 0, 0, 0, 0, 0, 0, 0, 0, 0, 0, 0, 0, 0, 0, 0, 0, 0, 0, 0, 0, 0, 0, 0, 0, 0, 0, 0, 0, 0, 0, 0, 0, 0, 0, 0, 0, 0, 0, 0, 0, 0, 0, 0, 0, 0, 0, 0, 0, 0, 0, 0, 0, 0, 0, 0, 0, 0, 0, 0, 0, 0, 0, 0, 0, 0, 0, 0, 0, 0, 0, 0, 0, 0, 0, 0, 0, 0, 0, 0, 0, 0, 0, 0, 0, 0, 0, 0, 0, 0, 0, 0, 0, 0, 0, 0, 0, 0, 0, 0, 0, 0, 0, 0, 0, 0, 0, 0, 0, 0, 0, 0, 0, 0, 0, 0, 0, 0, 0, 0, 0, 0, 0, 0, 0, 0, 0, 0, 0, 0, 0, 0, 0, 0, 0, 1, 0, 0, 0, 0, 0, 0, 0, 0, 0, 0, 0, 0, 0, 0, 0, 0, 0, 0, 0, 0, 0, 0, 0, 0, 0, 0, 0, 0, 0, 0, 0, 0, 0, 0, 0, 0, 0, 0, 0, 0, 0, 0, 0, 0, 0, 0, 0, 0, 0, 0, 0, 0, 0, 0, 0, 1, 0, 0, 0, 0, 0, 0, 0, 0, 0, 0, 0, 0, 0, 0, 0, 0, 0, 0, 0, 0, 0, 0, 0, 0, 0, 0, 0, 0, 0, 0, 0, 0, 0, 0, 0, 0, 0, 0, 0, 0, 0, 0, 0, 0, 0, 0, 0, 0, 0, 0, 0, 0, 0, 0, 0, 0, 0, 0, 0, 0, 0, 0, 0, 0, 0, 0, 0, 0, 0, 0, 0, 0, 0, 0, 0, 0, 0, 0, 0, 0, 0, 0, 0, 0, 0, 0, 0, 0, 0, 0, 0, 0, 0, 0, 0, 0, 0, 0, 0, 0, 0, 0, 0, 0, 0, 0, 0, 0, 0, 0, 0, 0, 0, 0, 0, 0, 0, 0, 0, 0, 0, 0, 0, 0, 0, 0, 0, 0, 0, 0, 0, 0, 0, 0, 0, 0, 0, 0, 0, 0, 0, 0, 0, 0, 0, 0, 0, 0, 0, 0, 0, 0, 0, 0, 0, 0, 0, 0, 0, 0, 0, 0, 0, 0, 0, 0, 0, 0, 0, 0, 0, 0, 0, 0, 0, 0, 0, 0, 0, 0, 0, 0, 0, 0, 0, 0, 0, 0, 0, 0, 0, 0, 0, 0, 0, 0, 0, 0, 0, 0, 0, 0, 0, 0, 0, 0, 0, 0, 0, 0, 0, 0, 0, 0, 0, 0, 0, 0, 0, 0, 0, 0, 0, 0, 0, 0, 0, 0, 0, 0, 0, 0, 0, 0, 0, 0, 0, 0, 0, 0, 0, 0, 0, 0, 0, 0, 0, 0, 0, 0, 0, 0, 0, 0, 0, 0, 0, 0, 0, 0, 0, 0, 0, 0, 0, 0, 0, 0, 0, 0, 0, 0, 0, 0, 0, 0, 0, 0, 0, 0, 0, 0, 0, 0, 0, 0, 0, 0, 0, 0, 0, 0, 0, 0, 0, 0, 0, 0, 0, 0, 0, 0, 0, 0, 0, 0, 0, 0, 0, 0, 0, 0, 0, 0, 0, 0, 0, 0, 0, 0, 0, 0, 0, 0, 0, 0, 0, 0, 0, 0, 0, 0, 0, 0, 0, 0, 0, 0, 0, 0, 0, 0, 0, 0, 0, 0, 0, 0, 0, 0, 0, 0, 0, 0, 0, 0, 0, 0, 0, 0, 0, 0, 0, 0, 0, 0, 0, 0, 0, 0, 0, 0, 0, 0, 0, 0, 0, 0, 0, 0, 0, 0, 0, 0, 0, 0, 0, 0, 0, 0, 0, 0, 0, 0, 0, 0, 0, 0, 0, 0, 0, 0, 0, 0, 0, 0, 0, 0, 0, 0, 0, 0, 0, 0, 0, 0, 0, 0, 0, 0, 0, 0, 0, 0, 0, 0, 0, 0, 0, 0, 0, 0, 0, 0, 0, 0, 0, 0, 0, 0, 0, 0, 0, 0, 0, 0, 0, 0, 0, 0, 0, 0, 0, 0, 0, 0, 0, 0, 0, 0, 0, 0, 0, 0, 0, 0, 0, 0, 0, 0, 0, 0, 0, 0, 0, 0, 0, 0, 0, 0, 0, 0, 0, 0, 0, 0, 0, 0, 0, 0, 0, 0, 0, 0, 0, 0, 0, 0, 0, 0, 0, 0, 0, 0, 0, 0, 0, 0, 0, 0, 0, 0, 0, 0, 0, 0, 0, 0, 0, 0, 0, 0, 0, 0, 0, 0, 0, 0, 0, 0, 0, 0, 0, 0, 0, 0, 0, 0, 0, 0, 0, 0, 0, 0, 0, 0, 0, 0, 0, 0, 0, 0, 0, 0, 0, 0, 0, 0, 0, 0, 0, 0, 0, 0, 0, 0, 0, 0, 0, 0, 0, 0, 0, 0, 0, 0, 0, 0, 0, 0, 0, 0, 0, 0, 0, 0, 0, 0, 0, 0, 0, 0, 0, 0, 0, 0, 0, 0, 0, 0, 0, 0, 0, 0, 0, 0, 0, 0, 0, 0, 0, 0, 0, 0, 0, 0, 0, 0, 0, 0, 0, 0, 0, 0, 0, 0, 0, 0, 0, 0, 0, 0, 0, 0, 0, 0, 0, 0, 0, 0, 0, 0, 0, 0, 0, 0, 0, 0, 0, 0, 0, 0, 0, 0, 0, 0, 0, 0, 0, 0, 0, 0, 0, 0, 0, 0, 0, 0, 0, 0, 0, 0, 0, 0, 0, 0, 0, 0, 0, 0, 0, 1, 0, 0, 0, 0, 0, 0, 0, 0, 0, 0, 0, 0, 0, 0, 0, 0, 0, 0, 0, 0, 0, 0, 0, 0, 0, 0, 0, 0, 0, 0, 0, 0, 0, 0, 0, 0, 0, 0, 0, 0, 0, 0, 0, 0, 0, 0, 0, 0, 0, 0, 0, 0, 0, 0, 0, 0, 0, 0, 0, 0, 0, 0, 0, 0, 0, 0, 0, 0, 0, 0, 0, 0, 0, 0, 1, 0, 0, 0, 0, 0, 0, 0, 0, 0, 0, 0, 0, 0, 0, 0, 0, 0, 0, 0, 0, 1, 0, 0, 1, 0, 0, 0, 0, 0, 0, 0, 0, 0, 0, 0, 0, 0, 0, 0, 0, 0, 0, 0, 0, 0, 0, 0, 0, 0, 0, 0, 0, 0, 0, 0, 0, 0, 0, 0, 0, 0, 0, 0, 0, 0, 0, 0, 0, 0, 0, 0, 0, 0, 0, 0, 0, 0, 0, 0, 0, 0, 0, 0, 0, 0, 0, 0, 0, 0, 0, 0, 0, 0, 0, 0, 0, 0, 0, 0, 0, 0, 0, 0, 0, 0, 0, 0, 0, 0, 0, 0, 0, 0, 0, 0, 0, 0, 0, 0, 0, 0, 0, 0, 0, 0, 0, 0, 0, 0, 0, 0, 0, 0, 0, 0, 0, 0, 0, 0, 0, 0, 0, 0, 0, 0, 0, 0, 0, 0, 0, 0, 0, 0, 0, 0, 0, 0, 0, 0, 0, 0, 0, 0, 0, 0, 0, 0, 0, 0, 0, 0, 0, 0, 0, 0, 0, 0, 0, 0, 0, 0, 0, 0, 0, 0, 0, 0, 0, 0, 0, 0, 0, 0, 0, 0, 0, 0, 0, 0, 0, 0, 0, 0, 0, 0, 0, 0, 0, 0, 0, 0, 0, 0, 0, 0, 0, 0, 0, 0, 0, 0, 0, 0, 0, 0, 0, 0, 0, 0, 0, 0, 0, 0, 0, 0, 0, 0, 0, 0, 0, 0, 0, 0, 0, 0, 0, 0, 0, 0, 0, 0, 0, 0, 0, 0, 0, 0, 0, 0, 0, 0, 0, 0, 0, 0, 0, 0, 0, 0, 0, 0, 0, 0, 0, 0, 0, 0, 0, 0, 0, 0, 0, 0, 0, 0, 0, 0, 0, 0, 0, 0, 0, 0, 0, 0, 0, 0, 0, 0, 0, 0, 0, 0, 0, 0, 0, 0, 0, 0, 0, 0, 0, 0, 0, 0, 0, 0, 0, 0, 0, 0, 0, 0, 0, 0, 0, 0, 0, 0, 0, 0, 0, 0, 0, 0, 0, 0, 0, 0, 0, 0, 0, 0, 0, 0, 0, 0, 0, 0, 0, 0, 0, 0, 0, 0, 0, 0, 0, 0, 0, 0, 0, 0, 0, 0, 0, 0, 0, 0, 0, 0, 0, 0, 0, 0, 0, 0, 0, 0, 0, 0, 0, 0, 0, 0, 0, 0, 0, 0, 0, 0, 0, 0, 0, 0, 0, 0, 0, 0, 0, 0, 0, 0, 0, 0, 0, 0, 0, 0, 0, 0, 0, 0, 0, 0, 0, 0, 0, 0, 0, 0, 0, 0, 0, 0, 0, 0, 0, 0, 0, 0, 0, 0, 0, 0, 0, 0, 0, 0, 0, 0, 0, 0, 0, 0, 0, 0, 0, 0, 0, 0, 0, 0, 0, 0, 0, 0, 0, 0, 0, 0, 0, 0, 0, 0, 0, 0, 0, 0, 0, 0, 0, 0, 0, 0, 0, 0, 0, 0, 0, 0, 0, 0, 0, 0, 0, 0, 0, 0, 0, 1, 0, 0, 0, 0, 0, 0, 0, 0, 0, 0, 0, 0, 0, 0, 0, 0, 0, 0, 0, 0, 0, 0, 0, 0, 0, 0, 0, 0, 0, 0, 0, 0, 0, 0, 0, 0, 0, 0, 0, 0, 0, 0, 0, 0, 0, 0, 0, 0, 0, 0, 0, 0, 0, 0, 0, 0, 0, 0, 0, 0, 0, 0, 0, 0, 0, 0, 0, 0, 0, 0, 0, 0, 0, 0, 0, 0, 0, 0, 0, 0, 0, 0, 0, 0, 0, 0, 0, 0, 0, 0, 0, 0, 0, 0, 0, 0, 0, 0, 0, 0, 0, 0, 0, 0, 0, 0, 0, 0, 0, 0, 0, 0, 0, 0, 0, 0, 0, 0, 0, 0, 0, 0, 0, 0, 0, 0, 0, 0, 0, 0, 0, 0, 0, 0, 0, 0, 0, 0, 0, 0, 0, 0, 0, 0, 0, 0, 0, 0, 0, 0, 0, 0, 0, 0, 0, 0, 0, 0, 0, 0, 0, 0, 0, 0, 0, 0, 0, 0, 0, 0, 0, 0, 0, 0, 0, 0, 0, 0, 0, 0, 0, 0, 0, 0, 0, 0, 0, 0, 0, 0, 0, 0, 0, 0, 0, 0, 0, 0, 0, 0, 0, 0, 0, 0, 0, 0, 0, 0, 0, 0, 0, 0, 0, 0, 0, 0, 0, 0, 0, 0, 0, 0, 0, 0, 0, 0, 0, 0, 0, 0, 0, 0, 0, 0, 0, 0, 0, 0, 0, 0, 0, 0, 0, 0, 0, 0, 0, 0, 0, 0, 0, 0, 0, 0, 0, 0, 0, 0, 0, 0, 0, 0, 0, 0, 0, 0, 0, 0, 0, 0, 0, 0, 0, 0, 0, 0, 0, 0, 0, 0, 0, 0, 0, 0, 0, 0, 0, 0, 0, 0, 0, 0, 0, 0, 0, 0, 0, 0, 0, 0, 0, 0, 0, 0, 0, 0, 0, 0, 0, 0, 0, 0, 0, 0, 0, 0, 0, 0, 0, 0, 0, 0, 0, 0, 0, 0, 0, 0, 0, 0, 0, 0, 0, 0, 0, 0, 0, 0, 0, 0, 0, 0, 0, 0, 0, 0, 0, 0, 0, 0, 0, 0, 0, 0, 0, 0, 0, 0, 0, 0, 0, 0, 0, 0, 0, 0, 0, 0, 0, 0, 0, 0, 0, 0, 0, 0, 0, 0, 0, 0, 0, 0, 0, 0, 0, 0, 0, 0, 0, 0, 0, 0, 0, 0, 0, 0, 0, 0, 0, 0, 0, 0, 0, 0, 0, 0, 0, 0, 0, 0, 0, 0, 0, 0, 0, 0, 0, 0, 0, 0, 0, 0, 0, 0, 0, 0, 0, 0, 0, 0, 0, 0, 0, 0, 0, 0, 0, 0, 0, 0, 0, 0, 0, 0, 0, 0, 0, 0, 0, 0, 0, 0, 0, 0, 0, 0, 0, 0, 0, 0, 0, 0, 0, 0, 0, 0, 0, 0, 0, 0, 0, 0, 0, 0, 0, 0, 0, 0, 0, 0, 0, 0, 0, 0, 0, 0, 0, 0, 0, 0, 0, 0, 0, 0, 0, 0, 0, 0, 0, 0, 0, 0, 0, 0, 0, 0, 0, 0, 0, 0, 0, 0, 1, 0, 0, 0, 0, 0, 0, 0, 0, 0, 0, 0, 0, 0, 0, 0, 0, 0, 0, 0, 0, 0, 0, 0, 0, 0, 0, 0, 0, 0, 0, 0, 0, 0, 0, 0, 2, 0, 0, 0, 0, 0, 0, 0, 0, 0, 0, 0, 0, 0, 0, 0, 0, 0, 0, 0, 0, 0, 0, 0, 0, 0, 0, 0, 0, 0, 0, 0, 0, 0, 0, 0, 0, 0, 0, 0, 0, 1, 0, 0, 0, 0, 0, 0, 0, 0, 0, 0, 0, 0, 0, 0, 0, 0, 0, 0, 0, 0, 0, 0, 0, 0, 0, 0, 0, 0, 0, 0, 0, 0, 0, 0, 0, 0, 0, 0, 0, 0, 0, 0, 0, 0, 0, 0, 0, 0, 0, 0, 0, 0, 0, 0, 0, 0, 0, 0, 0, 0, 0, 0, 0, 0, 0, 0, 0, 0, 0, 0, 0, 0, 0, 0, 0, 0, 0, 0, 0, 0, 0, 0, 0, 0, 0, 0, 0, 0, 0, 0, 0, 0, 0, 0, 0, 0, 0, 0, 0, 0, 0, 0, 0, 0, 0, 0, 0, 0, 0, 0, 0, 0, 0, 0, 0, 0, 0, 0, 0, 0, 0, 0, 0, 0, 0, 0, 0, 0, 0, 0, 0, 0, 0, 0, 0, 0, 0, 0, 0, 0, 0, 0, 0, 0, 0, 0, 0, 0, 0, 0, 0, 0, 0, 0, 0, 0, 0, 0, 0, 0, 0, 0, 0, 0, 0, 0, 0, 0, 0, 0, 0, 0, 0, 0, 0, 0, 0, 0, 0, 0, 0, 0, 0, 0, 0, 0, 0, 0, 0, 0, 0, 0, 0, 0, 0, 0, 0, 0, 0, 0, 0, 0, 0, 0, 0, 0, 0, 0, 0, 0, 0, 0, 0, 0, 0, 0, 0, 0, 0, 0, 0, 0, 0, 0, 0, 0, 0, 0, 0, 0, 0, 0, 0, 0, 0, 0, 0, 0, 0, 0, 0, 0, 0, 0, 0, 0, 0, 0, 0, 0, 0, 0, 0, 0, 0, 0, 0, 0, 0, 0, 0, 0, 0, 0, 0, 0, 0, 0, 0, 0, 0, 0, 0, 0, 0, 0, 0, 0, 0, 0, 0, 0, 0, 0, 0, 0, 0, 0, 0, 0, 0, 0, 0, 0, 0, 0, 0, 0, 0, 0, 0, 0, 0, 0, 0, 0, 0, 0, 0, 0, 0, 0, 0, 0, 0, 0, 0, 0, 0, 0, 0, 0, 0, 0, 0, 0, 0, 0, 0, 0, 0, 0, 0, 0, 0, 0, 0, 0, 0, 0, 0, 0, 0, 0, 0, 0, 0, 0, 0, 0, 0, 0, 0, 0, 0, 0, 0, 0, 0, 0, 0, 0, 0, 0, 0, 0, 0, 0, 0, 0, 0, 0, 0, 0, 0, 0, 0, 0, 0, 0, 0, 0, 0, 0, 0, 0, 0, 0, 0, 0, 0, 0, 0, 0, 0, 0, 0, 0, 0, 0, 0, 0, 0, 0, 0, 0, 0, 0, 0, 0, 0, 0, 0, 0, 0, 0, 0, 0, 0, 0, 0, 0, 0, 0, 0, 0, 0, 0, 0, 0, 0, 0, 0, 0, 0, 0, 0, 0, 0, 0, 0, 0, 0, 0, 0, 0, 0, 0, 0, 0, 0, 0, 0, 0, 0, 0, 0, 0, 0, 0, 0, 0, 0, 0, 0, 0, 0, 0, 0, 0, 0, 0, 0, 0, 0, 0, 0, 0, 0, 0, 0, 0, 0, 0, 0, 0, 0, 0, 0, 0, 0, 0, 0, 0, 0, 0, 0, 1, 0, 0, 0, 0, 0, 0, 0, 0, 0, 0, 0, 0, 0, 0, 0, 0, 0, 0, 0, 0, 0, 0, 0, 0, 0, 0, 0, 0, 0, 0, 0, 0, 0, 0, 0, 0, 0, 0, 0, 0, 0, 0, 0, 0, 0, 0, 0, 0, 0, 0, 0, 0, 0, 0, 0, 0, 0, 0, 0, 0, 0, 0, 0, 0, 0, 0, 0, 0, 0, 0, 0, 0, 0, 0, 0, 0, 0, 0, 0, 0, 0, 0, 0, 0, 0, 0, 0, 0, 0, 0, 0, 0, 0, 0, 0, 0, 0, 0, 0, 0, 0, 0, 0, 0, 0, 0, 0, 0, 0, 0, 2, 0, 0, 0, 0, 0, 0, 0, 0, 0, 0, 0, 0, 0, 0, 0, 0, 0, 0, 0, 0, 0, 0, 0, 0, 0, 0, 0, 0, 0, 0, 0, 0, 0, 0, 0, 0, 0, 0, 0, 0, 0, 0, 0, 0, 0, 0, 0, 0, 0, 0, 0, 0, 0, 0, 0, 0, 0, 0, 0, 0, 0, 0, 0, 0, 0, 0, 0, 0, 0, 0, 0, 0, 0, 0, 0, 0, 0, 0, 0, 0, 0, 0, 0, 0, 0, 0, 0, 0, 0, 0, 0, 0, 0, 0, 0, 0, 0, 0, 0, 0, 0, 0, 0, 0, 0, 0, 0, 0, 0, 0, 0, 0, 0, 0, 0, 0, 0, 0, 0, 0, 0, 0, 0, 0, 0, 0, 0, 0, 0, 0, 0, 0, 0, 0, 0, 0, 0, 0, 0, 0, 0, 0, 0, 0, 0, 0, 0, 0, 0, 0, 0, 0, 0, 0, 0, 0, 0, 0, 0, 0, 0, 0, 0, 0, 0, 0, 0, 0, 0, 0, 0, 0, 0, 0, 0, 0, 0, 0, 0, 0, 0, 0, 0, 0, 0, 0, 0, 0, 0, 0, 0, 0, 0, 0, 0, 0, 0, 0, 0, 0, 0, 0, 0, 0, 0, 0, 0, 0, 0, 0, 0, 0, 0, 0, 0, 0, 0, 0, 0, 0, 0, 0, 0, 0, 0, 0, 0, 0, 0, 0, 0, 0, 0, 0, 0, 0, 0, 0, 0, 0, 0, 0, 0, 0, 0, 0, 0, 0, 0, 0, 0, 0, 0, 0, 0, 0, 0, 0, 0, 0, 0, 0, 0, 0, 0, 0, 0, 0, 0, 0, 0, 0, 0, 0, 0, 0, 0, 0, 0, 0, 0, 0, 0, 0, 0, 0, 0, 0, 0, 0, 0, 0, 0, 0, 0, 0, 0, 0, 0, 0, 0, 0, 0, 0, 0, 0, 0, 0, 0, 0, 0, 0, 0, 0, 0, 0, 0, 0, 0, 0, 0, 0, 0, 0, 0, 0, 0, 0, 0, 0, 0, 0, 0, 0, 0, 0, 0, 0, 0, 0, 0, 0, 0, 0, 0, 0, 0, 0, 0, 0, 0, 0, 0, 0, 0, 0, 0, 0, 0, 0, 0, 0, 0, 0, 0, 0, 0, 0, 0, 0, 0, 0, 0, 0, 0, 0, 0, 0, 0, 0, 0, 0, 0, 0, 0, 0, 0, 0, 0, 0, 0, 0, 0, 0, 0, 0, 0, 0, 0, 0, 0, 0, 0, 0, 0, 0, 0, 0, 0, 0, 0, 0, 0, 0, 0, 0, 0, 0, 0, 0, 0, 0, 0, 0, 0, 0, 0, 0, 0, 0, 0, 0, 0, 0, 0, 0, 0, 0, 0, 0, 0, 0, 0, 0, 0, 0, 0, 0, 0, 0, 0, 0, 0, 0, 0, 0, 0, 0, 0, 0, 0, 0, 0, 0, 0, 0, 0, 0, 0, 0, 0, 0, 0, 0, 0, 0, 0, 0, 0, 0, 0, 0, 0, 0, 0, 0, 0, 0, 0, 0, 0, 0, 0, 0, 0, 0, 0, 0, 0, 0, 0, 0, 0, 0, 0, 0, 0, 0, 0, 0, 0, 0, 0, 0, 0, 0, 0, 0, 0, 0, 0, 0, 0, 0, 0, 0, 0, 0, 0, 0, 0, 0, 0, 0, 0, 0, 0, 0, 0, 0, 0, 0, 0, 0, 0, 0, 0, 0, 0, 0, 0, 0, 0, 0, 0, 0, 0, 0, 0, 0, 0, 0, 0, 0, 0, 0, 0, 0, 0, 0, 0, 0, 0, 0, 0, 0, 0, 0, 0, 0, 0, 0, 0, 0, 0, 0, 0, 0, 0, 0, 0, 0, 0, 0, 0, 0, 0, 0, 0, 0, 0, 0, 0, 0, 0, 0, 0, 0, 0, 0, 0, 0, 0, 0, 0, 0, 0, 0, 0, 0, 0, 0, 0, 0, 0, 0, 0, 0, 0, 0, 0, 0, 0, 0, 0, 0, 0, 0, 0, 0, 0, 0, 0, 0, 0, 0, 0, 0, 0, 0, 0, 0, 0, 0, 0, 0, 0, 0, 0, 0, 0, 0, 0, 0, 0, 0, 0, 0, 0, 0, 0, 0, 0, 0, 0, 0, 0, 0, 0, 0, 0, 0, 0, 0, 0, 0, 0, 0, 0, 0, 1, 0, 0, 0, 0, 0, 0, 0, 0, 0, 0, 0, 0, 0, 0, 0, 0, 0, 0, 0, 0, 0, 0, 0, 0, 0, 0, 0, 0, 0, 0, 0, 0, 0, 0, 0, 0, 0, 0, 0, 0, 0, 0, 0, 0, 0, 0, 0, 0, 0, 0, 0, 0, 0, 0, 0, 0, 0, 0, 0, 0, 0, 0, 0, 0, 0, 0, 0, 0, 0, 0, 0, 0, 0, 0, 0, 0, 0, 0, 0, 0, 0, 0, 0, 0, 0, 0, 0, 0, 0, 0, 0, 0, 0, 0, 0, 0, 0, 0, 0, 0, 0, 0, 0, 0, 0, 0, 0, 1, 0, 0, 0, 0, 0, 0, 0, 0, 0, 0, 0, 0, 0, 0, 0, 0, 0, 0, 0, 0, 0, 0, 0, 0, 0, 0, 0, 0, 0, 0, 0, 0, 0, 0, 0, 0, 0, 0, 0, 0, 0, 0, 0, 0, 0, 0, 0, 0, 0, 0, 0, 0, 0, 0, 0, 0, 0, 0, 0, 0, 0, 0, 0, 0, 0, 0, 0, 0, 0, 0, 0, 0, 0, 0, 0, 0, 0, 0, 0, 0, 0, 0, 0, 0, 0, 0, 0, 0, 0, 0, 0, 0, 0, 0, 0, 0, 0, 0, 0, 0, 0, 0, 0, 0, 0, 0, 0, 0, 0, 0, 0, 0, 0, 0, 0, 0, 0, 0, 0, 0, 0, 0, 0, 0, 0, 0, 0, 0, 0, 0, 0, 0, 0, 0, 0, 0, 0, 0, 0, 0, 0, 0, 0, 0, 0, 0, 0, 0, 0, 0, 0, 0, 0, 0, 0, 0, 0, 0, 0, 0, 0, 0, 0, 0, 0, 0, 0, 0, 0, 0, 0, 0, 0, 0, 0, 0, 0, 0, 0, 0, 0, 0, 0, 0, 0, 0, 0, 0, 0, 0, 0, 0, 0, 0, 0, 0, 0, 0, 0, 0, 0, 0, 0, 0, 0, 0, 0, 0, 0, 0, 0, 0, 0, 0, 0, 0, 0, 0, 0, 0, 0, 0, 0, 0, 0, 0, 0, 0, 0, 0, 0, 0, 0, 0, 0, 0, 0, 0, 0, 0, 0, 0, 0, 0, 0, 0, 0, 0, 0, 0, 0, 0, 0, 0, 0, 0, 0, 0, 0, 0, 0, 0, 0, 0, 0, 0, 0, 0, 0, 0, 0, 0, 0, 0, 0, 0, 0, 0, 0, 0, 0, 0, 0, 0, 0, 0, 0, 0, 0, 0, 0, 0, 0, 0, 0, 0, 0, 0, 0, 0, 0, 0, 0, 0, 0, 0, 0, 0, 0, 0, 0, 0, 0, 0, 0, 0, 0, 0, 0, 0, 0, 0, 0, 0, 0, 0, 0, 0, 0, 0, 0, 0, 0, 0, 0, 0, 0, 0, 0, 0, 0, 0, 0, 0, 0, 0, 0, 0, 0, 0, 0, 0, 0, 0, 0, 0, 0, 0, 0, 0, 0, 0, 0, 0, 0, 0, 0, 0, 0, 0, 0, 0, 0, 0, 0, 0, 0, 0, 0, 0, 0, 0, 0, 0, 0, 0, 0, 0, 0, 0, 0, 0, 0, 0, 0, 0, 0, 0, 0, 0, 0, 0, 0, 0, 0, 0, 0, 0, 0, 0, 0, 0, 0, 0, 0, 0, 0, 0, 0, 0, 0, 0, 0, 0, 0, 0, 0, 0, 0, 0, 0, 0, 0, 0, 0, 0, 0, 0, 0, 0, 0, 0, 0, 0, 0, 0, 0, 0, 0, 0, 0, 0, 0, 0, 0, 0, 0, 0, 0, 0, 0, 0, 0, 2, 0, 1, 0]\n"
     ]
    }
   ],
   "source": [
    "test_bow = bow_encoding(test_words, vocabulary)\n",
    "print(test_bow)"
   ]
  },
  {
   "cell_type": "code",
   "execution_count": 48,
   "metadata": {},
   "outputs": [
    {
     "data": {
      "text/plain": [
       "5000"
      ]
     },
     "execution_count": 48,
     "metadata": {},
     "output_type": "execute_result"
    }
   ],
   "source": [
    "len(test_bow)"
   ]
  },
  {
   "cell_type": "markdown",
   "metadata": {},
   "source": [
    "So now we know how to construct a bag of words encoding of a user provided review, how to we send it to our endpoint? First, we need to start the endpoint back up."
   ]
  },
  {
   "cell_type": "code",
   "execution_count": 49,
   "metadata": {},
   "outputs": [
    {
     "name": "stdout",
     "output_type": "stream",
     "text": [
      "-"
     ]
    },
    {
     "ename": "KeyboardInterrupt",
     "evalue": "",
     "output_type": "error",
     "traceback": [
      "\u001b[0;31m---------------------------------------------------------------------------\u001b[0m",
      "\u001b[0;31mKeyboardInterrupt\u001b[0m                         Traceback (most recent call last)",
      "\u001b[0;32m<ipython-input-49-ccb632c8fb45>\u001b[0m in \u001b[0;36m<module>\u001b[0;34m\u001b[0m\n\u001b[0;32m----> 1\u001b[0;31m \u001b[0mxgb_predictor\u001b[0m \u001b[0;34m=\u001b[0m \u001b[0mxgb\u001b[0m\u001b[0;34m.\u001b[0m\u001b[0mdeploy\u001b[0m\u001b[0;34m(\u001b[0m\u001b[0minitial_instance_count\u001b[0m \u001b[0;34m=\u001b[0m \u001b[0;36m1\u001b[0m\u001b[0;34m,\u001b[0m \u001b[0minstance_type\u001b[0m \u001b[0;34m=\u001b[0m \u001b[0;34m'ml.m4.xlarge'\u001b[0m\u001b[0;34m)\u001b[0m\u001b[0;34m\u001b[0m\u001b[0;34m\u001b[0m\u001b[0m\n\u001b[0m",
      "\u001b[0;32m~/anaconda3/envs/python3/lib/python3.6/site-packages/sagemaker/estimator.py\u001b[0m in \u001b[0;36mdeploy\u001b[0;34m(self, initial_instance_count, instance_type, serializer, deserializer, accelerator_type, endpoint_name, use_compiled_model, wait, model_name, kms_key, data_capture_config, tags, **kwargs)\u001b[0m\n\u001b[1;32m    801\u001b[0m             \u001b[0mwait\u001b[0m\u001b[0;34m=\u001b[0m\u001b[0mwait\u001b[0m\u001b[0;34m,\u001b[0m\u001b[0;34m\u001b[0m\u001b[0;34m\u001b[0m\u001b[0m\n\u001b[1;32m    802\u001b[0m             \u001b[0mkms_key\u001b[0m\u001b[0;34m=\u001b[0m\u001b[0mkms_key\u001b[0m\u001b[0;34m,\u001b[0m\u001b[0;34m\u001b[0m\u001b[0;34m\u001b[0m\u001b[0m\n\u001b[0;32m--> 803\u001b[0;31m             \u001b[0mdata_capture_config\u001b[0m\u001b[0;34m=\u001b[0m\u001b[0mdata_capture_config\u001b[0m\u001b[0;34m,\u001b[0m\u001b[0;34m\u001b[0m\u001b[0;34m\u001b[0m\u001b[0m\n\u001b[0m\u001b[1;32m    804\u001b[0m         )\n\u001b[1;32m    805\u001b[0m \u001b[0;34m\u001b[0m\u001b[0m\n",
      "\u001b[0;32m~/anaconda3/envs/python3/lib/python3.6/site-packages/sagemaker/model.py\u001b[0m in \u001b[0;36mdeploy\u001b[0;34m(self, initial_instance_count, instance_type, serializer, deserializer, accelerator_type, endpoint_name, tags, kms_key, wait, data_capture_config, **kwargs)\u001b[0m\n\u001b[1;32m    528\u001b[0m             \u001b[0mkms_key\u001b[0m\u001b[0;34m=\u001b[0m\u001b[0mkms_key\u001b[0m\u001b[0;34m,\u001b[0m\u001b[0;34m\u001b[0m\u001b[0;34m\u001b[0m\u001b[0m\n\u001b[1;32m    529\u001b[0m             \u001b[0mwait\u001b[0m\u001b[0;34m=\u001b[0m\u001b[0mwait\u001b[0m\u001b[0;34m,\u001b[0m\u001b[0;34m\u001b[0m\u001b[0;34m\u001b[0m\u001b[0m\n\u001b[0;32m--> 530\u001b[0;31m             \u001b[0mdata_capture_config_dict\u001b[0m\u001b[0;34m=\u001b[0m\u001b[0mdata_capture_config_dict\u001b[0m\u001b[0;34m,\u001b[0m\u001b[0;34m\u001b[0m\u001b[0;34m\u001b[0m\u001b[0m\n\u001b[0m\u001b[1;32m    531\u001b[0m         )\n\u001b[1;32m    532\u001b[0m \u001b[0;34m\u001b[0m\u001b[0m\n",
      "\u001b[0;32m~/anaconda3/envs/python3/lib/python3.6/site-packages/sagemaker/session.py\u001b[0m in \u001b[0;36mendpoint_from_production_variants\u001b[0;34m(self, name, production_variants, tags, kms_key, wait, data_capture_config_dict)\u001b[0m\n\u001b[1;32m   3191\u001b[0m \u001b[0;34m\u001b[0m\u001b[0m\n\u001b[1;32m   3192\u001b[0m             \u001b[0mself\u001b[0m\u001b[0;34m.\u001b[0m\u001b[0msagemaker_client\u001b[0m\u001b[0;34m.\u001b[0m\u001b[0mcreate_endpoint_config\u001b[0m\u001b[0;34m(\u001b[0m\u001b[0;34m**\u001b[0m\u001b[0mconfig_options\u001b[0m\u001b[0;34m)\u001b[0m\u001b[0;34m\u001b[0m\u001b[0;34m\u001b[0m\u001b[0m\n\u001b[0;32m-> 3193\u001b[0;31m         \u001b[0;32mreturn\u001b[0m \u001b[0mself\u001b[0m\u001b[0;34m.\u001b[0m\u001b[0mcreate_endpoint\u001b[0m\u001b[0;34m(\u001b[0m\u001b[0mendpoint_name\u001b[0m\u001b[0;34m=\u001b[0m\u001b[0mname\u001b[0m\u001b[0;34m,\u001b[0m \u001b[0mconfig_name\u001b[0m\u001b[0;34m=\u001b[0m\u001b[0mname\u001b[0m\u001b[0;34m,\u001b[0m \u001b[0mtags\u001b[0m\u001b[0;34m=\u001b[0m\u001b[0mtags\u001b[0m\u001b[0;34m,\u001b[0m \u001b[0mwait\u001b[0m\u001b[0;34m=\u001b[0m\u001b[0mwait\u001b[0m\u001b[0;34m)\u001b[0m\u001b[0;34m\u001b[0m\u001b[0;34m\u001b[0m\u001b[0m\n\u001b[0m\u001b[1;32m   3194\u001b[0m \u001b[0;34m\u001b[0m\u001b[0m\n\u001b[1;32m   3195\u001b[0m     \u001b[0;32mdef\u001b[0m \u001b[0mexpand_role\u001b[0m\u001b[0;34m(\u001b[0m\u001b[0mself\u001b[0m\u001b[0;34m,\u001b[0m \u001b[0mrole\u001b[0m\u001b[0;34m)\u001b[0m\u001b[0;34m:\u001b[0m\u001b[0;34m\u001b[0m\u001b[0;34m\u001b[0m\u001b[0m\n",
      "\u001b[0;32m~/anaconda3/envs/python3/lib/python3.6/site-packages/sagemaker/session.py\u001b[0m in \u001b[0;36mcreate_endpoint\u001b[0;34m(self, endpoint_name, config_name, tags, wait)\u001b[0m\n\u001b[1;32m   2709\u001b[0m         )\n\u001b[1;32m   2710\u001b[0m         \u001b[0;32mif\u001b[0m \u001b[0mwait\u001b[0m\u001b[0;34m:\u001b[0m\u001b[0;34m\u001b[0m\u001b[0;34m\u001b[0m\u001b[0m\n\u001b[0;32m-> 2711\u001b[0;31m             \u001b[0mself\u001b[0m\u001b[0;34m.\u001b[0m\u001b[0mwait_for_endpoint\u001b[0m\u001b[0;34m(\u001b[0m\u001b[0mendpoint_name\u001b[0m\u001b[0;34m)\u001b[0m\u001b[0;34m\u001b[0m\u001b[0;34m\u001b[0m\u001b[0m\n\u001b[0m\u001b[1;32m   2712\u001b[0m         \u001b[0;32mreturn\u001b[0m \u001b[0mendpoint_name\u001b[0m\u001b[0;34m\u001b[0m\u001b[0;34m\u001b[0m\u001b[0m\n\u001b[1;32m   2713\u001b[0m \u001b[0;34m\u001b[0m\u001b[0m\n",
      "\u001b[0;32m~/anaconda3/envs/python3/lib/python3.6/site-packages/sagemaker/session.py\u001b[0m in \u001b[0;36mwait_for_endpoint\u001b[0;34m(self, endpoint, poll)\u001b[0m\n\u001b[1;32m   2968\u001b[0m             \u001b[0mdict\u001b[0m\u001b[0;34m:\u001b[0m \u001b[0mReturn\u001b[0m \u001b[0mvalue\u001b[0m \u001b[0;32mfrom\u001b[0m \u001b[0mthe\u001b[0m\u001b[0;31m \u001b[0m\u001b[0;31m`\u001b[0m\u001b[0;31m`\u001b[0m\u001b[0mDescribeEndpoint\u001b[0m\u001b[0;31m`\u001b[0m\u001b[0;31m`\u001b[0m \u001b[0mAPI\u001b[0m\u001b[0;34m.\u001b[0m\u001b[0;34m\u001b[0m\u001b[0;34m\u001b[0m\u001b[0m\n\u001b[1;32m   2969\u001b[0m         \"\"\"\n\u001b[0;32m-> 2970\u001b[0;31m         \u001b[0mdesc\u001b[0m \u001b[0;34m=\u001b[0m \u001b[0m_wait_until\u001b[0m\u001b[0;34m(\u001b[0m\u001b[0;32mlambda\u001b[0m\u001b[0;34m:\u001b[0m \u001b[0m_deploy_done\u001b[0m\u001b[0;34m(\u001b[0m\u001b[0mself\u001b[0m\u001b[0;34m.\u001b[0m\u001b[0msagemaker_client\u001b[0m\u001b[0;34m,\u001b[0m \u001b[0mendpoint\u001b[0m\u001b[0;34m)\u001b[0m\u001b[0;34m,\u001b[0m \u001b[0mpoll\u001b[0m\u001b[0;34m)\u001b[0m\u001b[0;34m\u001b[0m\u001b[0;34m\u001b[0m\u001b[0m\n\u001b[0m\u001b[1;32m   2971\u001b[0m         \u001b[0mstatus\u001b[0m \u001b[0;34m=\u001b[0m \u001b[0mdesc\u001b[0m\u001b[0;34m[\u001b[0m\u001b[0;34m\"EndpointStatus\"\u001b[0m\u001b[0;34m]\u001b[0m\u001b[0;34m\u001b[0m\u001b[0;34m\u001b[0m\u001b[0m\n\u001b[1;32m   2972\u001b[0m \u001b[0;34m\u001b[0m\u001b[0m\n",
      "\u001b[0;32m~/anaconda3/envs/python3/lib/python3.6/site-packages/sagemaker/session.py\u001b[0m in \u001b[0;36m_wait_until\u001b[0;34m(callable_fn, poll)\u001b[0m\n\u001b[1;32m   3866\u001b[0m     \u001b[0mresult\u001b[0m \u001b[0;34m=\u001b[0m \u001b[0mcallable_fn\u001b[0m\u001b[0;34m(\u001b[0m\u001b[0;34m)\u001b[0m\u001b[0;34m\u001b[0m\u001b[0;34m\u001b[0m\u001b[0m\n\u001b[1;32m   3867\u001b[0m     \u001b[0;32mwhile\u001b[0m \u001b[0mresult\u001b[0m \u001b[0;32mis\u001b[0m \u001b[0;32mNone\u001b[0m\u001b[0;34m:\u001b[0m\u001b[0;34m\u001b[0m\u001b[0;34m\u001b[0m\u001b[0m\n\u001b[0;32m-> 3868\u001b[0;31m         \u001b[0mtime\u001b[0m\u001b[0;34m.\u001b[0m\u001b[0msleep\u001b[0m\u001b[0;34m(\u001b[0m\u001b[0mpoll\u001b[0m\u001b[0;34m)\u001b[0m\u001b[0;34m\u001b[0m\u001b[0;34m\u001b[0m\u001b[0m\n\u001b[0m\u001b[1;32m   3869\u001b[0m         \u001b[0mresult\u001b[0m \u001b[0;34m=\u001b[0m \u001b[0mcallable_fn\u001b[0m\u001b[0;34m(\u001b[0m\u001b[0;34m)\u001b[0m\u001b[0;34m\u001b[0m\u001b[0;34m\u001b[0m\u001b[0m\n\u001b[1;32m   3870\u001b[0m     \u001b[0;32mreturn\u001b[0m \u001b[0mresult\u001b[0m\u001b[0;34m\u001b[0m\u001b[0;34m\u001b[0m\u001b[0m\n",
      "\u001b[0;31mKeyboardInterrupt\u001b[0m: "
     ]
    }
   ],
   "source": [
    "xgb_predictor = xgb.deploy(initial_instance_count = 1, instance_type = 'ml.m4.xlarge')"
   ]
  },
  {
   "cell_type": "code",
   "execution_count": 50,
   "metadata": {},
   "outputs": [
    {
     "data": {
      "text/plain": [
       "<sagemaker.predictor.Predictor at 0x7fbc87754d30>"
      ]
     },
     "execution_count": 50,
     "metadata": {},
     "output_type": "execute_result"
    }
   ],
   "source": [
    "xgb_predictor"
   ]
  },
  {
   "cell_type": "markdown",
   "metadata": {},
   "source": [
    "At this point we could just do the same thing that we did earlier when we tested our deployed model and send `test_bow` to our endpoint using the `xgb_predictor` object. However, when we eventually construct our Lambda function we won't have access to this object, so how do we call a SageMaker endpoint?\n",
    "\n",
    "It turns out that Python functions that are used in Lambda have access to another Amazon library called `boto3`. This library provides an API for working with Amazon services, including SageMaker. To start with, we need to get a handle to the SageMaker runtime."
   ]
  },
  {
   "cell_type": "code",
   "execution_count": 51,
   "metadata": {},
   "outputs": [],
   "source": [
    "import boto3\n",
    "\n",
    "runtime = boto3.Session().client('sagemaker-runtime')"
   ]
  },
  {
   "cell_type": "markdown",
   "metadata": {},
   "source": [
    "And now that we have access to the SageMaker runtime, we can ask it to make use of (invoke) an endpoint that has already been created. However, we need to provide SageMaker with the name of the deployed endpoint. To find this out we can print it out using the `xgb_predictor` object."
   ]
  },
  {
   "cell_type": "code",
   "execution_count": 52,
   "metadata": {},
   "outputs": [
    {
     "name": "stderr",
     "output_type": "stream",
     "text": [
      "The endpoint attribute has been renamed in sagemaker>=2.\n",
      "See: https://sagemaker.readthedocs.io/en/stable/v2.html for details.\n"
     ]
    },
    {
     "data": {
      "text/plain": [
       "'xgboost-2020-11-07-11-32-27-592'"
      ]
     },
     "execution_count": 52,
     "metadata": {},
     "output_type": "execute_result"
    }
   ],
   "source": [
    "xgb_predictor.endpoint"
   ]
  },
  {
   "cell_type": "markdown",
   "metadata": {},
   "source": [
    "Using the SageMaker runtime and the name of our endpoint, we can invoke the endpoint and send it the `test_bow` data."
   ]
  },
  {
   "cell_type": "code",
   "execution_count": 53,
   "metadata": {},
   "outputs": [
    {
     "name": "stderr",
     "output_type": "stream",
     "text": [
      "The endpoint attribute has been renamed in sagemaker>=2.\n",
      "See: https://sagemaker.readthedocs.io/en/stable/v2.html for details.\n"
     ]
    },
    {
     "ename": "ParamValidationError",
     "evalue": "Parameter validation failed:\nInvalid type for parameter Body, value: [0, 0, 0, 0, 0, 0, 0, 0, 0, 0, 0, 0, 0, 0, 0, 0, 0, 0, 0, 0, 0, 0, 0, 0, 0, 0, 0, 0, 0, 0, 0, 0, 0, 0, 0, 0, 0, 0, 0, 0, 0, 0, 0, 0, 0, 0, 0, 0, 0, 0, 0, 0, 0, 0, 0, 0, 0, 0, 0, 0, 0, 0, 0, 0, 0, 0, 0, 0, 0, 0, 0, 0, 0, 0, 0, 0, 0, 0, 0, 0, 0, 0, 0, 0, 0, 0, 0, 0, 0, 0, 0, 0, 0, 0, 0, 0, 0, 0, 0, 0, 0, 0, 0, 0, 0, 0, 0, 0, 0, 0, 0, 0, 0, 0, 0, 0, 0, 0, 0, 0, 0, 0, 0, 0, 0, 0, 0, 0, 0, 0, 0, 0, 0, 0, 0, 0, 0, 0, 0, 0, 0, 0, 0, 0, 0, 0, 0, 0, 0, 0, 0, 0, 0, 0, 0, 0, 0, 0, 0, 0, 0, 0, 0, 0, 0, 0, 0, 0, 0, 0, 0, 0, 0, 0, 0, 0, 0, 0, 0, 0, 0, 0, 0, 0, 0, 0, 0, 0, 0, 0, 0, 0, 0, 0, 0, 0, 0, 0, 0, 0, 0, 0, 0, 0, 0, 0, 0, 0, 0, 0, 0, 0, 0, 0, 0, 0, 0, 0, 0, 0, 0, 0, 0, 0, 0, 0, 1, 0, 0, 0, 0, 0, 0, 0, 0, 0, 0, 0, 0, 0, 0, 0, 0, 0, 0, 0, 0, 0, 0, 0, 0, 0, 0, 0, 0, 0, 1, 0, 0, 0, 0, 0, 0, 0, 0, 0, 0, 0, 0, 0, 0, 0, 0, 0, 0, 0, 0, 0, 0, 0, 0, 0, 0, 0, 0, 0, 0, 0, 0, 0, 0, 0, 0, 0, 0, 0, 0, 0, 0, 0, 0, 0, 0, 0, 0, 0, 0, 0, 0, 0, 0, 0, 0, 0, 0, 0, 0, 0, 0, 0, 0, 0, 0, 0, 0, 0, 0, 0, 0, 0, 0, 0, 0, 0, 0, 0, 0, 0, 0, 0, 0, 0, 0, 0, 0, 0, 0, 0, 0, 0, 0, 0, 0, 0, 0, 0, 0, 0, 0, 0, 0, 0, 0, 0, 0, 0, 0, 0, 0, 0, 0, 0, 0, 0, 0, 0, 0, 0, 0, 0, 0, 0, 0, 0, 0, 0, 0, 0, 0, 0, 0, 0, 0, 0, 0, 0, 0, 0, 0, 0, 0, 0, 0, 0, 0, 0, 0, 0, 0, 0, 0, 0, 0, 0, 0, 0, 0, 0, 0, 0, 0, 0, 0, 0, 0, 0, 0, 0, 0, 0, 0, 0, 0, 0, 0, 0, 0, 0, 0, 0, 0, 0, 0, 0, 0, 0, 0, 0, 0, 0, 0, 0, 0, 0, 0, 0, 0, 0, 0, 0, 0, 0, 0, 0, 0, 0, 0, 0, 0, 0, 0, 0, 0, 0, 0, 0, 0, 0, 0, 0, 0, 0, 0, 0, 0, 0, 0, 0, 0, 0, 0, 0, 0, 0, 0, 0, 0, 0, 0, 0, 0, 0, 0, 0, 0, 0, 0, 0, 0, 0, 0, 0, 0, 0, 0, 0, 0, 0, 0, 0, 0, 0, 0, 0, 0, 0, 0, 0, 0, 0, 0, 0, 0, 0, 0, 0, 0, 0, 0, 0, 0, 0, 0, 0, 0, 0, 0, 0, 0, 0, 0, 0, 0, 0, 0, 0, 0, 0, 0, 0, 0, 0, 0, 0, 0, 0, 0, 0, 0, 0, 0, 0, 0, 0, 0, 0, 0, 0, 0, 0, 0, 0, 0, 0, 0, 0, 0, 0, 0, 0, 0, 0, 0, 0, 0, 0, 0, 0, 0, 0, 0, 0, 0, 0, 0, 0, 0, 0, 0, 0, 0, 0, 0, 0, 0, 0, 0, 0, 0, 0, 0, 0, 0, 0, 0, 0, 0, 0, 0, 0, 0, 0, 0, 0, 0, 0, 1, 0, 0, 0, 0, 0, 0, 0, 0, 0, 0, 0, 0, 0, 0, 0, 0, 0, 0, 0, 0, 0, 0, 0, 0, 0, 0, 0, 0, 0, 0, 0, 0, 0, 0, 0, 0, 0, 0, 0, 0, 0, 0, 0, 0, 0, 0, 0, 0, 0, 0, 0, 0, 0, 0, 0, 0, 0, 0, 0, 0, 0, 0, 0, 0, 0, 0, 0, 0, 0, 0, 0, 0, 0, 0, 0, 0, 0, 0, 0, 0, 0, 0, 0, 0, 0, 0, 0, 0, 0, 0, 0, 0, 0, 0, 0, 0, 0, 0, 0, 0, 0, 0, 0, 0, 0, 0, 0, 0, 0, 0, 0, 0, 0, 0, 0, 0, 0, 0, 0, 0, 0, 0, 0, 0, 0, 0, 0, 0, 0, 0, 0, 0, 0, 0, 0, 0, 0, 0, 0, 0, 0, 0, 0, 0, 0, 0, 0, 0, 0, 0, 0, 0, 0, 0, 0, 0, 0, 0, 0, 0, 0, 0, 0, 0, 0, 0, 0, 0, 0, 0, 0, 0, 0, 0, 0, 0, 0, 0, 0, 0, 0, 0, 0, 0, 0, 0, 0, 0, 0, 0, 0, 0, 0, 0, 0, 0, 0, 0, 0, 0, 0, 0, 0, 0, 0, 0, 0, 0, 0, 0, 0, 0, 0, 0, 0, 0, 0, 0, 0, 0, 0, 0, 0, 0, 0, 0, 0, 0, 0, 0, 0, 0, 0, 0, 0, 0, 0, 0, 0, 0, 0, 0, 0, 0, 0, 0, 0, 0, 0, 0, 0, 0, 0, 1, 0, 0, 0, 0, 0, 0, 0, 0, 0, 0, 0, 0, 0, 0, 0, 0, 0, 0, 0, 0, 0, 0, 0, 0, 0, 0, 0, 0, 0, 0, 0, 0, 0, 0, 0, 0, 0, 0, 0, 0, 0, 0, 0, 0, 0, 0, 0, 0, 0, 0, 0, 0, 0, 0, 0, 0, 0, 0, 0, 0, 0, 0, 0, 0, 0, 0, 0, 0, 0, 0, 0, 0, 0, 0, 0, 0, 0, 0, 0, 0, 0, 0, 0, 0, 0, 0, 1, 0, 0, 0, 0, 0, 0, 0, 0, 0, 0, 0, 0, 0, 0, 0, 0, 0, 0, 0, 0, 0, 0, 0, 0, 0, 0, 0, 0, 0, 0, 0, 0, 0, 0, 0, 0, 0, 0, 0, 0, 0, 0, 0, 0, 0, 0, 0, 0, 0, 0, 0, 0, 0, 0, 0, 0, 0, 0, 0, 0, 0, 0, 0, 0, 0, 0, 0, 0, 0, 0, 0, 0, 0, 0, 0, 0, 0, 0, 0, 0, 0, 0, 0, 0, 0, 0, 0, 0, 0, 0, 0, 0, 0, 0, 0, 0, 0, 0, 0, 0, 0, 0, 0, 0, 0, 0, 0, 0, 0, 0, 0, 0, 0, 0, 0, 0, 0, 0, 0, 0, 0, 0, 0, 0, 0, 0, 0, 0, 0, 0, 0, 0, 0, 0, 0, 0, 0, 0, 0, 0, 0, 0, 0, 0, 0, 0, 0, 0, 0, 0, 0, 0, 0, 0, 0, 0, 0, 0, 0, 0, 0, 0, 0, 0, 0, 0, 0, 0, 0, 0, 0, 0, 0, 0, 0, 0, 0, 0, 0, 0, 0, 0, 0, 0, 0, 0, 0, 0, 0, 0, 0, 0, 0, 0, 0, 0, 0, 0, 0, 0, 0, 0, 0, 0, 0, 0, 0, 0, 0, 0, 0, 0, 0, 0, 0, 0, 0, 0, 0, 0, 0, 0, 0, 0, 0, 0, 0, 0, 0, 0, 0, 0, 0, 0, 0, 0, 0, 0, 0, 0, 0, 0, 0, 0, 0, 0, 0, 0, 0, 0, 0, 0, 1, 0, 0, 0, 0, 0, 0, 0, 0, 0, 0, 0, 0, 0, 0, 0, 0, 0, 0, 0, 0, 0, 0, 0, 0, 0, 0, 0, 0, 0, 0, 0, 0, 0, 0, 0, 0, 0, 0, 0, 0, 0, 0, 0, 0, 0, 0, 0, 0, 0, 0, 0, 0, 0, 0, 0, 1, 0, 0, 0, 0, 0, 0, 0, 0, 0, 0, 0, 0, 0, 0, 0, 0, 0, 0, 0, 0, 0, 0, 0, 0, 0, 0, 0, 0, 0, 0, 0, 0, 0, 0, 0, 0, 0, 0, 0, 0, 0, 0, 0, 0, 0, 0, 0, 0, 0, 0, 0, 0, 0, 0, 0, 0, 0, 0, 0, 0, 0, 0, 0, 0, 0, 0, 0, 0, 0, 0, 0, 0, 0, 0, 0, 0, 0, 0, 0, 0, 0, 0, 0, 0, 0, 0, 0, 0, 0, 0, 0, 0, 0, 0, 0, 0, 0, 0, 0, 0, 0, 0, 0, 0, 0, 0, 0, 0, 0, 0, 0, 0, 0, 0, 0, 0, 0, 0, 0, 0, 0, 0, 0, 0, 0, 0, 0, 0, 0, 0, 0, 0, 0, 0, 0, 0, 0, 0, 0, 0, 0, 0, 0, 0, 0, 0, 0, 0, 0, 0, 0, 0, 0, 0, 0, 0, 0, 0, 0, 0, 0, 0, 0, 0, 0, 0, 0, 0, 0, 0, 0, 0, 0, 0, 0, 0, 0, 0, 0, 0, 0, 0, 0, 0, 0, 0, 0, 0, 0, 0, 0, 0, 0, 0, 0, 0, 0, 0, 0, 0, 0, 0, 0, 0, 0, 0, 0, 0, 0, 0, 0, 0, 0, 0, 0, 0, 0, 0, 0, 0, 0, 0, 0, 0, 0, 0, 0, 0, 0, 0, 0, 0, 0, 0, 0, 0, 0, 0, 0, 0, 0, 0, 0, 0, 0, 0, 0, 0, 0, 0, 0, 0, 0, 0, 0, 0, 0, 0, 0, 0, 0, 0, 0, 0, 0, 0, 0, 0, 0, 0, 0, 0, 0, 0, 0, 0, 0, 0, 0, 0, 0, 0, 0, 0, 0, 0, 0, 0, 0, 0, 0, 0, 0, 0, 0, 0, 0, 0, 0, 0, 0, 0, 0, 0, 0, 0, 0, 0, 0, 0, 0, 0, 0, 0, 0, 0, 0, 0, 0, 0, 0, 0, 0, 0, 0, 0, 0, 0, 0, 0, 0, 0, 0, 0, 0, 0, 0, 0, 0, 0, 0, 0, 0, 0, 0, 0, 0, 0, 0, 0, 0, 0, 0, 0, 0, 0, 0, 0, 0, 0, 0, 0, 0, 0, 0, 0, 0, 0, 0, 0, 0, 0, 0, 0, 0, 0, 0, 0, 0, 0, 0, 0, 0, 0, 0, 0, 0, 0, 0, 0, 0, 0, 0, 0, 0, 0, 0, 0, 0, 0, 0, 0, 0, 0, 0, 0, 0, 0, 0, 0, 0, 0, 0, 0, 0, 0, 0, 0, 0, 0, 0, 0, 0, 0, 0, 0, 0, 0, 0, 0, 0, 0, 0, 0, 0, 0, 0, 0, 0, 0, 0, 0, 0, 0, 0, 0, 0, 0, 0, 0, 0, 0, 0, 0, 0, 0, 0, 0, 0, 0, 0, 0, 0, 0, 0, 0, 0, 0, 0, 0, 0, 0, 0, 0, 0, 0, 0, 0, 0, 0, 0, 0, 0, 0, 0, 0, 0, 0, 0, 0, 0, 0, 0, 0, 0, 0, 0, 0, 0, 0, 0, 0, 0, 0, 0, 0, 0, 0, 0, 0, 0, 0, 0, 0, 0, 0, 0, 0, 0, 0, 0, 0, 0, 0, 0, 0, 0, 0, 0, 0, 0, 0, 0, 0, 0, 0, 0, 0, 0, 0, 0, 0, 0, 0, 0, 0, 0, 0, 0, 0, 0, 0, 0, 0, 0, 0, 0, 0, 0, 0, 0, 0, 0, 0, 0, 0, 0, 0, 0, 0, 0, 0, 0, 0, 0, 0, 0, 0, 0, 0, 0, 0, 0, 0, 0, 0, 0, 0, 0, 0, 0, 0, 0, 0, 0, 0, 0, 0, 0, 0, 0, 0, 0, 0, 0, 0, 0, 0, 0, 0, 0, 0, 0, 0, 0, 0, 0, 0, 0, 0, 0, 0, 0, 0, 0, 0, 0, 0, 0, 0, 0, 0, 0, 0, 0, 0, 0, 0, 0, 0, 0, 0, 0, 0, 0, 0, 0, 0, 0, 0, 0, 0, 0, 0, 0, 0, 0, 0, 0, 0, 0, 0, 0, 0, 0, 0, 0, 0, 0, 0, 0, 0, 0, 0, 0, 0, 0, 0, 0, 0, 0, 1, 0, 0, 0, 0, 0, 0, 0, 0, 0, 0, 0, 0, 0, 0, 0, 0, 0, 0, 0, 0, 0, 0, 0, 0, 0, 0, 0, 0, 0, 0, 0, 0, 0, 0, 0, 0, 0, 0, 0, 0, 0, 0, 0, 0, 0, 0, 0, 0, 0, 0, 0, 0, 0, 0, 0, 0, 0, 0, 0, 0, 0, 0, 0, 0, 0, 0, 0, 0, 0, 0, 0, 0, 0, 0, 1, 0, 0, 0, 0, 0, 0, 0, 0, 0, 0, 0, 0, 0, 0, 0, 0, 0, 0, 0, 0, 1, 0, 0, 1, 0, 0, 0, 0, 0, 0, 0, 0, 0, 0, 0, 0, 0, 0, 0, 0, 0, 0, 0, 0, 0, 0, 0, 0, 0, 0, 0, 0, 0, 0, 0, 0, 0, 0, 0, 0, 0, 0, 0, 0, 0, 0, 0, 0, 0, 0, 0, 0, 0, 0, 0, 0, 0, 0, 0, 0, 0, 0, 0, 0, 0, 0, 0, 0, 0, 0, 0, 0, 0, 0, 0, 0, 0, 0, 0, 0, 0, 0, 0, 0, 0, 0, 0, 0, 0, 0, 0, 0, 0, 0, 0, 0, 0, 0, 0, 0, 0, 0, 0, 0, 0, 0, 0, 0, 0, 0, 0, 0, 0, 0, 0, 0, 0, 0, 0, 0, 0, 0, 0, 0, 0, 0, 0, 0, 0, 0, 0, 0, 0, 0, 0, 0, 0, 0, 0, 0, 0, 0, 0, 0, 0, 0, 0, 0, 0, 0, 0, 0, 0, 0, 0, 0, 0, 0, 0, 0, 0, 0, 0, 0, 0, 0, 0, 0, 0, 0, 0, 0, 0, 0, 0, 0, 0, 0, 0, 0, 0, 0, 0, 0, 0, 0, 0, 0, 0, 0, 0, 0, 0, 0, 0, 0, 0, 0, 0, 0, 0, 0, 0, 0, 0, 0, 0, 0, 0, 0, 0, 0, 0, 0, 0, 0, 0, 0, 0, 0, 0, 0, 0, 0, 0, 0, 0, 0, 0, 0, 0, 0, 0, 0, 0, 0, 0, 0, 0, 0, 0, 0, 0, 0, 0, 0, 0, 0, 0, 0, 0, 0, 0, 0, 0, 0, 0, 0, 0, 0, 0, 0, 0, 0, 0, 0, 0, 0, 0, 0, 0, 0, 0, 0, 0, 0, 0, 0, 0, 0, 0, 0, 0, 0, 0, 0, 0, 0, 0, 0, 0, 0, 0, 0, 0, 0, 0, 0, 0, 0, 0, 0, 0, 0, 0, 0, 0, 0, 0, 0, 0, 0, 0, 0, 0, 0, 0, 0, 0, 0, 0, 0, 0, 0, 0, 0, 0, 0, 0, 0, 0, 0, 0, 0, 0, 0, 0, 0, 0, 0, 0, 0, 0, 0, 0, 0, 0, 0, 0, 0, 0, 0, 0, 0, 0, 0, 0, 0, 0, 0, 0, 0, 0, 0, 0, 0, 0, 0, 0, 0, 0, 0, 0, 0, 0, 0, 0, 0, 0, 0, 0, 0, 0, 0, 0, 0, 0, 0, 0, 0, 0, 0, 0, 0, 0, 0, 0, 0, 0, 0, 0, 0, 0, 0, 0, 0, 0, 0, 0, 0, 0, 0, 0, 0, 0, 0, 0, 0, 0, 0, 0, 0, 0, 0, 0, 0, 0, 0, 0, 0, 0, 0, 0, 0, 0, 0, 0, 0, 0, 0, 0, 0, 0, 0, 0, 0, 0, 0, 0, 0, 0, 0, 0, 0, 0, 0, 0, 0, 0, 0, 0, 0, 0, 0, 0, 0, 0, 0, 0, 0, 1, 0, 0, 0, 0, 0, 0, 0, 0, 0, 0, 0, 0, 0, 0, 0, 0, 0, 0, 0, 0, 0, 0, 0, 0, 0, 0, 0, 0, 0, 0, 0, 0, 0, 0, 0, 0, 0, 0, 0, 0, 0, 0, 0, 0, 0, 0, 0, 0, 0, 0, 0, 0, 0, 0, 0, 0, 0, 0, 0, 0, 0, 0, 0, 0, 0, 0, 0, 0, 0, 0, 0, 0, 0, 0, 0, 0, 0, 0, 0, 0, 0, 0, 0, 0, 0, 0, 0, 0, 0, 0, 0, 0, 0, 0, 0, 0, 0, 0, 0, 0, 0, 0, 0, 0, 0, 0, 0, 0, 0, 0, 0, 0, 0, 0, 0, 0, 0, 0, 0, 0, 0, 0, 0, 0, 0, 0, 0, 0, 0, 0, 0, 0, 0, 0, 0, 0, 0, 0, 0, 0, 0, 0, 0, 0, 0, 0, 0, 0, 0, 0, 0, 0, 0, 0, 0, 0, 0, 0, 0, 0, 0, 0, 0, 0, 0, 0, 0, 0, 0, 0, 0, 0, 0, 0, 0, 0, 0, 0, 0, 0, 0, 0, 0, 0, 0, 0, 0, 0, 0, 0, 0, 0, 0, 0, 0, 0, 0, 0, 0, 0, 0, 0, 0, 0, 0, 0, 0, 0, 0, 0, 0, 0, 0, 0, 0, 0, 0, 0, 0, 0, 0, 0, 0, 0, 0, 0, 0, 0, 0, 0, 0, 0, 0, 0, 0, 0, 0, 0, 0, 0, 0, 0, 0, 0, 0, 0, 0, 0, 0, 0, 0, 0, 0, 0, 0, 0, 0, 0, 0, 0, 0, 0, 0, 0, 0, 0, 0, 0, 0, 0, 0, 0, 0, 0, 0, 0, 0, 0, 0, 0, 0, 0, 0, 0, 0, 0, 0, 0, 0, 0, 0, 0, 0, 0, 0, 0, 0, 0, 0, 0, 0, 0, 0, 0, 0, 0, 0, 0, 0, 0, 0, 0, 0, 0, 0, 0, 0, 0, 0, 0, 0, 0, 0, 0, 0, 0, 0, 0, 0, 0, 0, 0, 0, 0, 0, 0, 0, 0, 0, 0, 0, 0, 0, 0, 0, 0, 0, 0, 0, 0, 0, 0, 0, 0, 0, 0, 0, 0, 0, 0, 0, 0, 0, 0, 0, 0, 0, 0, 0, 0, 0, 0, 0, 0, 0, 0, 0, 0, 0, 0, 0, 0, 0, 0, 0, 0, 0, 0, 0, 0, 0, 0, 0, 0, 0, 0, 0, 0, 0, 0, 0, 0, 0, 0, 0, 0, 0, 0, 0, 0, 0, 0, 0, 0, 0, 0, 0, 0, 0, 0, 0, 0, 0, 0, 0, 0, 0, 0, 0, 0, 0, 0, 0, 0, 0, 0, 0, 0, 0, 0, 0, 0, 0, 0, 0, 0, 0, 0, 0, 0, 0, 0, 0, 0, 0, 0, 0, 0, 0, 0, 0, 0, 0, 0, 0, 0, 0, 0, 0, 0, 0, 0, 0, 0, 0, 0, 0, 0, 0, 0, 0, 0, 0, 0, 0, 0, 0, 0, 0, 0, 0, 0, 0, 0, 0, 0, 0, 0, 0, 0, 0, 0, 0, 0, 0, 0, 0, 0, 0, 0, 0, 0, 1, 0, 0, 0, 0, 0, 0, 0, 0, 0, 0, 0, 0, 0, 0, 0, 0, 0, 0, 0, 0, 0, 0, 0, 0, 0, 0, 0, 0, 0, 0, 0, 0, 0, 0, 0, 2, 0, 0, 0, 0, 0, 0, 0, 0, 0, 0, 0, 0, 0, 0, 0, 0, 0, 0, 0, 0, 0, 0, 0, 0, 0, 0, 0, 0, 0, 0, 0, 0, 0, 0, 0, 0, 0, 0, 0, 0, 1, 0, 0, 0, 0, 0, 0, 0, 0, 0, 0, 0, 0, 0, 0, 0, 0, 0, 0, 0, 0, 0, 0, 0, 0, 0, 0, 0, 0, 0, 0, 0, 0, 0, 0, 0, 0, 0, 0, 0, 0, 0, 0, 0, 0, 0, 0, 0, 0, 0, 0, 0, 0, 0, 0, 0, 0, 0, 0, 0, 0, 0, 0, 0, 0, 0, 0, 0, 0, 0, 0, 0, 0, 0, 0, 0, 0, 0, 0, 0, 0, 0, 0, 0, 0, 0, 0, 0, 0, 0, 0, 0, 0, 0, 0, 0, 0, 0, 0, 0, 0, 0, 0, 0, 0, 0, 0, 0, 0, 0, 0, 0, 0, 0, 0, 0, 0, 0, 0, 0, 0, 0, 0, 0, 0, 0, 0, 0, 0, 0, 0, 0, 0, 0, 0, 0, 0, 0, 0, 0, 0, 0, 0, 0, 0, 0, 0, 0, 0, 0, 0, 0, 0, 0, 0, 0, 0, 0, 0, 0, 0, 0, 0, 0, 0, 0, 0, 0, 0, 0, 0, 0, 0, 0, 0, 0, 0, 0, 0, 0, 0, 0, 0, 0, 0, 0, 0, 0, 0, 0, 0, 0, 0, 0, 0, 0, 0, 0, 0, 0, 0, 0, 0, 0, 0, 0, 0, 0, 0, 0, 0, 0, 0, 0, 0, 0, 0, 0, 0, 0, 0, 0, 0, 0, 0, 0, 0, 0, 0, 0, 0, 0, 0, 0, 0, 0, 0, 0, 0, 0, 0, 0, 0, 0, 0, 0, 0, 0, 0, 0, 0, 0, 0, 0, 0, 0, 0, 0, 0, 0, 0, 0, 0, 0, 0, 0, 0, 0, 0, 0, 0, 0, 0, 0, 0, 0, 0, 0, 0, 0, 0, 0, 0, 0, 0, 0, 0, 0, 0, 0, 0, 0, 0, 0, 0, 0, 0, 0, 0, 0, 0, 0, 0, 0, 0, 0, 0, 0, 0, 0, 0, 0, 0, 0, 0, 0, 0, 0, 0, 0, 0, 0, 0, 0, 0, 0, 0, 0, 0, 0, 0, 0, 0, 0, 0, 0, 0, 0, 0, 0, 0, 0, 0, 0, 0, 0, 0, 0, 0, 0, 0, 0, 0, 0, 0, 0, 0, 0, 0, 0, 0, 0, 0, 0, 0, 0, 0, 0, 0, 0, 0, 0, 0, 0, 0, 0, 0, 0, 0, 0, 0, 0, 0, 0, 0, 0, 0, 0, 0, 0, 0, 0, 0, 0, 0, 0, 0, 0, 0, 0, 0, 0, 0, 0, 0, 0, 0, 0, 0, 0, 0, 0, 0, 0, 0, 0, 0, 0, 0, 0, 0, 0, 0, 0, 0, 0, 0, 0, 0, 0, 0, 0, 0, 0, 0, 0, 0, 0, 0, 0, 0, 0, 0, 0, 0, 0, 0, 0, 0, 0, 0, 0, 0, 0, 0, 0, 0, 0, 0, 0, 0, 0, 0, 0, 0, 0, 0, 0, 0, 0, 0, 0, 0, 0, 0, 0, 0, 0, 0, 0, 0, 0, 0, 0, 0, 0, 0, 0, 0, 0, 0, 0, 0, 0, 0, 0, 0, 0, 1, 0, 0, 0, 0, 0, 0, 0, 0, 0, 0, 0, 0, 0, 0, 0, 0, 0, 0, 0, 0, 0, 0, 0, 0, 0, 0, 0, 0, 0, 0, 0, 0, 0, 0, 0, 0, 0, 0, 0, 0, 0, 0, 0, 0, 0, 0, 0, 0, 0, 0, 0, 0, 0, 0, 0, 0, 0, 0, 0, 0, 0, 0, 0, 0, 0, 0, 0, 0, 0, 0, 0, 0, 0, 0, 0, 0, 0, 0, 0, 0, 0, 0, 0, 0, 0, 0, 0, 0, 0, 0, 0, 0, 0, 0, 0, 0, 0, 0, 0, 0, 0, 0, 0, 0, 0, 0, 0, 0, 0, 0, 2, 0, 0, 0, 0, 0, 0, 0, 0, 0, 0, 0, 0, 0, 0, 0, 0, 0, 0, 0, 0, 0, 0, 0, 0, 0, 0, 0, 0, 0, 0, 0, 0, 0, 0, 0, 0, 0, 0, 0, 0, 0, 0, 0, 0, 0, 0, 0, 0, 0, 0, 0, 0, 0, 0, 0, 0, 0, 0, 0, 0, 0, 0, 0, 0, 0, 0, 0, 0, 0, 0, 0, 0, 0, 0, 0, 0, 0, 0, 0, 0, 0, 0, 0, 0, 0, 0, 0, 0, 0, 0, 0, 0, 0, 0, 0, 0, 0, 0, 0, 0, 0, 0, 0, 0, 0, 0, 0, 0, 0, 0, 0, 0, 0, 0, 0, 0, 0, 0, 0, 0, 0, 0, 0, 0, 0, 0, 0, 0, 0, 0, 0, 0, 0, 0, 0, 0, 0, 0, 0, 0, 0, 0, 0, 0, 0, 0, 0, 0, 0, 0, 0, 0, 0, 0, 0, 0, 0, 0, 0, 0, 0, 0, 0, 0, 0, 0, 0, 0, 0, 0, 0, 0, 0, 0, 0, 0, 0, 0, 0, 0, 0, 0, 0, 0, 0, 0, 0, 0, 0, 0, 0, 0, 0, 0, 0, 0, 0, 0, 0, 0, 0, 0, 0, 0, 0, 0, 0, 0, 0, 0, 0, 0, 0, 0, 0, 0, 0, 0, 0, 0, 0, 0, 0, 0, 0, 0, 0, 0, 0, 0, 0, 0, 0, 0, 0, 0, 0, 0, 0, 0, 0, 0, 0, 0, 0, 0, 0, 0, 0, 0, 0, 0, 0, 0, 0, 0, 0, 0, 0, 0, 0, 0, 0, 0, 0, 0, 0, 0, 0, 0, 0, 0, 0, 0, 0, 0, 0, 0, 0, 0, 0, 0, 0, 0, 0, 0, 0, 0, 0, 0, 0, 0, 0, 0, 0, 0, 0, 0, 0, 0, 0, 0, 0, 0, 0, 0, 0, 0, 0, 0, 0, 0, 0, 0, 0, 0, 0, 0, 0, 0, 0, 0, 0, 0, 0, 0, 0, 0, 0, 0, 0, 0, 0, 0, 0, 0, 0, 0, 0, 0, 0, 0, 0, 0, 0, 0, 0, 0, 0, 0, 0, 0, 0, 0, 0, 0, 0, 0, 0, 0, 0, 0, 0, 0, 0, 0, 0, 0, 0, 0, 0, 0, 0, 0, 0, 0, 0, 0, 0, 0, 0, 0, 0, 0, 0, 0, 0, 0, 0, 0, 0, 0, 0, 0, 0, 0, 0, 0, 0, 0, 0, 0, 0, 0, 0, 0, 0, 0, 0, 0, 0, 0, 0, 0, 0, 0, 0, 0, 0, 0, 0, 0, 0, 0, 0, 0, 0, 0, 0, 0, 0, 0, 0, 0, 0, 0, 0, 0, 0, 0, 0, 0, 0, 0, 0, 0, 0, 0, 0, 0, 0, 0, 0, 0, 0, 0, 0, 0, 0, 0, 0, 0, 0, 0, 0, 0, 0, 0, 0, 0, 0, 0, 0, 0, 0, 0, 0, 0, 0, 0, 0, 0, 0, 0, 0, 0, 0, 0, 0, 0, 0, 0, 0, 0, 0, 0, 0, 0, 0, 0, 0, 0, 0, 0, 0, 0, 0, 0, 0, 0, 0, 0, 0, 0, 0, 0, 0, 0, 0, 0, 0, 0, 0, 0, 0, 0, 0, 0, 0, 0, 0, 0, 0, 0, 0, 0, 0, 0, 0, 0, 0, 0, 0, 0, 0, 0, 0, 0, 0, 0, 0, 0, 0, 0, 0, 0, 0, 0, 0, 0, 0, 0, 0, 0, 0, 0, 0, 0, 0, 0, 0, 0, 0, 0, 0, 0, 0, 0, 0, 0, 0, 0, 0, 0, 0, 0, 0, 0, 0, 0, 0, 0, 0, 0, 0, 0, 0, 0, 0, 0, 0, 0, 0, 0, 0, 0, 0, 0, 0, 0, 0, 0, 0, 0, 0, 0, 0, 0, 0, 0, 0, 0, 0, 0, 0, 0, 0, 0, 0, 0, 0, 0, 0, 0, 0, 0, 0, 0, 0, 0, 0, 0, 0, 0, 0, 0, 0, 0, 0, 0, 0, 0, 0, 0, 0, 0, 0, 0, 0, 0, 0, 0, 0, 0, 0, 0, 0, 0, 0, 0, 0, 0, 0, 0, 0, 0, 0, 0, 0, 0, 0, 0, 0, 0, 0, 0, 0, 0, 0, 0, 1, 0, 0, 0, 0, 0, 0, 0, 0, 0, 0, 0, 0, 0, 0, 0, 0, 0, 0, 0, 0, 0, 0, 0, 0, 0, 0, 0, 0, 0, 0, 0, 0, 0, 0, 0, 0, 0, 0, 0, 0, 0, 0, 0, 0, 0, 0, 0, 0, 0, 0, 0, 0, 0, 0, 0, 0, 0, 0, 0, 0, 0, 0, 0, 0, 0, 0, 0, 0, 0, 0, 0, 0, 0, 0, 0, 0, 0, 0, 0, 0, 0, 0, 0, 0, 0, 0, 0, 0, 0, 0, 0, 0, 0, 0, 0, 0, 0, 0, 0, 0, 0, 0, 0, 0, 0, 0, 0, 1, 0, 0, 0, 0, 0, 0, 0, 0, 0, 0, 0, 0, 0, 0, 0, 0, 0, 0, 0, 0, 0, 0, 0, 0, 0, 0, 0, 0, 0, 0, 0, 0, 0, 0, 0, 0, 0, 0, 0, 0, 0, 0, 0, 0, 0, 0, 0, 0, 0, 0, 0, 0, 0, 0, 0, 0, 0, 0, 0, 0, 0, 0, 0, 0, 0, 0, 0, 0, 0, 0, 0, 0, 0, 0, 0, 0, 0, 0, 0, 0, 0, 0, 0, 0, 0, 0, 0, 0, 0, 0, 0, 0, 0, 0, 0, 0, 0, 0, 0, 0, 0, 0, 0, 0, 0, 0, 0, 0, 0, 0, 0, 0, 0, 0, 0, 0, 0, 0, 0, 0, 0, 0, 0, 0, 0, 0, 0, 0, 0, 0, 0, 0, 0, 0, 0, 0, 0, 0, 0, 0, 0, 0, 0, 0, 0, 0, 0, 0, 0, 0, 0, 0, 0, 0, 0, 0, 0, 0, 0, 0, 0, 0, 0, 0, 0, 0, 0, 0, 0, 0, 0, 0, 0, 0, 0, 0, 0, 0, 0, 0, 0, 0, 0, 0, 0, 0, 0, 0, 0, 0, 0, 0, 0, 0, 0, 0, 0, 0, 0, 0, 0, 0, 0, 0, 0, 0, 0, 0, 0, 0, 0, 0, 0, 0, 0, 0, 0, 0, 0, 0, 0, 0, 0, 0, 0, 0, 0, 0, 0, 0, 0, 0, 0, 0, 0, 0, 0, 0, 0, 0, 0, 0, 0, 0, 0, 0, 0, 0, 0, 0, 0, 0, 0, 0, 0, 0, 0, 0, 0, 0, 0, 0, 0, 0, 0, 0, 0, 0, 0, 0, 0, 0, 0, 0, 0, 0, 0, 0, 0, 0, 0, 0, 0, 0, 0, 0, 0, 0, 0, 0, 0, 0, 0, 0, 0, 0, 0, 0, 0, 0, 0, 0, 0, 0, 0, 0, 0, 0, 0, 0, 0, 0, 0, 0, 0, 0, 0, 0, 0, 0, 0, 0, 0, 0, 0, 0, 0, 0, 0, 0, 0, 0, 0, 0, 0, 0, 0, 0, 0, 0, 0, 0, 0, 0, 0, 0, 0, 0, 0, 0, 0, 0, 0, 0, 0, 0, 0, 0, 0, 0, 0, 0, 0, 0, 0, 0, 0, 0, 0, 0, 0, 0, 0, 0, 0, 0, 0, 0, 0, 0, 0, 0, 0, 0, 0, 0, 0, 0, 0, 0, 0, 0, 0, 0, 0, 0, 0, 0, 0, 0, 0, 0, 0, 0, 0, 0, 0, 0, 0, 0, 0, 0, 0, 0, 0, 0, 0, 0, 0, 0, 0, 0, 0, 0, 0, 0, 0, 0, 0, 0, 0, 0, 0, 0, 0, 0, 0, 0, 0, 0, 0, 0, 0, 0, 0, 0, 0, 0, 0, 0, 0, 0, 0, 0, 0, 0, 0, 0, 0, 0, 0, 0, 0, 2, 0, 1, 0], type: <class 'list'>, valid types: <class 'bytes'>, <class 'bytearray'>, file-like object",
     "output_type": "error",
     "traceback": [
      "\u001b[0;31m---------------------------------------------------------------------------\u001b[0m",
      "\u001b[0;31mParamValidationError\u001b[0m                      Traceback (most recent call last)",
      "\u001b[0;32m<ipython-input-53-c9ab54ae3a48>\u001b[0m in \u001b[0;36m<module>\u001b[0;34m\u001b[0m\n\u001b[1;32m      1\u001b[0m response = runtime.invoke_endpoint(EndpointName = xgb_predictor.endpoint, # The name of the endpoint we created\n\u001b[1;32m      2\u001b[0m                                        \u001b[0mContentType\u001b[0m \u001b[0;34m=\u001b[0m \u001b[0;34m'text/csv'\u001b[0m\u001b[0;34m,\u001b[0m                     \u001b[0;31m# The data format that is expected\u001b[0m\u001b[0;34m\u001b[0m\u001b[0;34m\u001b[0m\u001b[0m\n\u001b[0;32m----> 3\u001b[0;31m                                        Body = test_bow)\n\u001b[0m",
      "\u001b[0;32m~/anaconda3/envs/python3/lib/python3.6/site-packages/botocore/client.py\u001b[0m in \u001b[0;36m_api_call\u001b[0;34m(self, *args, **kwargs)\u001b[0m\n\u001b[1;32m    355\u001b[0m                     \"%s() only accepts keyword arguments.\" % py_operation_name)\n\u001b[1;32m    356\u001b[0m             \u001b[0;31m# The \"self\" in this scope is referring to the BaseClient.\u001b[0m\u001b[0;34m\u001b[0m\u001b[0;34m\u001b[0m\u001b[0;34m\u001b[0m\u001b[0m\n\u001b[0;32m--> 357\u001b[0;31m             \u001b[0;32mreturn\u001b[0m \u001b[0mself\u001b[0m\u001b[0;34m.\u001b[0m\u001b[0m_make_api_call\u001b[0m\u001b[0;34m(\u001b[0m\u001b[0moperation_name\u001b[0m\u001b[0;34m,\u001b[0m \u001b[0mkwargs\u001b[0m\u001b[0;34m)\u001b[0m\u001b[0;34m\u001b[0m\u001b[0;34m\u001b[0m\u001b[0m\n\u001b[0m\u001b[1;32m    358\u001b[0m \u001b[0;34m\u001b[0m\u001b[0m\n\u001b[1;32m    359\u001b[0m         \u001b[0m_api_call\u001b[0m\u001b[0;34m.\u001b[0m\u001b[0m__name__\u001b[0m \u001b[0;34m=\u001b[0m \u001b[0mstr\u001b[0m\u001b[0;34m(\u001b[0m\u001b[0mpy_operation_name\u001b[0m\u001b[0;34m)\u001b[0m\u001b[0;34m\u001b[0m\u001b[0;34m\u001b[0m\u001b[0m\n",
      "\u001b[0;32m~/anaconda3/envs/python3/lib/python3.6/site-packages/botocore/client.py\u001b[0m in \u001b[0;36m_make_api_call\u001b[0;34m(self, operation_name, api_params)\u001b[0m\n\u001b[1;32m    647\u001b[0m         }\n\u001b[1;32m    648\u001b[0m         request_dict = self._convert_to_request_dict(\n\u001b[0;32m--> 649\u001b[0;31m             api_params, operation_model, context=request_context)\n\u001b[0m\u001b[1;32m    650\u001b[0m \u001b[0;34m\u001b[0m\u001b[0m\n\u001b[1;32m    651\u001b[0m         \u001b[0mservice_id\u001b[0m \u001b[0;34m=\u001b[0m \u001b[0mself\u001b[0m\u001b[0;34m.\u001b[0m\u001b[0m_service_model\u001b[0m\u001b[0;34m.\u001b[0m\u001b[0mservice_id\u001b[0m\u001b[0;34m.\u001b[0m\u001b[0mhyphenize\u001b[0m\u001b[0;34m(\u001b[0m\u001b[0;34m)\u001b[0m\u001b[0;34m\u001b[0m\u001b[0;34m\u001b[0m\u001b[0m\n",
      "\u001b[0;32m~/anaconda3/envs/python3/lib/python3.6/site-packages/botocore/client.py\u001b[0m in \u001b[0;36m_convert_to_request_dict\u001b[0;34m(self, api_params, operation_model, context)\u001b[0m\n\u001b[1;32m    695\u001b[0m             api_params, operation_model, context)\n\u001b[1;32m    696\u001b[0m         request_dict = self._serializer.serialize_to_request(\n\u001b[0;32m--> 697\u001b[0;31m             api_params, operation_model)\n\u001b[0m\u001b[1;32m    698\u001b[0m         \u001b[0;32mif\u001b[0m \u001b[0;32mnot\u001b[0m \u001b[0mself\u001b[0m\u001b[0;34m.\u001b[0m\u001b[0m_client_config\u001b[0m\u001b[0;34m.\u001b[0m\u001b[0minject_host_prefix\u001b[0m\u001b[0;34m:\u001b[0m\u001b[0;34m\u001b[0m\u001b[0;34m\u001b[0m\u001b[0m\n\u001b[1;32m    699\u001b[0m             \u001b[0mrequest_dict\u001b[0m\u001b[0;34m.\u001b[0m\u001b[0mpop\u001b[0m\u001b[0;34m(\u001b[0m\u001b[0;34m'host_prefix'\u001b[0m\u001b[0;34m,\u001b[0m \u001b[0;32mNone\u001b[0m\u001b[0;34m)\u001b[0m\u001b[0;34m\u001b[0m\u001b[0;34m\u001b[0m\u001b[0m\n",
      "\u001b[0;32m~/anaconda3/envs/python3/lib/python3.6/site-packages/botocore/validate.py\u001b[0m in \u001b[0;36mserialize_to_request\u001b[0;34m(self, parameters, operation_model)\u001b[0m\n\u001b[1;32m    295\u001b[0m                                                     operation_model.input_shape)\n\u001b[1;32m    296\u001b[0m             \u001b[0;32mif\u001b[0m \u001b[0mreport\u001b[0m\u001b[0;34m.\u001b[0m\u001b[0mhas_errors\u001b[0m\u001b[0;34m(\u001b[0m\u001b[0;34m)\u001b[0m\u001b[0;34m:\u001b[0m\u001b[0;34m\u001b[0m\u001b[0;34m\u001b[0m\u001b[0m\n\u001b[0;32m--> 297\u001b[0;31m                 \u001b[0;32mraise\u001b[0m \u001b[0mParamValidationError\u001b[0m\u001b[0;34m(\u001b[0m\u001b[0mreport\u001b[0m\u001b[0;34m=\u001b[0m\u001b[0mreport\u001b[0m\u001b[0;34m.\u001b[0m\u001b[0mgenerate_report\u001b[0m\u001b[0;34m(\u001b[0m\u001b[0;34m)\u001b[0m\u001b[0;34m)\u001b[0m\u001b[0;34m\u001b[0m\u001b[0;34m\u001b[0m\u001b[0m\n\u001b[0m\u001b[1;32m    298\u001b[0m         return self._serializer.serialize_to_request(parameters,\n\u001b[1;32m    299\u001b[0m                                                      operation_model)\n",
      "\u001b[0;31mParamValidationError\u001b[0m: Parameter validation failed:\nInvalid type for parameter Body, value: [0, 0, 0, 0, 0, 0, 0, 0, 0, 0, 0, 0, 0, 0, 0, 0, 0, 0, 0, 0, 0, 0, 0, 0, 0, 0, 0, 0, 0, 0, 0, 0, 0, 0, 0, 0, 0, 0, 0, 0, 0, 0, 0, 0, 0, 0, 0, 0, 0, 0, 0, 0, 0, 0, 0, 0, 0, 0, 0, 0, 0, 0, 0, 0, 0, 0, 0, 0, 0, 0, 0, 0, 0, 0, 0, 0, 0, 0, 0, 0, 0, 0, 0, 0, 0, 0, 0, 0, 0, 0, 0, 0, 0, 0, 0, 0, 0, 0, 0, 0, 0, 0, 0, 0, 0, 0, 0, 0, 0, 0, 0, 0, 0, 0, 0, 0, 0, 0, 0, 0, 0, 0, 0, 0, 0, 0, 0, 0, 0, 0, 0, 0, 0, 0, 0, 0, 0, 0, 0, 0, 0, 0, 0, 0, 0, 0, 0, 0, 0, 0, 0, 0, 0, 0, 0, 0, 0, 0, 0, 0, 0, 0, 0, 0, 0, 0, 0, 0, 0, 0, 0, 0, 0, 0, 0, 0, 0, 0, 0, 0, 0, 0, 0, 0, 0, 0, 0, 0, 0, 0, 0, 0, 0, 0, 0, 0, 0, 0, 0, 0, 0, 0, 0, 0, 0, 0, 0, 0, 0, 0, 0, 0, 0, 0, 0, 0, 0, 0, 0, 0, 0, 0, 0, 0, 0, 0, 1, 0, 0, 0, 0, 0, 0, 0, 0, 0, 0, 0, 0, 0, 0, 0, 0, 0, 0, 0, 0, 0, 0, 0, 0, 0, 0, 0, 0, 0, 1, 0, 0, 0, 0, 0, 0, 0, 0, 0, 0, 0, 0, 0, 0, 0, 0, 0, 0, 0, 0, 0, 0, 0, 0, 0, 0, 0, 0, 0, 0, 0, 0, 0, 0, 0, 0, 0, 0, 0, 0, 0, 0, 0, 0, 0, 0, 0, 0, 0, 0, 0, 0, 0, 0, 0, 0, 0, 0, 0, 0, 0, 0, 0, 0, 0, 0, 0, 0, 0, 0, 0, 0, 0, 0, 0, 0, 0, 0, 0, 0, 0, 0, 0, 0, 0, 0, 0, 0, 0, 0, 0, 0, 0, 0, 0, 0, 0, 0, 0, 0, 0, 0, 0, 0, 0, 0, 0, 0, 0, 0, 0, 0, 0, 0, 0, 0, 0, 0, 0, 0, 0, 0, 0, 0, 0, 0, 0, 0, 0, 0, 0, 0, 0, 0, 0, 0, 0, 0, 0, 0, 0, 0, 0, 0, 0, 0, 0, 0, 0, 0, 0, 0, 0, 0, 0, 0, 0, 0, 0, 0, 0, 0, 0, 0, 0, 0, 0, 0, 0, 0, 0, 0, 0, 0, 0, 0, 0, 0, 0, 0, 0, 0, 0, 0, 0, 0, 0, 0, 0, 0, 0, 0, 0, 0, 0, 0, 0, 0, 0, 0, 0, 0, 0, 0, 0, 0, 0, 0, 0, 0, 0, 0, 0, 0, 0, 0, 0, 0, 0, 0, 0, 0, 0, 0, 0, 0, 0, 0, 0, 0, 0, 0, 0, 0, 0, 0, 0, 0, 0, 0, 0, 0, 0, 0, 0, 0, 0, 0, 0, 0, 0, 0, 0, 0, 0, 0, 0, 0, 0, 0, 0, 0, 0, 0, 0, 0, 0, 0, 0, 0, 0, 0, 0, 0, 0, 0, 0, 0, 0, 0, 0, 0, 0, 0, 0, 0, 0, 0, 0, 0, 0, 0, 0, 0, 0, 0, 0, 0, 0, 0, 0, 0, 0, 0, 0, 0, 0, 0, 0, 0, 0, 0, 0, 0, 0, 0, 0, 0, 0, 0, 0, 0, 0, 0, 0, 0, 0, 0, 0, 0, 0, 0, 0, 0, 0, 0, 0, 0, 0, 0, 0, 0, 0, 0, 0, 0, 0, 0, 0, 0, 0, 0, 0, 0, 0, 0, 0, 0, 0, 0, 0, 0, 0, 0, 0, 0, 0, 0, 0, 0, 0, 0, 0, 0, 0, 0, 0, 0, 0, 1, 0, 0, 0, 0, 0, 0, 0, 0, 0, 0, 0, 0, 0, 0, 0, 0, 0, 0, 0, 0, 0, 0, 0, 0, 0, 0, 0, 0, 0, 0, 0, 0, 0, 0, 0, 0, 0, 0, 0, 0, 0, 0, 0, 0, 0, 0, 0, 0, 0, 0, 0, 0, 0, 0, 0, 0, 0, 0, 0, 0, 0, 0, 0, 0, 0, 0, 0, 0, 0, 0, 0, 0, 0, 0, 0, 0, 0, 0, 0, 0, 0, 0, 0, 0, 0, 0, 0, 0, 0, 0, 0, 0, 0, 0, 0, 0, 0, 0, 0, 0, 0, 0, 0, 0, 0, 0, 0, 0, 0, 0, 0, 0, 0, 0, 0, 0, 0, 0, 0, 0, 0, 0, 0, 0, 0, 0, 0, 0, 0, 0, 0, 0, 0, 0, 0, 0, 0, 0, 0, 0, 0, 0, 0, 0, 0, 0, 0, 0, 0, 0, 0, 0, 0, 0, 0, 0, 0, 0, 0, 0, 0, 0, 0, 0, 0, 0, 0, 0, 0, 0, 0, 0, 0, 0, 0, 0, 0, 0, 0, 0, 0, 0, 0, 0, 0, 0, 0, 0, 0, 0, 0, 0, 0, 0, 0, 0, 0, 0, 0, 0, 0, 0, 0, 0, 0, 0, 0, 0, 0, 0, 0, 0, 0, 0, 0, 0, 0, 0, 0, 0, 0, 0, 0, 0, 0, 0, 0, 0, 0, 0, 0, 0, 0, 0, 0, 0, 0, 0, 0, 0, 0, 0, 0, 0, 0, 0, 0, 0, 0, 0, 0, 0, 0, 1, 0, 0, 0, 0, 0, 0, 0, 0, 0, 0, 0, 0, 0, 0, 0, 0, 0, 0, 0, 0, 0, 0, 0, 0, 0, 0, 0, 0, 0, 0, 0, 0, 0, 0, 0, 0, 0, 0, 0, 0, 0, 0, 0, 0, 0, 0, 0, 0, 0, 0, 0, 0, 0, 0, 0, 0, 0, 0, 0, 0, 0, 0, 0, 0, 0, 0, 0, 0, 0, 0, 0, 0, 0, 0, 0, 0, 0, 0, 0, 0, 0, 0, 0, 0, 0, 0, 1, 0, 0, 0, 0, 0, 0, 0, 0, 0, 0, 0, 0, 0, 0, 0, 0, 0, 0, 0, 0, 0, 0, 0, 0, 0, 0, 0, 0, 0, 0, 0, 0, 0, 0, 0, 0, 0, 0, 0, 0, 0, 0, 0, 0, 0, 0, 0, 0, 0, 0, 0, 0, 0, 0, 0, 0, 0, 0, 0, 0, 0, 0, 0, 0, 0, 0, 0, 0, 0, 0, 0, 0, 0, 0, 0, 0, 0, 0, 0, 0, 0, 0, 0, 0, 0, 0, 0, 0, 0, 0, 0, 0, 0, 0, 0, 0, 0, 0, 0, 0, 0, 0, 0, 0, 0, 0, 0, 0, 0, 0, 0, 0, 0, 0, 0, 0, 0, 0, 0, 0, 0, 0, 0, 0, 0, 0, 0, 0, 0, 0, 0, 0, 0, 0, 0, 0, 0, 0, 0, 0, 0, 0, 0, 0, 0, 0, 0, 0, 0, 0, 0, 0, 0, 0, 0, 0, 0, 0, 0, 0, 0, 0, 0, 0, 0, 0, 0, 0, 0, 0, 0, 0, 0, 0, 0, 0, 0, 0, 0, 0, 0, 0, 0, 0, 0, 0, 0, 0, 0, 0, 0, 0, 0, 0, 0, 0, 0, 0, 0, 0, 0, 0, 0, 0, 0, 0, 0, 0, 0, 0, 0, 0, 0, 0, 0, 0, 0, 0, 0, 0, 0, 0, 0, 0, 0, 0, 0, 0, 0, 0, 0, 0, 0, 0, 0, 0, 0, 0, 0, 0, 0, 0, 0, 0, 0, 0, 0, 0, 0, 0, 0, 0, 1, 0, 0, 0, 0, 0, 0, 0, 0, 0, 0, 0, 0, 0, 0, 0, 0, 0, 0, 0, 0, 0, 0, 0, 0, 0, 0, 0, 0, 0, 0, 0, 0, 0, 0, 0, 0, 0, 0, 0, 0, 0, 0, 0, 0, 0, 0, 0, 0, 0, 0, 0, 0, 0, 0, 0, 1, 0, 0, 0, 0, 0, 0, 0, 0, 0, 0, 0, 0, 0, 0, 0, 0, 0, 0, 0, 0, 0, 0, 0, 0, 0, 0, 0, 0, 0, 0, 0, 0, 0, 0, 0, 0, 0, 0, 0, 0, 0, 0, 0, 0, 0, 0, 0, 0, 0, 0, 0, 0, 0, 0, 0, 0, 0, 0, 0, 0, 0, 0, 0, 0, 0, 0, 0, 0, 0, 0, 0, 0, 0, 0, 0, 0, 0, 0, 0, 0, 0, 0, 0, 0, 0, 0, 0, 0, 0, 0, 0, 0, 0, 0, 0, 0, 0, 0, 0, 0, 0, 0, 0, 0, 0, 0, 0, 0, 0, 0, 0, 0, 0, 0, 0, 0, 0, 0, 0, 0, 0, 0, 0, 0, 0, 0, 0, 0, 0, 0, 0, 0, 0, 0, 0, 0, 0, 0, 0, 0, 0, 0, 0, 0, 0, 0, 0, 0, 0, 0, 0, 0, 0, 0, 0, 0, 0, 0, 0, 0, 0, 0, 0, 0, 0, 0, 0, 0, 0, 0, 0, 0, 0, 0, 0, 0, 0, 0, 0, 0, 0, 0, 0, 0, 0, 0, 0, 0, 0, 0, 0, 0, 0, 0, 0, 0, 0, 0, 0, 0, 0, 0, 0, 0, 0, 0, 0, 0, 0, 0, 0, 0, 0, 0, 0, 0, 0, 0, 0, 0, 0, 0, 0, 0, 0, 0, 0, 0, 0, 0, 0, 0, 0, 0, 0, 0, 0, 0, 0, 0, 0, 0, 0, 0, 0, 0, 0, 0, 0, 0, 0, 0, 0, 0, 0, 0, 0, 0, 0, 0, 0, 0, 0, 0, 0, 0, 0, 0, 0, 0, 0, 0, 0, 0, 0, 0, 0, 0, 0, 0, 0, 0, 0, 0, 0, 0, 0, 0, 0, 0, 0, 0, 0, 0, 0, 0, 0, 0, 0, 0, 0, 0, 0, 0, 0, 0, 0, 0, 0, 0, 0, 0, 0, 0, 0, 0, 0, 0, 0, 0, 0, 0, 0, 0, 0, 0, 0, 0, 0, 0, 0, 0, 0, 0, 0, 0, 0, 0, 0, 0, 0, 0, 0, 0, 0, 0, 0, 0, 0, 0, 0, 0, 0, 0, 0, 0, 0, 0, 0, 0, 0, 0, 0, 0, 0, 0, 0, 0, 0, 0, 0, 0, 0, 0, 0, 0, 0, 0, 0, 0, 0, 0, 0, 0, 0, 0, 0, 0, 0, 0, 0, 0, 0, 0, 0, 0, 0, 0, 0, 0, 0, 0, 0, 0, 0, 0, 0, 0, 0, 0, 0, 0, 0, 0, 0, 0, 0, 0, 0, 0, 0, 0, 0, 0, 0, 0, 0, 0, 0, 0, 0, 0, 0, 0, 0, 0, 0, 0, 0, 0, 0, 0, 0, 0, 0, 0, 0, 0, 0, 0, 0, 0, 0, 0, 0, 0, 0, 0, 0, 0, 0, 0, 0, 0, 0, 0, 0, 0, 0, 0, 0, 0, 0, 0, 0, 0, 0, 0, 0, 0, 0, 0, 0, 0, 0, 0, 0, 0, 0, 0, 0, 0, 0, 0, 0, 0, 0, 0, 0, 0, 0, 0, 0, 0, 0, 0, 0, 0, 0, 0, 0, 0, 0, 0, 0, 0, 0, 0, 0, 0, 0, 0, 0, 0, 0, 0, 0, 0, 0, 0, 0, 0, 0, 0, 0, 0, 0, 0, 0, 0, 0, 0, 0, 0, 0, 0, 0, 0, 0, 0, 0, 0, 0, 0, 0, 0, 0, 0, 0, 0, 0, 0, 0, 0, 0, 0, 0, 0, 0, 0, 0, 0, 0, 0, 0, 0, 0, 0, 0, 0, 0, 0, 0, 0, 0, 0, 0, 0, 0, 0, 0, 0, 0, 0, 0, 0, 0, 0, 0, 0, 0, 0, 0, 0, 0, 0, 0, 0, 0, 0, 0, 0, 0, 0, 0, 0, 0, 0, 0, 0, 0, 0, 0, 0, 0, 0, 0, 0, 0, 0, 0, 0, 0, 0, 0, 0, 0, 0, 0, 0, 0, 0, 0, 0, 0, 0, 0, 0, 0, 0, 0, 0, 0, 0, 0, 0, 0, 0, 0, 0, 0, 0, 0, 0, 0, 0, 0, 0, 0, 0, 0, 0, 0, 0, 0, 0, 0, 0, 0, 0, 0, 1, 0, 0, 0, 0, 0, 0, 0, 0, 0, 0, 0, 0, 0, 0, 0, 0, 0, 0, 0, 0, 0, 0, 0, 0, 0, 0, 0, 0, 0, 0, 0, 0, 0, 0, 0, 0, 0, 0, 0, 0, 0, 0, 0, 0, 0, 0, 0, 0, 0, 0, 0, 0, 0, 0, 0, 0, 0, 0, 0, 0, 0, 0, 0, 0, 0, 0, 0, 0, 0, 0, 0, 0, 0, 0, 1, 0, 0, 0, 0, 0, 0, 0, 0, 0, 0, 0, 0, 0, 0, 0, 0, 0, 0, 0, 0, 1, 0, 0, 1, 0, 0, 0, 0, 0, 0, 0, 0, 0, 0, 0, 0, 0, 0, 0, 0, 0, 0, 0, 0, 0, 0, 0, 0, 0, 0, 0, 0, 0, 0, 0, 0, 0, 0, 0, 0, 0, 0, 0, 0, 0, 0, 0, 0, 0, 0, 0, 0, 0, 0, 0, 0, 0, 0, 0, 0, 0, 0, 0, 0, 0, 0, 0, 0, 0, 0, 0, 0, 0, 0, 0, 0, 0, 0, 0, 0, 0, 0, 0, 0, 0, 0, 0, 0, 0, 0, 0, 0, 0, 0, 0, 0, 0, 0, 0, 0, 0, 0, 0, 0, 0, 0, 0, 0, 0, 0, 0, 0, 0, 0, 0, 0, 0, 0, 0, 0, 0, 0, 0, 0, 0, 0, 0, 0, 0, 0, 0, 0, 0, 0, 0, 0, 0, 0, 0, 0, 0, 0, 0, 0, 0, 0, 0, 0, 0, 0, 0, 0, 0, 0, 0, 0, 0, 0, 0, 0, 0, 0, 0, 0, 0, 0, 0, 0, 0, 0, 0, 0, 0, 0, 0, 0, 0, 0, 0, 0, 0, 0, 0, 0, 0, 0, 0, 0, 0, 0, 0, 0, 0, 0, 0, 0, 0, 0, 0, 0, 0, 0, 0, 0, 0, 0, 0, 0, 0, 0, 0, 0, 0, 0, 0, 0, 0, 0, 0, 0, 0, 0, 0, 0, 0, 0, 0, 0, 0, 0, 0, 0, 0, 0, 0, 0, 0, 0, 0, 0, 0, 0, 0, 0, 0, 0, 0, 0, 0, 0, 0, 0, 0, 0, 0, 0, 0, 0, 0, 0, 0, 0, 0, 0, 0, 0, 0, 0, 0, 0, 0, 0, 0, 0, 0, 0, 0, 0, 0, 0, 0, 0, 0, 0, 0, 0, 0, 0, 0, 0, 0, 0, 0, 0, 0, 0, 0, 0, 0, 0, 0, 0, 0, 0, 0, 0, 0, 0, 0, 0, 0, 0, 0, 0, 0, 0, 0, 0, 0, 0, 0, 0, 0, 0, 0, 0, 0, 0, 0, 0, 0, 0, 0, 0, 0, 0, 0, 0, 0, 0, 0, 0, 0, 0, 0, 0, 0, 0, 0, 0, 0, 0, 0, 0, 0, 0, 0, 0, 0, 0, 0, 0, 0, 0, 0, 0, 0, 0, 0, 0, 0, 0, 0, 0, 0, 0, 0, 0, 0, 0, 0, 0, 0, 0, 0, 0, 0, 0, 0, 0, 0, 0, 0, 0, 0, 0, 0, 0, 0, 0, 0, 0, 0, 0, 0, 0, 0, 0, 0, 0, 0, 0, 0, 0, 0, 0, 0, 0, 0, 0, 0, 0, 0, 0, 0, 0, 0, 0, 0, 0, 0, 0, 0, 0, 0, 0, 0, 0, 0, 0, 0, 0, 0, 0, 0, 0, 0, 0, 0, 0, 0, 0, 0, 0, 0, 0, 0, 0, 0, 0, 0, 0, 0, 0, 0, 0, 0, 0, 0, 0, 1, 0, 0, 0, 0, 0, 0, 0, 0, 0, 0, 0, 0, 0, 0, 0, 0, 0, 0, 0, 0, 0, 0, 0, 0, 0, 0, 0, 0, 0, 0, 0, 0, 0, 0, 0, 0, 0, 0, 0, 0, 0, 0, 0, 0, 0, 0, 0, 0, 0, 0, 0, 0, 0, 0, 0, 0, 0, 0, 0, 0, 0, 0, 0, 0, 0, 0, 0, 0, 0, 0, 0, 0, 0, 0, 0, 0, 0, 0, 0, 0, 0, 0, 0, 0, 0, 0, 0, 0, 0, 0, 0, 0, 0, 0, 0, 0, 0, 0, 0, 0, 0, 0, 0, 0, 0, 0, 0, 0, 0, 0, 0, 0, 0, 0, 0, 0, 0, 0, 0, 0, 0, 0, 0, 0, 0, 0, 0, 0, 0, 0, 0, 0, 0, 0, 0, 0, 0, 0, 0, 0, 0, 0, 0, 0, 0, 0, 0, 0, 0, 0, 0, 0, 0, 0, 0, 0, 0, 0, 0, 0, 0, 0, 0, 0, 0, 0, 0, 0, 0, 0, 0, 0, 0, 0, 0, 0, 0, 0, 0, 0, 0, 0, 0, 0, 0, 0, 0, 0, 0, 0, 0, 0, 0, 0, 0, 0, 0, 0, 0, 0, 0, 0, 0, 0, 0, 0, 0, 0, 0, 0, 0, 0, 0, 0, 0, 0, 0, 0, 0, 0, 0, 0, 0, 0, 0, 0, 0, 0, 0, 0, 0, 0, 0, 0, 0, 0, 0, 0, 0, 0, 0, 0, 0, 0, 0, 0, 0, 0, 0, 0, 0, 0, 0, 0, 0, 0, 0, 0, 0, 0, 0, 0, 0, 0, 0, 0, 0, 0, 0, 0, 0, 0, 0, 0, 0, 0, 0, 0, 0, 0, 0, 0, 0, 0, 0, 0, 0, 0, 0, 0, 0, 0, 0, 0, 0, 0, 0, 0, 0, 0, 0, 0, 0, 0, 0, 0, 0, 0, 0, 0, 0, 0, 0, 0, 0, 0, 0, 0, 0, 0, 0, 0, 0, 0, 0, 0, 0, 0, 0, 0, 0, 0, 0, 0, 0, 0, 0, 0, 0, 0, 0, 0, 0, 0, 0, 0, 0, 0, 0, 0, 0, 0, 0, 0, 0, 0, 0, 0, 0, 0, 0, 0, 0, 0, 0, 0, 0, 0, 0, 0, 0, 0, 0, 0, 0, 0, 0, 0, 0, 0, 0, 0, 0, 0, 0, 0, 0, 0, 0, 0, 0, 0, 0, 0, 0, 0, 0, 0, 0, 0, 0, 0, 0, 0, 0, 0, 0, 0, 0, 0, 0, 0, 0, 0, 0, 0, 0, 0, 0, 0, 0, 0, 0, 0, 0, 0, 0, 0, 0, 0, 0, 0, 0, 0, 0, 0, 0, 0, 0, 0, 0, 0, 0, 0, 0, 0, 0, 0, 0, 0, 0, 0, 0, 0, 0, 0, 0, 0, 0, 0, 0, 0, 0, 0, 0, 0, 0, 0, 0, 0, 0, 0, 0, 0, 0, 0, 0, 0, 0, 0, 0, 0, 0, 0, 0, 0, 0, 0, 0, 0, 0, 0, 0, 0, 0, 0, 0, 0, 0, 0, 0, 0, 0, 0, 0, 0, 0, 0, 0, 0, 0, 0, 1, 0, 0, 0, 0, 0, 0, 0, 0, 0, 0, 0, 0, 0, 0, 0, 0, 0, 0, 0, 0, 0, 0, 0, 0, 0, 0, 0, 0, 0, 0, 0, 0, 0, 0, 0, 2, 0, 0, 0, 0, 0, 0, 0, 0, 0, 0, 0, 0, 0, 0, 0, 0, 0, 0, 0, 0, 0, 0, 0, 0, 0, 0, 0, 0, 0, 0, 0, 0, 0, 0, 0, 0, 0, 0, 0, 0, 1, 0, 0, 0, 0, 0, 0, 0, 0, 0, 0, 0, 0, 0, 0, 0, 0, 0, 0, 0, 0, 0, 0, 0, 0, 0, 0, 0, 0, 0, 0, 0, 0, 0, 0, 0, 0, 0, 0, 0, 0, 0, 0, 0, 0, 0, 0, 0, 0, 0, 0, 0, 0, 0, 0, 0, 0, 0, 0, 0, 0, 0, 0, 0, 0, 0, 0, 0, 0, 0, 0, 0, 0, 0, 0, 0, 0, 0, 0, 0, 0, 0, 0, 0, 0, 0, 0, 0, 0, 0, 0, 0, 0, 0, 0, 0, 0, 0, 0, 0, 0, 0, 0, 0, 0, 0, 0, 0, 0, 0, 0, 0, 0, 0, 0, 0, 0, 0, 0, 0, 0, 0, 0, 0, 0, 0, 0, 0, 0, 0, 0, 0, 0, 0, 0, 0, 0, 0, 0, 0, 0, 0, 0, 0, 0, 0, 0, 0, 0, 0, 0, 0, 0, 0, 0, 0, 0, 0, 0, 0, 0, 0, 0, 0, 0, 0, 0, 0, 0, 0, 0, 0, 0, 0, 0, 0, 0, 0, 0, 0, 0, 0, 0, 0, 0, 0, 0, 0, 0, 0, 0, 0, 0, 0, 0, 0, 0, 0, 0, 0, 0, 0, 0, 0, 0, 0, 0, 0, 0, 0, 0, 0, 0, 0, 0, 0, 0, 0, 0, 0, 0, 0, 0, 0, 0, 0, 0, 0, 0, 0, 0, 0, 0, 0, 0, 0, 0, 0, 0, 0, 0, 0, 0, 0, 0, 0, 0, 0, 0, 0, 0, 0, 0, 0, 0, 0, 0, 0, 0, 0, 0, 0, 0, 0, 0, 0, 0, 0, 0, 0, 0, 0, 0, 0, 0, 0, 0, 0, 0, 0, 0, 0, 0, 0, 0, 0, 0, 0, 0, 0, 0, 0, 0, 0, 0, 0, 0, 0, 0, 0, 0, 0, 0, 0, 0, 0, 0, 0, 0, 0, 0, 0, 0, 0, 0, 0, 0, 0, 0, 0, 0, 0, 0, 0, 0, 0, 0, 0, 0, 0, 0, 0, 0, 0, 0, 0, 0, 0, 0, 0, 0, 0, 0, 0, 0, 0, 0, 0, 0, 0, 0, 0, 0, 0, 0, 0, 0, 0, 0, 0, 0, 0, 0, 0, 0, 0, 0, 0, 0, 0, 0, 0, 0, 0, 0, 0, 0, 0, 0, 0, 0, 0, 0, 0, 0, 0, 0, 0, 0, 0, 0, 0, 0, 0, 0, 0, 0, 0, 0, 0, 0, 0, 0, 0, 0, 0, 0, 0, 0, 0, 0, 0, 0, 0, 0, 0, 0, 0, 0, 0, 0, 0, 0, 0, 0, 0, 0, 0, 0, 0, 0, 0, 0, 0, 0, 0, 0, 0, 0, 0, 0, 0, 0, 0, 0, 0, 0, 0, 0, 0, 0, 0, 0, 0, 0, 0, 0, 0, 0, 0, 0, 0, 0, 0, 0, 0, 0, 0, 0, 0, 0, 0, 0, 0, 0, 0, 0, 0, 0, 0, 0, 0, 0, 0, 0, 0, 0, 0, 0, 0, 0, 0, 0, 0, 0, 0, 0, 0, 1, 0, 0, 0, 0, 0, 0, 0, 0, 0, 0, 0, 0, 0, 0, 0, 0, 0, 0, 0, 0, 0, 0, 0, 0, 0, 0, 0, 0, 0, 0, 0, 0, 0, 0, 0, 0, 0, 0, 0, 0, 0, 0, 0, 0, 0, 0, 0, 0, 0, 0, 0, 0, 0, 0, 0, 0, 0, 0, 0, 0, 0, 0, 0, 0, 0, 0, 0, 0, 0, 0, 0, 0, 0, 0, 0, 0, 0, 0, 0, 0, 0, 0, 0, 0, 0, 0, 0, 0, 0, 0, 0, 0, 0, 0, 0, 0, 0, 0, 0, 0, 0, 0, 0, 0, 0, 0, 0, 0, 0, 0, 2, 0, 0, 0, 0, 0, 0, 0, 0, 0, 0, 0, 0, 0, 0, 0, 0, 0, 0, 0, 0, 0, 0, 0, 0, 0, 0, 0, 0, 0, 0, 0, 0, 0, 0, 0, 0, 0, 0, 0, 0, 0, 0, 0, 0, 0, 0, 0, 0, 0, 0, 0, 0, 0, 0, 0, 0, 0, 0, 0, 0, 0, 0, 0, 0, 0, 0, 0, 0, 0, 0, 0, 0, 0, 0, 0, 0, 0, 0, 0, 0, 0, 0, 0, 0, 0, 0, 0, 0, 0, 0, 0, 0, 0, 0, 0, 0, 0, 0, 0, 0, 0, 0, 0, 0, 0, 0, 0, 0, 0, 0, 0, 0, 0, 0, 0, 0, 0, 0, 0, 0, 0, 0, 0, 0, 0, 0, 0, 0, 0, 0, 0, 0, 0, 0, 0, 0, 0, 0, 0, 0, 0, 0, 0, 0, 0, 0, 0, 0, 0, 0, 0, 0, 0, 0, 0, 0, 0, 0, 0, 0, 0, 0, 0, 0, 0, 0, 0, 0, 0, 0, 0, 0, 0, 0, 0, 0, 0, 0, 0, 0, 0, 0, 0, 0, 0, 0, 0, 0, 0, 0, 0, 0, 0, 0, 0, 0, 0, 0, 0, 0, 0, 0, 0, 0, 0, 0, 0, 0, 0, 0, 0, 0, 0, 0, 0, 0, 0, 0, 0, 0, 0, 0, 0, 0, 0, 0, 0, 0, 0, 0, 0, 0, 0, 0, 0, 0, 0, 0, 0, 0, 0, 0, 0, 0, 0, 0, 0, 0, 0, 0, 0, 0, 0, 0, 0, 0, 0, 0, 0, 0, 0, 0, 0, 0, 0, 0, 0, 0, 0, 0, 0, 0, 0, 0, 0, 0, 0, 0, 0, 0, 0, 0, 0, 0, 0, 0, 0, 0, 0, 0, 0, 0, 0, 0, 0, 0, 0, 0, 0, 0, 0, 0, 0, 0, 0, 0, 0, 0, 0, 0, 0, 0, 0, 0, 0, 0, 0, 0, 0, 0, 0, 0, 0, 0, 0, 0, 0, 0, 0, 0, 0, 0, 0, 0, 0, 0, 0, 0, 0, 0, 0, 0, 0, 0, 0, 0, 0, 0, 0, 0, 0, 0, 0, 0, 0, 0, 0, 0, 0, 0, 0, 0, 0, 0, 0, 0, 0, 0, 0, 0, 0, 0, 0, 0, 0, 0, 0, 0, 0, 0, 0, 0, 0, 0, 0, 0, 0, 0, 0, 0, 0, 0, 0, 0, 0, 0, 0, 0, 0, 0, 0, 0, 0, 0, 0, 0, 0, 0, 0, 0, 0, 0, 0, 0, 0, 0, 0, 0, 0, 0, 0, 0, 0, 0, 0, 0, 0, 0, 0, 0, 0, 0, 0, 0, 0, 0, 0, 0, 0, 0, 0, 0, 0, 0, 0, 0, 0, 0, 0, 0, 0, 0, 0, 0, 0, 0, 0, 0, 0, 0, 0, 0, 0, 0, 0, 0, 0, 0, 0, 0, 0, 0, 0, 0, 0, 0, 0, 0, 0, 0, 0, 0, 0, 0, 0, 0, 0, 0, 0, 0, 0, 0, 0, 0, 0, 0, 0, 0, 0, 0, 0, 0, 0, 0, 0, 0, 0, 0, 0, 0, 0, 0, 0, 0, 0, 0, 0, 0, 0, 0, 0, 0, 0, 0, 0, 0, 0, 0, 0, 0, 0, 0, 0, 0, 0, 0, 0, 0, 0, 0, 0, 0, 0, 0, 0, 0, 0, 0, 0, 0, 0, 0, 0, 0, 0, 0, 0, 0, 0, 0, 0, 0, 0, 0, 0, 0, 0, 0, 0, 0, 0, 0, 0, 0, 0, 0, 0, 0, 0, 0, 0, 0, 0, 0, 0, 0, 0, 0, 0, 0, 0, 0, 0, 0, 0, 0, 0, 0, 0, 0, 0, 0, 0, 0, 0, 0, 0, 0, 0, 0, 0, 0, 0, 0, 0, 0, 0, 0, 0, 0, 0, 0, 0, 0, 0, 0, 0, 0, 0, 0, 0, 0, 0, 0, 0, 0, 0, 0, 0, 0, 0, 0, 0, 0, 0, 0, 0, 0, 0, 0, 0, 0, 0, 0, 0, 0, 0, 0, 0, 0, 0, 0, 0, 0, 0, 0, 0, 0, 0, 0, 0, 0, 0, 0, 0, 0, 0, 0, 0, 0, 0, 0, 0, 0, 0, 0, 0, 0, 0, 0, 1, 0, 0, 0, 0, 0, 0, 0, 0, 0, 0, 0, 0, 0, 0, 0, 0, 0, 0, 0, 0, 0, 0, 0, 0, 0, 0, 0, 0, 0, 0, 0, 0, 0, 0, 0, 0, 0, 0, 0, 0, 0, 0, 0, 0, 0, 0, 0, 0, 0, 0, 0, 0, 0, 0, 0, 0, 0, 0, 0, 0, 0, 0, 0, 0, 0, 0, 0, 0, 0, 0, 0, 0, 0, 0, 0, 0, 0, 0, 0, 0, 0, 0, 0, 0, 0, 0, 0, 0, 0, 0, 0, 0, 0, 0, 0, 0, 0, 0, 0, 0, 0, 0, 0, 0, 0, 0, 0, 1, 0, 0, 0, 0, 0, 0, 0, 0, 0, 0, 0, 0, 0, 0, 0, 0, 0, 0, 0, 0, 0, 0, 0, 0, 0, 0, 0, 0, 0, 0, 0, 0, 0, 0, 0, 0, 0, 0, 0, 0, 0, 0, 0, 0, 0, 0, 0, 0, 0, 0, 0, 0, 0, 0, 0, 0, 0, 0, 0, 0, 0, 0, 0, 0, 0, 0, 0, 0, 0, 0, 0, 0, 0, 0, 0, 0, 0, 0, 0, 0, 0, 0, 0, 0, 0, 0, 0, 0, 0, 0, 0, 0, 0, 0, 0, 0, 0, 0, 0, 0, 0, 0, 0, 0, 0, 0, 0, 0, 0, 0, 0, 0, 0, 0, 0, 0, 0, 0, 0, 0, 0, 0, 0, 0, 0, 0, 0, 0, 0, 0, 0, 0, 0, 0, 0, 0, 0, 0, 0, 0, 0, 0, 0, 0, 0, 0, 0, 0, 0, 0, 0, 0, 0, 0, 0, 0, 0, 0, 0, 0, 0, 0, 0, 0, 0, 0, 0, 0, 0, 0, 0, 0, 0, 0, 0, 0, 0, 0, 0, 0, 0, 0, 0, 0, 0, 0, 0, 0, 0, 0, 0, 0, 0, 0, 0, 0, 0, 0, 0, 0, 0, 0, 0, 0, 0, 0, 0, 0, 0, 0, 0, 0, 0, 0, 0, 0, 0, 0, 0, 0, 0, 0, 0, 0, 0, 0, 0, 0, 0, 0, 0, 0, 0, 0, 0, 0, 0, 0, 0, 0, 0, 0, 0, 0, 0, 0, 0, 0, 0, 0, 0, 0, 0, 0, 0, 0, 0, 0, 0, 0, 0, 0, 0, 0, 0, 0, 0, 0, 0, 0, 0, 0, 0, 0, 0, 0, 0, 0, 0, 0, 0, 0, 0, 0, 0, 0, 0, 0, 0, 0, 0, 0, 0, 0, 0, 0, 0, 0, 0, 0, 0, 0, 0, 0, 0, 0, 0, 0, 0, 0, 0, 0, 0, 0, 0, 0, 0, 0, 0, 0, 0, 0, 0, 0, 0, 0, 0, 0, 0, 0, 0, 0, 0, 0, 0, 0, 0, 0, 0, 0, 0, 0, 0, 0, 0, 0, 0, 0, 0, 0, 0, 0, 0, 0, 0, 0, 0, 0, 0, 0, 0, 0, 0, 0, 0, 0, 0, 0, 0, 0, 0, 0, 0, 0, 0, 0, 0, 0, 0, 0, 0, 0, 0, 0, 0, 0, 0, 0, 0, 0, 0, 0, 0, 0, 0, 0, 0, 0, 0, 0, 0, 0, 0, 0, 0, 0, 0, 0, 0, 0, 0, 0, 0, 0, 0, 0, 0, 0, 0, 0, 0, 0, 0, 0, 0, 0, 0, 0, 0, 0, 0, 0, 0, 0, 0, 0, 0, 0, 0, 0, 0, 0, 0, 0, 0, 0, 0, 0, 0, 0, 0, 0, 0, 0, 0, 0, 0, 0, 0, 0, 0, 0, 0, 2, 0, 1, 0], type: <class 'list'>, valid types: <class 'bytes'>, <class 'bytearray'>, file-like object"
     ]
    }
   ],
   "source": [
    "response = runtime.invoke_endpoint(EndpointName = xgb_predictor.endpoint, # The name of the endpoint we created\n",
    "                                       ContentType = 'text/csv',                     # The data format that is expected\n",
    "                                       Body = test_bow)"
   ]
  },
  {
   "cell_type": "markdown",
   "metadata": {},
   "source": [
    "So why did we get an error?\n",
    "\n",
    "Because we tried to send the endpoint a list of integers but it expected us to send data of type `text/csv`. So, we need to convert it."
   ]
  },
  {
   "cell_type": "code",
   "execution_count": 54,
   "metadata": {},
   "outputs": [
    {
     "name": "stderr",
     "output_type": "stream",
     "text": [
      "The endpoint attribute has been renamed in sagemaker>=2.\n",
      "See: https://sagemaker.readthedocs.io/en/stable/v2.html for details.\n"
     ]
    }
   ],
   "source": [
    "response = runtime.invoke_endpoint(EndpointName = xgb_predictor.endpoint, # The name of the endpoint we created\n",
    "                                       ContentType = 'text/csv',                     # The data format that is expected\n",
    "                                       Body = ','.join([str(val) for val in test_bow]).encode('utf-8'))"
   ]
  },
  {
   "cell_type": "code",
   "execution_count": 55,
   "metadata": {},
   "outputs": [
    {
     "name": "stdout",
     "output_type": "stream",
     "text": [
      "{'ResponseMetadata': {'RequestId': '1b06d9d9-670b-40e9-b7cc-c25714e2c24f', 'HTTPStatusCode': 200, 'HTTPHeaders': {'x-amzn-requestid': '1b06d9d9-670b-40e9-b7cc-c25714e2c24f', 'x-amzn-invoked-production-variant': 'AllTraffic', 'date': 'Sat, 7 Nov 2020 11:49:44 GMT', 'content-type': 'text/csv; charset=utf-8', 'content-length': '14'}, 'RetryAttempts': 0}, 'ContentType': 'text/csv; charset=utf-8', 'InvokedProductionVariant': 'AllTraffic', 'Body': <botocore.response.StreamingBody object at 0x7fbc87ddfcc0>}\n"
     ]
    }
   ],
   "source": [
    "print(response)"
   ]
  },
  {
   "cell_type": "markdown",
   "metadata": {},
   "source": [
    "As we can see, the response from our model is a somewhat complicated looking dict that contains a bunch of information. The bit that we are most interested in is `'Body'` object which is a streaming object that we need to `read` in order to make use of."
   ]
  },
  {
   "cell_type": "code",
   "execution_count": 56,
   "metadata": {},
   "outputs": [
    {
     "name": "stdout",
     "output_type": "stream",
     "text": [
      "0.393527030945\n"
     ]
    }
   ],
   "source": [
    "response = response['Body'].read().decode('utf-8')\n",
    "print(response)"
   ]
  },
  {
   "cell_type": "markdown",
   "metadata": {},
   "source": [
    "Now that we know how to process the incoming user data we can start setting up the infrastructure to make our simple web app work. To do this we will make use of two different services. Amazon's Lambda and API Gateway services.\n",
    "\n",
    "Lambda is a service which allows someone to write some relatively simple code and have it executed whenever a chosen trigger occurs. For example, you may want to update a database whenever new data is uploaded to a folder stored on S3.\n",
    "\n",
    "API Gateway is a service that allows you to create HTTP endpoints (url addresses) which are connected to other AWS services. One of the benefits to this is that you get to decide what credentials, if any, are required to access these endpoints.\n",
    "\n",
    "In our case we are going to set up an HTTP endpoint through API Gateway which is open to the public. Then, whenever anyone sends data to our public endpoint we will trigger a Lambda function which will send the input (in our case a review) to our model's endpoint and then return the result."
   ]
  },
  {
   "cell_type": "markdown",
   "metadata": {},
   "source": [
    "### Setting up a Lambda function\n",
    "\n",
    "The first thing we are going to do is set up a Lambda function. This Lambda function will be executed whenever our public API has data sent to it. When it is executed it will receive the data, perform any sort of processing that is required, send the data (the review) to the SageMaker endpoint we've created and then return the result.\n",
    "\n",
    "#### Part A: Create an IAM Role for the Lambda function\n",
    "\n",
    "Since we want the Lambda function to call a SageMaker endpoint, we need to make sure that it has permission to do so. To do this, we will construct a role that we can later give the Lambda function.\n",
    "\n",
    "Using the AWS Console, navigate to the **IAM** page and click on **Roles**. Then, click on **Create role**. Make sure that the **AWS service** is the type of trusted entity selected and choose **Lambda** as the service that will use this role, then click **Next: Permissions**.\n",
    "\n",
    "In the search box type `sagemaker` and select the check box next to the **AmazonSageMakerFullAccess** policy. Then, click on **Next: Review**.\n",
    "\n",
    "Lastly, give this role a name. Make sure you use a name that you will remember later on, for example `LambdaSageMakerRole`. Then, click on **Create role**."
   ]
  },
  {
   "cell_type": "markdown",
   "metadata": {},
   "source": [
    "#### Part B: Create a Lambda function\n",
    "\n",
    "Now it is time to actually create the Lambda function. Remember from earlier that in order to process the user provided input and send it to our endpoint we need to gather two pieces of information:\n",
    "\n",
    " - The name of the endpoint, and\n",
    " - the vocabulary object.\n",
    "\n",
    "We will copy these pieces of information to our Lambda function after we create it.\n",
    "\n",
    "To start, using the AWS Console, navigate to the AWS Lambda page and click on **Create a function**. When you get to the next page, make sure that **Author from scratch** is selected. Now, name your Lambda function, using a name that you will remember later on, for example `sentiment_analysis_xgboost_func`. Make sure that the **Python 3.6** runtime is selected and then choose the role that you created in the previous part. Then, click on **Create Function**.\n",
    "\n",
    "On the next page you will see some information about the Lambda function you've just created. If you scroll down you should see an editor in which you can write the code that will be executed when your Lambda function is triggered. Collecting the code we wrote above to process a single review and adding it to the provided example `lambda_handler` we arrive at the following.\n",
    "\n",
    "```python\n",
    "# We need to use the low-level library to interact with SageMaker since the SageMaker API\n",
    "# is not available natively through Lambda.\n",
    "import boto3\n",
    "\n",
    "# And we need the regular expression library to do some of the data processing\n",
    "import re\n",
    "\n",
    "REPLACE_NO_SPACE = re.compile(\"(\\.)|(\\;)|(\\:)|(\\!)|(\\')|(\\?)|(\\,)|(\\\")|(\\()|(\\))|(\\[)|(\\])\")\n",
    "REPLACE_WITH_SPACE = re.compile(\"(<br\\s*/><br\\s*/>)|(\\-)|(\\/)\")\n",
    "\n",
    "def review_to_words(review):\n",
    "    words = REPLACE_NO_SPACE.sub(\"\", review.lower())\n",
    "    words = REPLACE_WITH_SPACE.sub(\" \", words)\n",
    "    return words\n",
    "    \n",
    "def bow_encoding(words, vocabulary):\n",
    "    bow = [0] * len(vocabulary) # Start by setting the count for each word in the vocabulary to zero.\n",
    "    for word in words.split():  # For each word in the string\n",
    "        if word in vocabulary:  # If the word is one that occurs in the vocabulary, increase its count.\n",
    "            bow[vocabulary[word]] += 1\n",
    "    return bow\n",
    "\n",
    "\n",
    "def lambda_handler(event, context):\n",
    "    \n",
    "    vocab = \"*** ACTUAL VOCABULARY GOES HERE ***\"\n",
    "    \n",
    "    words = review_to_words(event['body'])\n",
    "    bow = bow_encoding(words, vocab)\n",
    "\n",
    "    # The SageMaker runtime is what allows us to invoke the endpoint that we've created.\n",
    "    runtime = boto3.Session().client('sagemaker-runtime')\n",
    "\n",
    "    # Now we use the SageMaker runtime to invoke our endpoint, sending the review we were given\n",
    "    response = runtime.invoke_endpoint(EndpointName = '***ENDPOINT NAME HERE***',# The name of the endpoint we created\n",
    "                                       ContentType = 'text/csv',                 # The data format that is expected\n",
    "                                       Body = ','.join([str(val) for val in bow]).encode('utf-8')) # The actual review\n",
    "\n",
    "    # The response is an HTTP response whose body contains the result of our inference\n",
    "    result = response['Body'].read().decode('utf-8')\n",
    "    \n",
    "    # Round the result so that our web app only gets '1' or '0' as a response.\n",
    "    result = round(float(result))\n",
    "\n",
    "    return {\n",
    "        'statusCode' : 200,\n",
    "        'headers' : { 'Content-Type' : 'text/plain', 'Access-Control-Allow-Origin' : '*' },\n",
    "        'body' : str(result)\n",
    "    }\n",
    "```"
   ]
  },
  {
   "cell_type": "markdown",
   "metadata": {},
   "source": [
    "Once you have copy and pasted the code above into the Lambda code editor, replace the `**ENDPOINT NAME HERE**` portion with the name of the endpoint that we deployed earlier. You can determine the name of the endpoint using the code cell below."
   ]
  },
  {
   "cell_type": "code",
   "execution_count": 57,
   "metadata": {},
   "outputs": [
    {
     "name": "stderr",
     "output_type": "stream",
     "text": [
      "The endpoint attribute has been renamed in sagemaker>=2.\n",
      "See: https://sagemaker.readthedocs.io/en/stable/v2.html for details.\n"
     ]
    },
    {
     "data": {
      "text/plain": [
       "'xgboost-2020-11-07-11-32-27-592'"
      ]
     },
     "execution_count": 57,
     "metadata": {},
     "output_type": "execute_result"
    }
   ],
   "source": [
    "xgb_predictor.endpoint"
   ]
  },
  {
   "cell_type": "markdown",
   "metadata": {},
   "source": [
    "In addition, you will need to copy the vocabulary dict to the appropriate place in the code at the beginning of the `lambda_handler` method. The cell below prints out the vocabulary dict in a way that is easy to copy and paste."
   ]
  },
  {
   "cell_type": "code",
   "execution_count": 58,
   "metadata": {},
   "outputs": [
    {
     "name": "stdout",
     "output_type": "stream",
     "text": [
      "{'looked': 2647, 'forward': 1808, 'to': 4507, 'watching': 4815, 'this': 4457, 'film': 1716, 'and': 226, 'then': 4436, 'that': 4424, 'any': 256, 'hope': 2155, 'of': 3083, 'coherent': 871, 'dialogue': 1234, 'between': 475, 'the': 4426, 'actors': 104, 'was': 4805, 'by': 642, 'unnecessary': 4672, 'now': 3054, 'am': 204, 'not': 3040, 'in': 2257, 'way': 4820, 'but': 636, 'at': 331, 'each': 1395, 'other': 3135, 'does': 1308, 'good': 1937, 'make': 2713, 'is': 2360, 'arguably': 289, 'one': 3107, 'worst': 4952, 'world': 4946, 'time': 4495, 'witness': 4914, 'his': 2118, 'performance': 3228, 'god': 1926, 'awful': 372, 'life': 2592, 'stuff': 4243, 'accent': 78, 'almost': 193, 'as': 311, 'bad': 382, 'avoid': 363, 'how': 2181, 'many': 2732, 'more': 2904, 'these': 4441, 'films': 1721, 'kiss': 2483, 'bang': 393, 'beautiful': 428, 'creatures': 1046, 'do': 1302, 'we': 4823, 'have': 2052, 'suffer': 4275, 'before': 440, 'makers': 2715, 'realise': 3548, 'word': 4937, 'etc': 1527, 'proper': 3436, 'birthday': 487, 'right': 3696, 'around': 297, 'corner': 996, 'shes': 3930, 'just': 2437, 'her': 2085, 'sexuality': 3909, 'with': 4911, 'boys': 559, 'it': 2366, 'turns': 4609, 'out': 3141, 'all': 187, 'guys': 2001, 'she': 3923, 'spends': 4107, 'wind': 4893, 'up': 4683, 'murdered': 2940, 'generic': 1885, '80s': 59, 'slasher': 4020, 'its': 2370, 'local': 2634, 'town': 4541, 'sheriff': 3929, 'dan': 1102, 'bo': 521, 'wild': 4885, 'bunch': 623, 'annoying': 249, 'mystery': 2956, 'loving': 2675, 'two': 4620, 'shoes': 3941, 'daughter': 1121, 'friday': 1834, '13th': 5, 'part': 3193, 'get': 1899, 'bottom': 551, 'killings': 2473, 'focuses': 1768, 'on': 3105, 'melodrama': 2797, 'aspects': 322, 'movie': 2926, 'less': 2575, 'themselves': 4435, 'thus': 4486, 'able': 66, 'itself': 2371, 'from': 1840, 'lot': 2661, 'doesnt': 1309, 'hurt': 2202, 'has': 2043, 'great': 1964, 'body': 527, 'feel': 1684, 'need': 2987, 'stress': 4220, 'obvious': 3071, 'actress': 105, 'over': 3148, '18': 10, 'convey': 982, 'im': 2232, 'overly': 3155, 'few': 1700, 'plot': 3309, 'points': 3319, 'are': 285, 'theme': 4433, 'some': 4061, 'used': 4693, 'bit': 488, 'too': 4522, 'often': 3095, 'an': 223, 'ending': 1471, 'tad': 4347, 'anti': 254, 'barely': 399, 'give': 1912, 'rent': 3626, 'wouldnt': 4958, 'buy': 640, 'eye': 1611, 'candy': 668, 'shirley': 3936, 'shows': 3960, 'bush': 632, 'ass': 323, 'my': 2951, 'grade': 1951, 'code': 869, 'red': 3576, 'dvd': 1391, 'extras': 1608, 'star': 4150, 'director': 1264, 'scott': 3824, 'both': 547, 'directors': 1266, 'cut': 1089, 'theatrical': 4430, 'version': 4720, 'audio': 354, 'conversation': 980, 'jim': 2402, 'interview': 2329, 'still': 4188, 'trailer': 4554, 'for': 1784, 'trailers': 4555, 'nightmare': 3014, 'stunt': 4245, 'rock': 3720, 'conspiracy': 956, 'tough': 4537, 'watch': 4811, 'earlier': 1399, 'reviewer': 3677, 'says': 3801, 'amazing': 209, 'considering': 952, 'terrible': 4407, 'came': 656, 'after': 143, 'wwii': 4975, 'particularly': 3195, 'clear': 839, 'middle': 2833, 'war': 4792, 'knew': 2486, 'exactly': 1551, 'what': 4858, 'happening': 2028, 'sequence': 3887, 'vivid': 4760, 'if': 2222, 'based': 404, 'upon': 4684, 'actual': 108, 'nazis': 2978, 'liked': 2600, 'record': 3573, 'their': 4431, 'nazi': 2977, 'brilliant': 583, 'he': 2056, 'course': 1019, 'career': 686, 'telling': 4396, 'when': 4862, 'reactions': 3542, 'germans': 1897, 'first': 1736, 'laughing': 2533, 'hitler': 2124, 'finally': 1724, 'contrast': 975, 'however': 2183, 'us': 4690, 'believe': 454, 'young': 4989, 'officer': 3092, 'did': 1241, 'happen': 2026, 'several': 3905, 'attempts': 343, 'against': 147, 'most': 2909, 'notably': 3042, 'which': 4867, 'occurred': 3077, 'coming': 896, 'strong': 4229, 'effectively': 1430, 'using': 4698, 'flashbacks': 1747, 'others': 3136, 'would': 4957, 'occur': 3076, 'once': 3106, 'ended': 1470, 'excellent': 1555, 'adventure': 130, 'adapted': 114, 'eric': 1514, 'williams': 4888, 'own': 3158, 'book': 535, 'copy': 994, 'forms': 1801, 'fathers': 1667, 'library': 2589, 'inspired': 2301, 'true': 4596, 'events': 1536, 'may': 2775, 'well': 4843, 'be': 418, 'kind': 2476, 'therefore': 4439, 'answer': 251, 'similarly': 3980, 'stiff': 4187, 'upper': 4685, 'examples': 1554, 'such': 4268, 'albert': 174, 'ill': 2228, 'story': 4207, 'danger': 1109, 'within': 4912, 'higher': 2101, 'side': 3965, 'namely': 2962, '17': 9, 'escape': 1517, 'sets': 3899, 'basis': 408, 'pretty': 3384, 'british': 589, 'soldiers': 4054, 'german': 1896, 'camp': 662, 'plan': 3287, 'page': 3167, 'greek': 1970, 'legend': 2564, 'under': 4639, 'horse': 2170, 'during': 1387, 'physical': 3262, 'exercise': 1568, 'full': 1846, 'view': 4736, 'actually': 109, 'split': 4120, 'into': 2332, 'deals': 1137, 'slow': 4031, 'process': 3412, 'while': 4868, 'latter': 2528, 'outside': 3146, 'they': 4442, 'try': 4600, 'typically': 4624, 'cast': 710, 'established': 1524, 'leo': 2571, 'current': 1084, 'anthony': 253, 'steel': 4173, 'peter': 3247, 'david': 1124, 'bill': 481, 'stars': 4155, 'say': 3799, 'nothing': 3047, 'character': 758, 'dawson': 1128, 'michael': 2829, 'walter': 4784, 'three': 4469, 'leads': 2548, 'stick': 4185, 'together': 4511, 'goes': 1930, 'only': 3110, 'run': 3755, 'reaching': 3539, 'safety': 3772, 'can': 665, 'expected': 1577, 'narrative': 2966, 'involves': 2348, 'plenty': 3307, 'suspense': 4330, 'excitement': 1562, 'male': 2719, 'centered': 733, 'female': 1693, 'interest': 2323, 'kept': 2456, 'minimum': 2856, 'lee': 2559, 'didnt': 1242, 'lengthy': 2570, 'somewhat': 4068, 'similar': 3978, 'albeit': 173, 'change': 749, 'setting': 3900, 'like': 2599, 'alice': 182, 'certainly': 738, 'every': 1539, 'gripping': 1976, 'situation': 4008, 'case': 707, 'even': 1533, 'filming': 1718, 'saw': 3798, 'post': 3352, 'leaving': 2557, 'producer': 3415, 'ian': 2209, 'task': 4368, 'loose': 2650, 'ends': 1474, 'anyway': 261, 'worth': 4953, 'special': 4097, 'mention': 2810, 'lighting': 2596, 'night': 3013, 'sequences': 3888, 'throughout': 4478, 'times': 4497, 'believing': 457, 'me': 2778, 'farce': 1654, 'years': 4979, 'come': 886, 're': 3535, 'wars': 4804, 'dont': 1324, 'responsible': 3656, 'parent': 3187, 'speaking': 4095, 'those': 4460, 'who': 4871, 'parents': 3188, 'you': 4986, 'let': 2579, 'your': 4991, 'child': 789, 'ever': 1538, 'video': 4733, 'festival': 1697, 'pseudo': 3454, 'co': 867, 'viewer': 4738, 'likely': 2601, 'alien': 183, 'wholly': 4874, 'man': 2721, 'made': 2697, 'flesh': 1753, 'invisible': 2344, 'adults': 126, 'children': 792, 'could': 1007, 'never': 3001, 'afford': 138, 'without': 4913, 'possible': 3350, 'self': 3869, 'easy': 1410, 'answers': 252, 'false': 1641, 'everything': 1544, 'devils': 1229, 'ron': 3734, 'mean': 2779, 'literally': 2622, 'emphasis': 1463, 'former': 1800, 'format': 1799, 'jump': 2429, 'type': 4621, 'yellow': 4981, 'making': 2718, 'died': 1244, 'un': 4630, 'death': 1141, 'cold': 872, 'nights': 3016, 'also': 199, 'loves': 2674, 'forgot': 1796, 'comes': 891, 'ive': 2372, 'heard': 2062, 'talking': 4360, 'certain': 737, 'tv': 4610, 'recently': 3567, 'dramas': 1347, 'lost': 2660, 'heroes': 2089, 'prison': 3401, 'break': 569, 'earned': 1401, 'description': 1197, 'compelling': 916, 'really': 3556, 'wait': 4770, 'days': 1130, 'see': 3855, 'next': 3007, 'episode': 1507, 'either': 1438, 'series': 3890, 'new': 3003, '24': 39, 'due': 1382, 'respect': 3652, 'there': 4438, 'no': 3020, 'thing': 4450, 'reason': 3557, 'silver': 3977, 'screen': 3829, 'thriller': 4472, 'real': 3547, 'structure': 4233, 'thats': 4425, 'apart': 264, 'show': 3953, 'why': 4878, 'practically': 3362, 'entire': 1502, 'season': 3843, 'seven': 3903, 'or': 3124, 'starts': 4159, 'impossible': 2249, 'tune': 4602, 'whose': 4877, 'single': 3996, 'day': 1129, 'trademark': 4548, 'blue': 518, 'having': 2054, 'last': 2521, 'hours': 2177, 'per': 3223, 'running': 3756, 'minutes': 2859, 'remaining': 3610, 'commercials': 903, 'idea': 2213, 'mainstream': 2709, 'television': 4394, 'since': 3990, 'hill': 2108, 'street': 4216, 'blues': 519, 'introduced': 2337, 'non': 3027, 'storytelling': 4209, 'element': 1442, 'nowadays': 3055, 'truly': 4597, 'paid': 3169, 'off': 3084, 'ironically': 2356, 'enough': 1491, 'original': 3129, 'wedding': 4836, 'fortunately': 1805, 'creators': 1044, 'robert': 3713, 'realized': 3553, 'suitable': 4285, 'probably': 3407, 'glimpse': 1919, 'hero': 2088, 'suggests': 4282, 'atmosphere': 333, 'looking': 2648, 'extremely': 1610, 'jack': 2373, 'sutherland': 4333, 'enjoying': 1487, 'game': 1864, 'chess': 783, 'later': 2525, 'being': 448, 'tender': 4401, 'leslie': 2574, 'wife': 4884, 'whom': 4875, 'though': 4461, 'something': 4066, 'unexpected': 4650, 'shocking': 3940, 'behind': 447, 'kim': 2475, 'room': 3735, 'receives': 3565, 'phone': 3255, 'call': 651, 'him': 2110, 'work': 4940, 'immediately': 2242, 'midnight': 2834, 'afraid': 140, 'so': 4046, 'counter': 1011, 'terrorist': 4413, 'unit': 4663, 'agent': 150, 'boss': 546, 'about': 67, 'hit': 2122, 'dennis': 1179, 'african': 142, 'american': 213, 'will': 4886, 'los': 2653, 'angeles': 233, 'whole': 4873, 'oh': 3096, 'california': 650, 'primary': 3394, 'spend': 4105, 'working': 4944, 'unfortunately': 4654, 'ignore': 2224, 'sit': 4003, 'george': 1893, 'been': 438, 'asked': 317, 'operation': 3117, 'very': 4723, 'hard': 2033, 'recommend': 3571, 'short': 3946, 'attention': 345, 'anyone': 259, 'willing': 4889, 'take': 4349, 'look': 2646, 'instantly': 2306, 'writing': 4971, 'sharp': 3922, 'detail': 1217, 'consistently': 954, 'sky': 4017, 'high': 2100, 'mainly': 2708, 'thanks': 4423, 'level': 2584, 'another': 250, 'quality': 3484, 'pilot': 3276, 'characterization': 759, 'genre': 1888, 'sci': 3815, 'fi': 1701, 'tend': 4400, 'simply': 3986, 'introduce': 2336, 'key': 2458, 'players': 3299, 'them': 4432, 'example': 1553, 'where': 4864, 'development': 1225, 'minimal': 2855, 'again': 146, 'matches': 2764, 'unique': 4662, 'style': 4249, 'whereas': 4865, 'debut': 1143, 'offers': 3090, 'rich': 3685, 'fully': 1847, 'people': 3221, 'among': 217, 'best': 469, 'role': 3726, 'revelation': 3674, 'stand': 4143, 'perfectly': 3226, 'described': 1195, 'job': 2405, 'family': 1645, 'integrity': 2311, 'couple': 1016, 'supporting': 4304, 'parts': 3199, 'border': 539, 'stereotype': 4178, 'tony': 4521, 'especially': 1520, 'ought': 3138, 'taken': 4350, 'account': 89, 'theres': 4440, 'much': 2934, 'going': 1931, 'viewers': 4739, 'wont': 4932, 'complain': 919, 'flaw': 1749, 'network': 3000, 'manage': 2722, 'begin': 442, 'missing': 2869, 'teenager': 4390, 'huge': 2185, 'explosion': 1596, 'equally': 1510, 'satisfying': 3791, 'material': 2766, 'rest': 3657, 'were': 4848, 'evening': 1534, 'showing': 3958, 'san': 3780, 'francisco': 1819, 'friend': 1835, 'said': 3774, 'added': 116, 'hip': 2114, 'gangster': 1868, 'doubt': 1332, 'somebody': 4062, 'tell': 4395, 'little': 2624, 'horrible': 2163, 'unpleasant': 4674, 'poorly': 3329, 'earth': 1403, 'berlin': 467, 'london': 2641, 'chicago': 785, 'numerous': 3062, 'smaller': 4034, 'apparently': 270, 'because': 432, 'won': 4925, 'prize': 3405, 'called': 652, 'year': 4978, 'must': 2950, 'theyve': 4446, 'had': 2003, 'better': 472, 'ones': 3108, 'plus': 3311, 'lead': 2545, 'isnt': 2362, 'featured': 1679, 'anywhere': 263, 'close': 853, 'critics': 1064, 'keeps': 2451, 'aimed': 162, 'sometimes': 4067, 'shot': 3949, 'straight': 4210, 'brazil': 568, 'boyfriend': 558, 'neighborhood': 2993, 'teen': 4388, 'aged': 149, 'frequently': 1832, 'hand': 2015, 'held': 2074, 'camera': 659, 'works': 4945, 'genuine': 1891, 'sense': 3877, 'frustration': 1843, 'domestic': 1318, 'desperation': 1210, 'effect': 1428, 'raw': 3532, 'honest': 2146, 'toward': 4539, 'conclusion': 936, 'dead': 1132, 'lives': 2628, 'display': 1291, 'sure': 4308, 'potential': 3355, 'concern': 931, 'men': 2805, 'born': 544, 'christian': 808, 'girlfriend': 1910, 'ugly': 4625, 'digital': 1251, 'talent': 4354, 'mostly': 2910, 'poor': 3328, 'rather': 3528, 'than': 4420, 'village': 4743, 'city': 825, 'wonderful': 4928, 'black': 493, 'problems': 3409, 'partner': 3198, 'drug': 1373, 'problem': 3408, 'experience': 1580, 'plays': 3301, 'blonde': 511, 'ready': 3546, 'might': 2835, 'through': 4477, 'back': 378, 'knows': 2493, 'directed': 1259, 'aside': 315, 'hes': 2093, 'busy': 635, 'thugs': 4484, 'presence': 3373, 'movies': 2927, 'alas': 172, 'theyre': 4445, 'buried': 624, 'web': 4833, 'henry': 2084, 'noted': 3045, 'quotes': 3497, 'shown': 3959, 'filmmaker': 1719, 'seems': 3864, 'chosen': 805, 'cheap': 774, 'wrote': 4974, 'hasnt': 2044, 'creative': 1041, 'use': 4692, 'medium': 2792, 'nor': 3032, 'adds': 119, 'done': 1322, 'anything': 260, 'else': 1448, 'pointed': 3317, 'big': 478, 'mistake': 2871, 'drama': 1346, 'supposed': 4306, 'half': 2007, 'hour': 2176, 'action': 100, 'reveals': 3673, 'father': 1666, 'friends': 1837, 'professional': 3421, 'waiting': 4772, 'thirty': 4456, 'decision': 1151, 'least': 2554, 'waste': 4808, 'kid': 2464, 'whos': 4876, 'gotten': 1947, 'sight': 3969, 'skill': 4013, '2004': 34, 'tried': 4584, 'positive': 3346, 'nonetheless': 3029, 'gave': 1875, 'away': 369, 'lack': 2502, 'redeeming': 3577, 'features': 1680, 'calling': 653, 'performances': 3229, 'easily': 1406, 'feature': 1678, 'yes': 4982, 'given': 1913, 'low': 2676, 'budget': 610, 'violent': 4748, 'devoid': 1230, 'likable': 2598, 'characters': 760, 'result': 3660, 'dark': 1115, 'cynical': 1093, 'human': 2188, 'condition': 937, 'helped': 2080, 'mike': 2838, 'help': 2079, 'matters': 2770, 'meaningless': 2782, 'boredom': 542, 'our': 3139, 'acts': 107, 'violence': 4747, 'tries': 4585, 'finale': 1723, 'adding': 117, 'appear': 273, 'followed': 1773, 'implausible': 2245, 'ironic': 2355, 'scene': 3809, 'gets': 1900, 'married': 2744, 'wanted': 4789, 'evil': 1548, 'class': 833, 'cant': 671, 'sees': 3866, 'alive': 186, 'seen': 3865, 'international': 2326, 'april': 284, '2005': 35, 'james': 2378, 'bond': 532, 'looks': 2649, 'brosnan': 597, 'known': 2492, 'dies': 1245, 'golden': 1934, 'prior': 3400, 'release': 3602, 'frankly': 1823, 'badly': 383, 'miscast': 2862, 'turning': 4608, 'convincing': 985, 'annie': 247, 'grey': 1973, 'love': 2669, 'battle': 414, 'written': 4972, 'perfect': 3224, 'canadian': 667, 'photography': 3260, 'harsh': 2040, 'reality': 3551, 'living': 2629, 'fails': 1628, 'relatively': 3600, 'twenty': 4612, 'old': 3100, 'worked': 4941, 'richard': 3686, 'maybe': 2776, 'makes': 2716, 'vulnerable': 4768, 'wrong': 4973, 'sort': 4077, 'appears': 278, 'picture': 3269, 'fit': 1740, 'walk': 4775, 'forest': 1791, 'sorry': 4076, 'photo': 3257, 'kissing': 2484, 'ups': 4686, 'lived': 2626, 'north': 3036, 'west': 4852, 'stay': 4166, 'sweet': 4336, 'fighting': 1709, 'survival': 4320, 'brings': 587, 'point': 3316, 'period': 3236, 'set': 3898, '1930s': 11, 'put': 3480, 'blame': 499, 'here': 2086, 'largely': 2518, 'script': 3834, 'dramatic': 1348, 'small': 4033, 'details': 1219, 'william': 4887, 'nicholson': 3011, 'screenplay': 3831, 'latest': 2526, 'offering': 3089, 'elizabeth': 1445, 'age': 148, 'opened': 3113, 'ago': 154, 'improvement': 2256, 'read': 3543, 'comments': 901, 'convinced': 984, 'conceived': 929, 'religious': 3608, 'remains': 3611, 'above': 68, 'criticism': 1063, 'politically': 3325, 'correct': 1000, 'stupid': 4247, 'typical': 4623, 'comedy': 890, 'resembles': 3646, 'rush': 3759, 'completely': 922, 'lacks': 2505, 'laughs': 2534, 'chemistry': 782, 'main': 2707, 'enjoy': 1484, 'jay': 2386, 'talk': 4358, 'host': 2173, 'cannot': 670, 'act': 97, 'manages': 2725, 'keep': 2449, 'face': 1616, 'saying': 3800, 'liners': 2611, 'arent': 288, 'funny': 1852, 'seeing': 3857, 'pleasant': 3302, 'addition': 118, 'feeling': 1685, 'pat': 3208, 'todays': 4509, 'standards': 4145, 'impression': 2252, 'japanese': 2382, 'started': 4157, '10': 0, 'happens': 2029, 'end': 1468, 'laugh': 2529, 'pathetic': 3210, 'funniest': 1851, 'harvey': 2042, 'paranoia': 3186, 'loses': 2657, 'judge': 2424, 'massacre': 2754, 'oscars': 3134, 'guy': 2000, 'terry': 4415, 'douglas': 1334, 'adams': 112, 'touch': 4533, 'moves': 2925, 'twilight': 4614, 'zone': 4999, 'bringing': 586, 'fun': 1848, 'dave': 1123, 'andrew': 228, 'explore': 1594, 'environment': 1505, 'enjoyable': 1485, 'heads': 2059, 'biggest': 480, 'surprise': 4312, 'cube': 1076, 'weird': 4841, 'design': 1202, 'place': 3282, 'timeless': 4496, 'somehow': 4063, 'honestly': 2147, 'experienced': 1581, 'meat': 2787, 'felt': 1692, 'line': 2610, 'laughable': 2530, 'dimensional': 1253, 'realism': 3549, 'window': 4894, 'animation': 242, 'four': 1812, 'cover': 1022, 'embarrassed': 1453, 'concept': 930, 'comics': 895, 'reviews': 3679, 'base': 402, 'moved': 2922, 'quickly': 3491, 'someone': 4064, 'situations': 4009, 'needed': 2988, 'built': 618, 'creating': 1039, 'reasons': 3560, 'instead': 2307, 'finding': 1727, 'solution': 4059, 'anime': 243, 'things': 4451, 'develop': 1222, 'lady': 2507, 'scenes': 3811, 'train': 4556, 'become': 433, 'beast': 422, 'hell': 2077, 'moments': 2887, 'weak': 4824, 'woman': 4921, 'suddenly': 4273, 'hatred': 2049, 'existence': 1571, 'millions': 2848, 'absurd': 73, 'presentation': 3375, 'animated': 241, 'desperate': 1208, 'revenge': 3675, 'mind': 2849, 'wanting': 4790, 'mass': 2753, 'skin': 4015, 'grew': 1972, 'chest': 784, 'training': 4558, 'sick': 3963, 'same': 3778, 'random': 3514, 'person': 3238, 'explanation': 1590, 'wasnt': 4807, 'left': 2561, 'incoherent': 2265, 'sad': 3767, 'himself': 2111, 'think': 4452, 'king': 2479, 'survive': 4321, 'voice': 4761, 'represent': 3637, 'image': 2233, 'disney': 1289, 'control': 977, 'semi': 3874, 'lacked': 2503, 'darkness': 1117, 'corrupt': 1001, 'nature': 2975, 'bigger': 479, 'live': 2625, 'dying': 1393, 'die': 1243, 'definitely': 1162, 'consider': 949, 'already': 197, 'got': 1944, 'thinking': 4453, 'ruined': 3751, 'quite': 3495, 'capture': 676, 'notion': 3050, 'soul': 4079, 'solid': 4057, 'cartoon': 704, 'early': 1400, '90s': 61, 'impressive': 2253, 'drawn': 1351, 'america': 212, 'hardcore': 2034, 'challenge': 743, 'imagination': 2236, 'overall': 3150, 'horrendous': 2162, 'head': 2057, 'somewhere': 4069, 'production': 3419, 'long': 2644, 'understand': 4643, 'credit': 1049, 'card': 681, 'developed': 1223, 'holes': 2133, 'nearly': 2981, 'everyone': 1542, 'fell': 1690, 'strength': 4219, 'explained': 1587, 'wasted': 4809, 'warn': 4797, 'find': 1726, 'yourself': 4993, 'state': 4160, 'fact': 1621, '80': 58, 'piece': 3272, 'garbage': 1870, 'blah': 496, 'fifteen': 1706, 'passed': 3202, 'cringe': 1059, 'stage': 4139, 'pure': 3471, 'drivel': 1364, 'delightful': 1168, 'deep': 1154, 'pity': 3281, 'distinct': 1296, 'shallow': 3917, 'travesty': 4570, 'industry': 2280, 'truth': 4599, 'lame': 2510, 'entertain': 1497, 'unfunny': 4655, 'scripted': 3835, 'pace': 3161, 'energy': 1478, 'ms': 2931, 'missed': 2867, 'opportunity': 3121, 'synopsis': 4344, 'watched': 4813, 'challenging': 744, 'brother': 598, 'sister': 4001, 'comic': 893, 'girl': 1909, 'subjects': 4254, 'refreshing': 3586, 'comedic': 888, 'exploration': 1593, 'yet': 4984, 'turn': 4605, 'audience': 352, 'uninspired': 4657, 'clichéd': 845, 'dull': 1384, 'struggling': 4236, 'belief': 451, 'obviously': 3072, 'direction': 1261, 'directorial': 1265, 'molly': 2884, 'particular': 3194, 'towards': 4540, 'embarrassing': 1454, 'lay': 2542, 'sue': 4274, 'hopes': 2159, 'force': 1786, 'veteran': 4724, 'expect': 1575, 'needs': 2990, 'carefully': 689, 'wants': 4791, 'issues': 2365, 'gray': 1963, 'context': 968, 'perhaps': 3235, 'should': 3951, 'know': 2489, 'women': 4923, 'womens': 4924, 'reach': 3536, 'alone': 194, 'whatever': 4859, 'takes': 4351, 'soon': 4074, 'entry': 1504, 'history': 2121, 'speaks': 4096, 'lie': 2590, 'bobby': 525, 'sucks': 4271, 'green': 1971, 'thought': 4462, 'al': 170, 'pacino': 3164, 'acting': 99, 'race': 3499, 'car': 680, 'driver': 1366, 'staring': 4152, 'affair': 135, 'whatsoever': 4861, 'genius': 1887, 'eyes': 1613, 'wide': 4880, 'shut': 3961, 'hardly': 2036, 'save': 3794, 'asking': 318, 'ourselves': 3140, 'remake': 3612, 'ok': 3098, 'prom': 3429, 'average': 362, 'trashy': 4566, 'jamie': 2379, 'curtis': 1087, 'worse': 4951, 'paint': 3173, 'numbers': 3061, 'clearly': 840, 'trying': 4601, 'teens': 4392, 'hence': 2083, 'knife': 2487, 'flick': 1754, 'focusing': 1769, 'attractive': 351, 'killer': 2470, 'creepy': 1052, 'include': 2261, 'snow': 4045, 'superb': 4296, 'gives': 1914, 'handled': 2019, 'hear': 2061, 'attack': 337, 'editing': 1421, 'guessing': 1991, 'remotely': 3623, 'scary': 3807, 'cutting': 1092, 'floor': 1759, 'scare': 3803, 'kids': 2467, 'money': 2888, 'americans': 214, 'number': 3060, 'box': 555, 'office': 3091, 'want': 4788, 'episodes': 1508, 'hollywood': 2137, 'anymore': 258, 'fan': 1648, 'always': 203, 'favorite': 1671, 'actor': 103, 'mine': 2853, 'played': 3297, 'different': 1248, 'philip': 3252, 'decent': 1147, 'matter': 2769, 'report': 3635, 'spielberg': 4110, 'lets': 2580, 'fear': 1676, 'commented': 900, 'awesome': 371, 'start': 4156, 'whether': 4866, 'intended': 2315, 'message': 2819, 'highly': 2105, 'important': 2247, 'future': 1856, 'corny': 997, 'rare': 3523, 'rated': 3527, 'deserves': 1201, 'student': 4238, 'casting': 711, 'understated': 4646, 'triumph': 4590, 'defeat': 1157, 'tragic': 4552, 'forget': 1793, 'beauty': 430, 'alan': 171, 'delivers': 1172, 'totally': 4532, 'lovable': 2668, 'soviet': 4089, 'spy': 4135, 'mother': 2911, 'appreciate': 279, 'havent': 2053, 'viewing': 4740, 'notice': 3048, 'color': 877, 'white': 4870, 'miss': 2866, 'final': 1722, 'symbolism': 4341, 'kurt': 2499, 'cameo': 657, 'near': 2979, 'christmas': 810, 'sound': 4081, 'write': 4967, 'mid': 2832, 'song': 4071, 'getting': 1901, 'heavy': 2070, 'radio': 3504, 'play': 3296, 'driving': 1368, 'nuts': 3064, 'cute': 1090, 'lousy': 2667, 'complete': 921, 'go': 1924, 'fall': 1637, 'found': 1811, 'entertaining': 1499, 'darker': 1116, 'tone': 4517, 'goofy': 1939, 'charlie': 765, 'occurs': 3078, 'light': 2595, 'hearted': 2065, 'comical': 894, 'encounters': 1467, 'desert': 1198, 'chase': 769, 'silly': 3976, 'strangely': 4212, 'engaging': 1481, 'pacing': 3163, 'bland': 500, 'detailed': 1218, 'basic': 406, 'dolls': 1316, 'personalities': 3241, 'arrived': 301, 'speak': 4094, 'attitude': 346, 'van': 4713, 'der': 1191, 'fair': 1630, 'acceptable': 81, 'roles': 3727, 'pops': 3332, 'entertainment': 1500, 'survivors': 4325, 'hanging': 2023, 'onto': 3111, 'nearby': 2980, 'doing': 1312, 'minds': 2852, 'name': 2960, 'credits': 1050, 'cinematic': 818, 'technical': 4381, 'terms': 4406, 'second': 3846, 'seat': 3845, 'visual': 4757, 'ship': 3934, 'singing': 3995, 'inside': 2297, 'house': 2178, 'wooden': 4934, 'emotion': 1458, 'humanity': 2189, 'listening': 2620, 'performer': 3231, 'finish': 1732, 'repetitive': 3633, 'central': 735, 'advance': 127, 'general': 1880, 'interesting': 2325, 'propaganda': 3435, 'showcase': 3954, 'skills': 4014, 'pieces': 3273, 'absolutely': 72, 'scarecrow': 3804, 'brought': 600, 'monsters': 2893, 'everybody': 1540, 'seriously': 3892, 'trash': 4565, 'flying': 1764, 'martial': 2747, 'arts': 310, 'gem': 1877, 'grab': 1949, 'kick': 2460, 'enjoyed': 1486, 'went': 4847, 'purchased': 3470, 'down': 1335, 'smile': 4036, '90': 60, 'minute': 2858, 'fest': 1696, 'possibility': 3349, 'abandoned': 62, 'stinker': 4191, 'filled': 1715, 'horror': 2168, 'flat': 1748, 'fast': 1661, 'questions': 3489, 'idiotic': 2219, 'jokes': 2415, 'judging': 2425, 'creature': 1045, 'effects': 1431, 'renting': 3629, 'turkey': 4604, 'theyll': 4444, 'agree': 155, 'credible': 1048, 'move': 2921, '20th': 38, 'century': 736, 'intent': 2318, 'possibly': 3351, 'england': 1482, 'narrator': 2967, 'tells': 4397, 'flashback': 1746, 'further': 1853, 'worker': 4942, 'behavior': 446, 'stop': 4201, 'named': 2961, 'desire': 1205, 'bugs': 613, 'titled': 4505, 'baby': 376, 'faced': 1617, 'bank': 394, 'rolled': 3729, 'rabbit': 3498, 'hole': 2132, 'dressed': 1358, 'bathroom': 412, 'mirror': 2861, 'mouth': 2920, 'hilarious': 2106, 'interested': 2324, 'youll': 4988, 'classic': 835, 'cartoons': 705, 'boot': 538, 'definition': 1163, 'continue': 969, 'strikes': 4225, 'glenn': 1918, 'music': 2946, 'tonight': 4519, '2006': 36, 'reached': 3537, 'effort': 1432, 'hype': 2207, 'broadcast': 591, 'decided': 1149, 'photos': 3261, 'pictures': 3270, 'graphic': 1958, 'disturbing': 1300, 'neck': 2985, 'related': 3594, 'dropped': 1370, 'dignity': 1252, 'values': 4710, 'access': 83, 'ridiculous': 3693, 'lines': 2612, 'amitabh': 216, 'means': 2783, 'exception': 1557, 'kapoor': 2443, 'mistaken': 2872, 'hate': 2046, 'vs': 4767, 'otherwise': 3137, 'ridiculously': 3694, 'school': 3813, '1960s': 15, 'spoiler': 4123, 'alert': 178, 'government': 1948, 'society': 4050, 'mad': 2696, 'max': 2774, 'yeah': 4977, 'leave': 2555, 'explain': 1586, 'shooting': 3943, 'innocent': 2294, 'mentioned': 2811, 'expression': 1602, 'murder': 2939, 'killing': 2472, 'blow': 514, 'wouldve': 4959, 'greater': 1965, 'authority': 360, 'moral': 2902, 'meaning': 2780, 'fantasy': 1652, 'teachers': 4376, 'power': 3359, 'virginia': 4750, 'deal': 1135, 'guess': 1989, 'youre': 4992, 'juvenile': 2441, 'boring': 543, 'lacking': 2504, 'seemed': 3862, 'rough': 3741, 'couldve': 1009, 'okay': 3099, 'notable': 3041, 'success': 4265, 'superman': 4301, 'released': 3603, 'theaters': 4428, 'initial': 2290, 'appearances': 275, 'clark': 832, 'lane': 2515, 'opening': 3114, 'six': 4010, 'mile': 2842, 'oil': 3097, 'hollow': 2135, 'allowing': 191, 'surface': 4310, 'unlike': 4670, 'invasion': 2340, 'difference': 1246, 'mob': 2879, 'mild': 2839, 'reporter': 3636, 'handle': 2018, 'hospital': 2172, 'bullet': 620, 'storm': 4206, 'third': 4455, 'transition': 4561, 'adventures': 131, 'east': 1407, 'meets': 2795, 'influenced': 2287, 'plant': 3293, 'eighties': 1437, 'rise': 3702, 'western': 4853, 'keaton': 2448, 'ray': 3533, 'forced': 1787, 'pass': 3201, 'dr': 1340, 'tale': 4353, 'following': 1774, 'chuck': 812, 'jones': 2418, 'difficult': 1249, 'interpretation': 2328, 'handed': 2016, 'handful': 2017, 'gags': 1862, 'cash': 709, 'supposedly': 4307, 'carrey': 696, 'top': 4525, 'odds': 3082, 'grinch': 1975, 'karloff': 2445, 'burn': 625, 'method': 2824, 'madness': 2698, 'talented': 4355, 'jeffrey': 2391, 'utterly': 4702, 'universal': 4665, 'offered': 3088, 'caine': 647, 'cat': 713, 'hat': 2045, 'skip': 4016, 'intrigued': 2334, 'sympathy': 4343, 'sinatra': 3989, 'elsewhere': 1449, 'charismatic': 763, 'successful': 4266, 'grave': 1962, 'allows': 192, 'bet': 470, 'army': 295, 'sarah': 3785, 'brown': 601, 'date': 1118, 'cuba': 1075, 'lose': 2654, 'pride': 3391, 'meet': 2793, 'match': 2762, 'meanwhile': 2785, 'suffering': 4277, 'spot': 4131, 'forever': 1792, 'stories': 4205, 'damon': 1101, 'names': 2963, 'late': 2523, 'became': 431, 'musical': 2947, 'form': 1798, 'remarkably': 3614, 'care': 684, 'absolute': 71, 'favourite': 1673, 'singers': 3994, 'brando': 566, 'jean': 2389, 'simmons': 3981, 'putting': 3482, 'pro': 3406, 'produced': 3414, 'surely': 4309, 'forgotten': 1797, 'party': 3200, 'ability': 65, 'influence': 2286, 'passion': 3205, 'plane': 3288, 'home': 2142, 'broadway': 592, 'smooth': 4041, 'necessarily': 2983, 'bound': 553, 'imagine': 2238, 'today': 4508, 'hadnt': 2004, 'pink': 3277, 'hair': 2005, 'drunk': 1375, 'ashamed': 312, 'bar': 396, 'lying': 2690, 'forgive': 1795, '100': 1, 'quiet': 3492, 'describe': 1194, 'opinion': 3118, 'besides': 468, 'heck': 2071, 'service': 3896, 'girls': 1911, 'blew': 505, 'disagree': 1269, 'son': 4070, 'boy': 557, 'hyde': 2206, 'loved': 2670, 'background': 380, 'pretend': 3381, 'carried': 698, 'weight': 4840, 'nine': 3017, 'length': 2569, 'youd': 4987, 'hearing': 2063, 'fans': 1650, 'futuristic': 1857, 'asian': 314, 'sunday': 4293, 'afternoon': 144, 'em': 1452, 'masterpiece': 2759, 'major': 2711, 'spoilers': 4124, 'de': 1131, 'suffers': 4278, 'comparison': 914, 'louise': 2666, 'brooks': 596, 'ways': 4822, 'chance': 747, 'charming': 768, 'french': 1830, 'associated': 327, 'dance': 1103, 'europe': 1529, 'essence': 1521, 'across': 96, 'strongly': 4231, 'becoming': 435, 'fame': 1642, 'favor': 1670, 'mundane': 2938, 'jealous': 2388, 'husband': 2204, 'becomes': 434, 'apparent': 269, 'apartment': 265, 'player': 3298, 'appropriate': 283, 'documentary': 1307, 'headed': 2058, 'elegant': 1441, 'erotic': 1515, 'amount': 219, 'dubbed': 1379, 'claimed': 829, 'discovered': 1280, 'until': 4680, 'sings': 3997, 'beginning': 443, 'express': 1600, 'climax': 849, 'test': 4416, 'views': 4742, 'producers': 3416, 'shape': 3919, 'continues': 971, 'screening': 3830, 'shoots': 3944, 'kills': 2474, 'art': 304, 'watches': 4814, 'sing': 3992, 'weapon': 4828, 'smoking': 4040, 'burned': 626, 'starring': 4154, 'roll': 3728, 'superior': 4300, 'create': 1036, 'cult': 1077, 'dean': 1139, 'dutch': 1389, 'aka': 168, 'arthur': 305, 'nasty': 2968, 'fairly': 1631, 'fictional': 1703, 'facts': 1624, 'versions': 4721, 'included': 2262, 'public': 3460, 'relations': 3596, 'executed': 1565, 'et': 1526, 'far': 1653, 'represents': 3639, 'carrying': 701, 'execution': 1566, 'pay': 3216, 'legs': 2566, 'diamond': 1236, 'mrs': 2930, 'jewish': 2401, 'relief': 3605, 'humorous': 2193, 'personally': 3243, 'kill': 2468, 'rambo': 3511, 'strange': 4211, 'previously': 3388, 'impact': 2244, 'sisters': 4002, 'twins': 4616, 'interaction': 2322, 'language': 2516, 'damn': 1100, 'space': 4090, 'adam': 111, 'sandler': 3781, 'mix': 2876, 'dick': 1239, 'brain': 562, 'cell': 730, 'realize': 3552, 'extra': 1606, 'dollar': 1314, 'id': 2212, 'support': 4303, 'buying': 641, 'ahead': 159, 'mars': 2746, 'planet': 3289, 'entertained': 1498, 'romantic': 3733, 'scientist': 3818, 'resident': 3647, 'billy': 482, 'fake': 1635, 'cool': 989, 'giant': 1905, 'eyed': 1612, 'fly': 1763, 'trap': 4563, 'unforgettable': 4652, 'rat': 3525, 'bat': 410, 'spider': 4109, 'bizarre': 492, 'survivor': 4324, 'drugs': 1374, 'angry': 238, 'picked': 3266, 'sixties': 4011, 'surprised': 4313, 'differences': 1247, 'significant': 3972, 'flawed': 1750, 'mediocre': 2791, 'ten': 4399, 'worthwhile': 4955, 'crime': 1055, 'criminal': 1057, 'caught': 722, 'resulting': 3661, 'trek': 4578, 'except': 1556, 'substance': 4258, 'empty': 1465, 'inappropriate': 2259, 'content': 966, 'sounded': 4082, 'hoping': 2160, 'draw': 1349, 'bits': 490, 'sex': 3907, 'talents': 4356, 'harry': 2039, 'kinds': 2478, 'lisa': 2616, 'wonder': 4926, 'warm': 4794, 'trust': 4598, 'happy': 2032, 'excuse': 1564, 'amateur': 206, 'indie': 2276, 'filmmakers': 1720, 'cinematography': 820, 'picking': 3267, 'lucky': 2683, 'pick': 3265, 'someones': 4065, 'none': 3028, 'writer': 4968, 'impress': 2250, 'buddies': 608, 'directing': 1260, 'brand': 565, 'depressing': 1188, 'advice': 133, 'twice': 4613, 'media': 2789, 'social': 4049, 'commentary': 899, '1980s': 21, 'boom': 537, 'ben': 463, 'richards': 3687, 'leg': 2562, 'highlight': 2103, 'core': 995, 'foot': 1781, 'note': 3044, 'bitter': 491, 'humour': 2194, 'jesse': 2397, 'ask': 316, 'education': 1424, 'value': 4709, 'bloody': 513, 'unless': 4669, 'lovely': 2671, 'quirky': 3493, 'gift': 1906, 'trip': 4588, 'italy': 2368, 'vacation': 4704, 'reminds': 3620, 'open': 3112, 'magic': 2703, 'lawrence': 2539, 'flawless': 1751, 'costumes': 1006, 'fashion': 1659, 'wish': 4904, 'theyd': 4443, 'wearing': 4831, 'tape': 4365, 'settle': 3902, 'generally': 1881, 'unbelievable': 4634, 'warning': 4800, 'lawyer': 2541, 'sake': 3775, 'police': 3322, 'attacked': 338, 'arrested': 298, 'free': 1827, 'locked': 2637, 'drag': 1342, 'halfway': 2008, 'country': 1014, 'protect': 3443, 'bother': 548, 'escaped': 1518, 'mental': 2808, 'patient': 3211, 'summary': 4290, 'unrealistic': 4677, 'hands': 2020, 'comedies': 889, 'starting': 4158, 'blowing': 515, 'awards': 367, 'usual': 4699, 'phony': 3256, 'acted': 98, 'speech': 4102, 'breaks': 571, 'herself': 2092, 'watchable': 4812, 'jr': 2423, 'sally': 3776, 'fields': 1705, 'montana': 2895, 'shines': 3932, 'everywhere': 1545, 'appeared': 276, 'scream': 3826, 'creep': 1051, 'rolling': 3730, 'gifted': 1907, 'field': 1704, '70': 55, 'lifetime': 2594, 'tragedy': 4551, 'week': 4837, 'reminded': 3619, 'hidden': 2096, 'humor': 2192, 'actresses': 106, 'serious': 3891, 'land': 2511, 'carrie': 697, 'fisher': 1739, 'bears': 421, 'lesser': 2576, 'thrown': 4481, 'dragged': 1343, 'price': 3389, 'hold': 2129, 'falls': 1640, 'ex': 1549, 'lover': 2672, 'youve': 4995, 'dvds': 1392, '25': 40, 'hits': 2125, 'exciting': 1563, 'featuring': 1681, 'football': 1783, 'smart': 4035, 'wins': 4899, 'formula': 1802, 'terrific': 4409, 'mary': 2751, 'davies': 1125, 'facial': 1619, 'total': 4531, 'joy': 2422, 'joan': 2404, 'brian': 576, 'ralph': 3510, 'rival': 3706, 'edward': 1426, 'relationship': 3597, 'john': 2409, 'five': 1743, 'shame': 3918, 'appealing': 272, 'cinema': 816, 'chick': 786, 'painful': 3171, 'instance': 2304, 'ladies': 2506, 'ann': 244, 'lord': 2652, 'elderly': 1440, 'bed': 436, 'ridden': 3691, 'spending': 4106, 'grown': 1984, 'daughters': 1122, 'memories': 2803, 'past': 3207, 'calls': 654, 'mans': 2730, 'harris': 2038, 'mothers': 2912, 'urge': 4689, 'recall': 3562, 'mysterious': 2955, 'met': 2822, 'inevitably': 2283, 'serial': 3889, 'struggle': 4234, 'question': 3487, 'exists': 1573, 'importantly': 2248, 'endure': 1475, 'realistic': 3550, 'outcome': 3142, 'subtle': 4260, 'wrestling': 4966, 'spent': 4108, 'deliberately': 1166, 'claire': 831, 'danes': 1108, 'appearing': 277, 'tall': 4362, 'captivating': 675, 'climactic': 848, 'patrick': 3213, 'wilson': 4891, 'streep': 4215, 'fill': 1714, 'minor': 2857, 'negative': 2991, 'hugh': 2186, 'utter': 4701, 'loss': 2659, 'playing': 3300, 'spoiled': 4122, 'puts': 3481, 'front': 1841, 'secretly': 3851, 'scared': 3805, 'offer': 3087, 'orders': 3127, 'stuck': 4237, 'affected': 137, 'catch': 714, 'rental': 3627, 'trade': 4547, 'accompanied': 86, 'itll': 2369, 'secret': 3849, 'cost': 1003, 'stephen': 4176, 'fine': 1729, 'depressed': 1187, 'nice': 3008, 'moving': 2928, 'fred': 1825, 'pet': 3246, 'nowhere': 3056, 'ultimately': 4628, 'louis': 2665, 'rachel': 3500, 'warned': 4798, 'neighbor': 2992, 'thinks': 4454, 'killed': 2469, 'constantly': 958, 'runs': 3757, 'road': 3709, 'truck': 4595, 'changed': 750, 'kings': 2481, 'mr': 2929, 'screenwriter': 3833, 'pointless': 3318, 'premise': 3370, 'tiny': 4500, 'bodies': 526, 'carry': 700, 'ground': 1979, 'deceased': 1146, 'deserve': 1199, 'business': 633, 'unbearable': 4633, 'falling': 1639, 'involving': 2349, 'rating': 3529, 'rocks': 3722, '1st': 28, 'outstanding': 3147, 'scenery': 3810, 'comment': 898, 'helps': 2082, 'storyline': 4208, 'amazed': 208, 'sexy': 3911, 'angel': 231, 'share': 3920, 'theatre': 4429, 'ages': 152, 'cinderella': 815, 'quote': 3496, 'fairy': 1632, 'tales': 4357, 'appeal': 271, 'gas': 1874, 'station': 4164, 'owner': 3159, 'feels': 1687, 'required': 3641, 'africa': 141, 'usually': 4700, 'fox': 1814, 'pulled': 3462, 'risk': 3704, 'werent': 4849, 'filmed': 1717, 'aired': 165, 'hey': 2095, 'mysteries': 2954, 'air': 164, 'ie': 2221, 'vicious': 4728, 'gary': 1873, 'horribly': 2164, 'kate': 2446, 'unintentionally': 4659, 'delivering': 1171, 'urban': 4688, 'abuse': 74, 'tired': 4501, 'lazy': 2543, 'refuses': 3587, 'trained': 4557, 'performers': 3232, 'faces': 1618, 'although': 201, 'queen': 3485, 'fourth': 1813, 'guide': 1993, 'uncomfortable': 4637, 'heaven': 2068, 'learns': 2553, 'myself': 2953, 'chris': 806, 'believable': 453, 'disbelief': 1277, 'journey': 2421, 'despair': 1207, 'travel': 4567, 'search': 3841, 'oscar': 3133, 'winning': 4898, 'crafted': 1029, 'bus': 631, 'boat': 523, 'predictable': 3367, 'common': 906, 'illegal': 2229, 'reasonably': 3559, 'musicals': 2948, '60s': 54, 'memorable': 2802, 'academy': 77, 'award': 366, 'nominated': 3025, 'large': 2517, 'beautifully': 429, 'moody': 2899, 'nancy': 2964, 'oliver': 3102, 'reed': 3580, 'menacing': 2807, 'thankfully': 4422, 'lol': 2640, 'mark': 2739, 'dickens': 1240, 'dozens': 1339, 'dancers': 1105, 'perform': 3227, 'along': 195, 'compelled': 915, 'discussion': 1284, 'pain': 3170, 'montage': 2894, 'fat': 1663, 'foreign': 1790, 'incredibly': 2270, 'junior': 2435, 'atrocious': 335, 'caused': 724, 'ranks': 3519, 'protagonists': 3442, 'uses': 4697, '30': 42, 'confusing': 942, 'dialog': 1232, 'imagery': 2234, 'fail': 1625, 'progress': 3425, 'logical': 2639, 'remember': 3616, 'private': 3404, 'naturally': 2974, 'law': 2538, 'order': 3126, 'provoking': 3452, 'themes': 4434, 'witty': 4917, 'writers': 4969, 'productions': 3420, 'english': 1483, 'learning': 2552, 'seasons': 3844, 'slowly': 4032, 'purpose': 3474, 'laughed': 2532, 'insane': 2296, 'countries': 1013, 'demand': 1174, 'petty': 3249, 'individual': 2277, 'science': 3816, 'minded': 2850, 'campy': 664, 'step': 4175, 'morning': 2906, 'began': 441, 'odd': 3080, 'disneys': 1290, 'south': 4087, 'response': 3654, 'charles': 764, 'barry': 401, 'thomas': 4458, 'attempt': 340, 'bear': 420, 'bakshi': 386, 'efforts': 1433, 'provides': 3450, 'fascinating': 1658, 'tight': 4492, 'sexually': 3910, 'concerning': 933, 'provided': 3449, 'segment': 3867, 'touching': 4536, 'tribute': 4581, 'strip': 4228, 'artist': 307, 'fascinated': 1657, 'washington': 4806, 'aint': 163, 'sunshine': 4294, 'score': 3822, 'depicted': 1183, 'vhs': 4725, 'warner': 4799, 'meant': 2784, 'jackson': 2375, 'novel': 3052, 'haunting': 2051, 'atmospheric': 334, 'terror': 4412, 'supernatural': 4302, 'mansion': 2731, 'staged': 4140, 'stays': 4169, 'closely': 855, '1999': 27, 'cinemas': 817, 'moment': 2886, 'oddly': 3081, 'womans': 4922, 'assistant': 326, 'told': 4513, 'tears': 4380, 'irritating': 2359, 'cheesy': 781, 'dated': 1119, 'hundreds': 2196, 'please': 3304, 'decide': 1148, 'channels': 754, '2000': 30, 'portrayed': 3342, 'bold': 528, 'romance': 3732, 'intrigue': 2333, 'michelle': 2830, 'rarely': 3524, 'pull': 3461, 'recognized': 3570, 'fighter': 1708, 'overcome': 3151, 'projects': 3428, 'overdone': 3152, 'aspect': 321, 'depth': 1190, 'relationships': 3598, 'rage': 3505, 'glad': 1916, 'twist': 4617, 'youth': 4994, 'portraying': 3343, 'eerie': 1427, 'lynch': 2691, 'mill': 2845, 'unfolds': 4651, 'recognize': 3569, 'inevitable': 2282, 'faults': 1669, 'likewise': 2603, 'occasionally': 3075, 'leaves': 2556, 'grasp': 1960, 'sentimental': 3882, 'brad': 560, 'porn': 3336, 'thru': 4483, 'couldnt': 1008, 'hot': 2174, 'dream': 1354, 'quest': 3486, 'mini': 2854, 'dog': 1310, '11': 2, 'saturday': 3792, 'sudden': 4272, 'attacks': 339, 'remain': 3609, 'unknown': 4668, 'ward': 4793, 'aging': 153, 'birds': 485, 'heroine': 2091, 'stretched': 4222, 'murders': 2943, 'sorts': 4078, 'virtually': 4751, 'par': 3184, 'prequel': 3372, 'spin': 4112, 'compared': 912, 'crap': 1031, 'intelligent': 2314, 'basically': 407, 'younger': 4990, 'fix': 1744, 'witch': 4909, 'slave': 4022, 'feet': 1688, 'shocked': 3939, 'gone': 1935, 'interviews': 2330, 'touches': 4535, 'motives': 2916, 'blunt': 520, 'flaws': 1752, 'portrayal': 3341, 'angles': 237, 'follow': 1772, 'rule': 3753, 'court': 1020, 'obsession': 3070, 'slaughter': 4021, 'animal': 239, 'cats': 721, 'dogs': 1311, 'methods': 2825, 'animals': 240, 'victims': 4730, 'cared': 685, 'porno': 3337, 'served': 3894, 'uk': 4626, 'newspaper': 3006, 'seem': 3861, 'reviewers': 3678, 'journalist': 2420, 'experiences': 1582, 'sidney': 3968, 'magazine': 2701, 'york': 4985, 'proceeds': 3411, 'selling': 3873, 'cake': 648, 'obnoxious': 3067, 'issue': 2364, 'simon': 3982, 'jeff': 2390, 'editor': 1423, 'object': 3066, 'regard': 3588, 'sell': 3871, 'ticket': 4487, 'table': 4346, 'variety': 4714, 'anderson': 227, 'danny': 1112, 'loud': 2664, 'caliber': 649, 'involved': 2346, 'leading': 2547, 'intense': 2316, 'cinematographer': 819, 'rex': 3683, '50': 51, 'fault': 1668, 'contemporary': 965, 'hitting': 2126, 'below': 462, 'artistic': 308, 'marketing': 2741, 'mere': 2814, 'sole': 4055, 'sensitive': 3879, 'considered': 951, 'native': 2972, 'provide': 3448, 'brief': 579, 'members': 2801, 'appreciation': 281, 'choose': 799, 'monkey': 2890, 'solely': 4056, 'consists': 955, 'dealing': 1136, 'naked': 2959, 'ears': 1402, 'achieve': 92, 'approach': 282, 'kidding': 2465, '70s': 56, 'follows': 1775, 'popular': 3333, 'comedian': 887, 'add': 115, 'tradition': 4549, 'market': 2740, 'luke': 2687, 'listed': 2618, 'tear': 4379, 'category': 718, 'led': 2558, 'website': 4834, 'fantastic': 1651, 'adaptation': 113, 'novels': 3053, 'sea': 3838, 'reflect': 3584, 'christopher': 811, 'wise': 4903, 'choice': 797, 'nostalgic': 3039, 'older': 3101, 'theater': 4427, 'remind': 3618, 'westerns': 4854, 'irony': 2357, 'walked': 4776, 'hundred': 2195, 'plain': 3286, 'fits': 1741, 'drive': 1363, 'dressing': 1359, 'narration': 2965, 'pleasantly': 3303, 'expectations': 1576, 'considerable': 950, 'pleasure': 3306, 'guns': 1998, 'shoot': 3942, 'cowboy': 1025, 'peoples': 3222, 'gun': 1996, 'admit': 122, 'godfather': 1927, 'opportunities': 3120, 'beyond': 476, 'happened': 2027, 'understood': 4647, 'sold': 4052, 'homage': 2141, 'bettie': 473, 'sub': 4252, 'wow': 4962, 'normal': 3033, 'ludicrous': 2685, 'laughter': 2535, 'maker': 2714, 'expensive': 1579, 'independent': 2272, '12': 3, 'cuts': 1091, 'dude': 1381, 'citizen': 824, 'kane': 2442, 'dollars': 1315, 'tortured': 4530, 'previous': 3387, 'destroyed': 1214, 'destroy': 1213, 'racist': 3503, 'portrays': 3344, 'educational': 1425, 'system': 4345, 'quick': 3490, 'failed': 1626, 'ice': 2210, 'touched': 4534, 'spoke': 4125, 'study': 4242, 'surprisingly': 4316, 'tedious': 4387, 'treatment': 4574, 'opens': 3115, 'crazy': 1035, 'forces': 1788, '40': 48, 'entirely': 1503, 'group': 1980, 'eventually': 1537, 'discover': 1279, 'progresses': 3426, 'racism': 3502, 'stupidity': 4248, 'discovery': 1282, 'russian': 3762, 'detective': 1220, 'serving': 3897, 'hbo': 2055, 'product': 3418, 'fare': 1655, 'australia': 356, 'begins': 444, 'believed': 455, 'press': 3379, 'crack': 1027, 'guilty': 1995, 'evidence': 1546, 'sam': 3777, 'doubts': 1333, 'faith': 1633, 'states': 4163, 'australian': 357, 'sent': 3880, 'familys': 1646, 'heart': 2064, 'breaking': 570, 'soap': 4047, 'finest': 1730, 'delight': 1167, 'gorgeous': 1942, 'installment': 2303, 'elm': 1447, 'sequel': 3885, 'tied': 4489, 'sequels': 3886, 'disappointed': 1273, 'freddy': 1826, 'edge': 1418, 'destroying': 1215, 'maggie': 2702, 'aware': 368, 'finds': 1728, 'secrets': 3852, 'resist': 3648, 'powers': 3361, 'giving': 1915, 'presented': 3376, 'huh': 2187, 'master': 2757, 'nightmares': 3015, 'fallen': 1638, 'travels': 4569, 'doctor': 1304, 'receive': 3563, 'news': 3005, 'pregnant': 3369, 'hunters': 2200, 'hunt': 2198, 'trilogy': 4586, 'originally': 3131, 'planned': 3290, 'masters': 2761, 'universe': 4666, 'standard': 4144, 'glass': 1917, 'shadow': 3912, 'improved': 2255, 'widely': 4881, 'lower': 2677, 'buildings': 616, 'costs': 1004, 'device': 1227, 'iii': 2227, 'extent': 1605, 'victim': 4729, 'arms': 294, 'makeup': 2717, 'chief': 788, 'villain': 4744, 'texas': 4418, 'shock': 3938, 'including': 2264, 'internet': 2327, 'flight': 1757, 'fury': 1855, 'steven': 4182, 'seagal': 3839, 'dreadful': 1353, 'bore': 540, 'load': 2631, '3rd': 47, 'laughably': 2531, 'inept': 2281, 'according': 88, 'imdb': 2240, 'figures': 1713, 'qualities': 3483, 'inventive': 2341, 'reading': 3544, 'eating': 1413, 'clown': 862, 'routine': 3743, 'childish': 791, 'months': 2897, 'channel': 753, 'continued': 970, 'growing': 1983, 'learned': 2551, 'stood': 4199, 'warriors': 4803, 'empire': 1464, 'gain': 1863, 'enemy': 1477, 'resources': 3651, 'managed': 2723, 'technology': 4385, 'fire': 1734, 'survived': 4322, 'sappy': 3784, 'rendition': 3625, 'took': 4523, 'fiction': 1702, 'goal': 1925, 'accomplished': 87, 'failure': 1629, 'unfortunate': 4653, 'moore': 2901, 'decade': 1144, 'conflict': 939, 'bridge': 578, 'crew': 1053, 'enterprise': 1495, 'rules': 3754, 'longer': 2645, 'lessons': 2578, 'gene': 1879, 'created': 1037, 'military': 2844, 'striking': 4226, 'remembered': 3617, 'kirk': 2482, 'wake': 4774, 'everyday': 1541, 'insult': 2309, 'alike': 185, 'cause': 723, 'forgettable': 1794, 'tunes': 4603, 'cameos': 658, 'acid': 95, 'words': 4938, 'sid': 3964, 'marty': 2749, 'offensive': 3086, 'familiar': 1643, 'bored': 541, 'freak': 1824, 'crowd': 1067, 'wonders': 4931, 'link': 2613, 'rape': 3521, 'explosions': 1597, 'images': 2235, 'pushed': 3478, 'limits': 2607, 'parallel': 3185, 'depiction': 1185, 'modern': 2882, 'recent': 3566, 'remote': 3622, 'island': 2361, 'park': 3190, 'rip': 3700, 'clichés': 846, 'scientists': 3819, 'walking': 4779, 'title': 4504, 'cgi': 740, 'computer': 927, 'generated': 1882, 'dinosaurs': 1256, 'downright': 1337, 'gore': 1941, 'unconvincing': 4638, 'heres': 2087, 'borrowed': 545, '2003': 33, 'hunter': 2199, 'cars': 702, 'culture': 1079, 'mindless': 2851, 'chicks': 787, 'count': 1010, 'pop': 3330, 'reference': 3582, 'executive': 1567, 'sir': 4000, '35': 45, 'spike': 4111, 'dolph': 1317, 'flicks': 1755, 'range': 3516, '50s': 52, 'shots': 3950, 'frame': 1815, 'stayed': 4167, 'focus': 1766, 'existent': 1572, 'removed': 3624, 'bring': 585, 'allow': 189, 'references': 3583, 'mst3k': 2932, 'expecting': 1578, 'knowing': 2490, 'intriguing': 2335, 'hook': 2152, 'deaf': 1134, 'con': 928, 'neither': 2996, 'whenever': 4863, 'rubbish': 3748, 'paul': 3214, 'sleazy': 4023, 'hed': 2072, 'direct': 1258, 'pokemon': 3320, 'massive': 2756, 'check': 777, 'track': 4544, 'kevin': 2457, 'stilted': 4190, 'ed': 1415, 'torture': 4529, 'received': 3564, 'historical': 2119, 'vision': 4754, 'college': 875, 'present': 3374, 'subject': 4253, 'books': 536, 'designed': 1203, 'scientific': 3817, 'desperately': 1209, 'bought': 552, 'attempted': 341, 'various': 4715, 'logic': 2638, 'claims': 830, 'understanding': 4645, 'beliefs': 452, 'opposed': 3122, 'september': 3884, 'elements': 1443, 'iran': 2350, 'teacher': 4375, 'struggles': 4235, 'teach': 4374, 'students': 4239, 'france': 1816, 'writes': 4970, 'letter': 2581, 'unaware': 4632, 'soldier': 4053, 'terrorists': 4414, 'places': 3284, 'believes': 456, 'march': 2734, 'bin': 483, 'mexico': 2827, 'sounds': 4084, 'bomb': 531, 'powerful': 3360, 'emotions': 1461, 'sun': 4292, 'wit': 4908, 'grace': 1950, 'thoroughly': 4459, 'drawing': 1350, 'landscapes': 2514, 'wonderfully': 4929, 'tension': 4404, 'dynamic': 1394, 'poignant': 3315, 'hurts': 2203, 'amazingly': 210, 'dancing': 1107, 'fights': 1710, 'beats': 426, 'whoever': 4872, 'losers': 2656, 'accents': 79, 'fired': 1735, 'perspective': 3245, 'vampires': 4712, 'gay': 1876, 'vampire': 4711, 'blood': 512, 'drinking': 1362, 'anna': 245, 'tooth': 4524, 'figure': 1711, 'decides': 1150, 'feelings': 1686, '14': 6, 'hoped': 2156, 'understandable': 4644, 'wasting': 4810, 'june': 2433, 'akshay': 169, 'needless': 2989, 'slapstick': 4019, 'noise': 3024, 'beat': 423, 'manner': 2729, 'extended': 1604, 'requires': 3642, 'dances': 1106, 'initially': 2291, 'ordinary': 3128, 'clips': 852, 'multi': 2935, '45': 50, '60': 53, 'increasingly': 2268, 'tense': 4403, 'gag': 1861, 'downhill': 1336, 'stale': 4141, '15': 7, 'technically': 4382, 'constant': 957, 'songs': 4072, '2nd': 41, 'merely': 2815, 'lots': 2662, 'regular': 3592, 'benefit': 465, 'pool': 3327, 'floating': 1758, 'rings': 3699, 'orange': 3125, 'smoke': 4039, 'franco': 1820, 'arm': 292, 'shortly': 3947, 'halloween': 2010, 'annoyed': 248, 'join': 2412, 'repeated': 3631, 'escapes': 1519, 'psychic': 3456, 'prove': 3445, 'keeping': 2450, 'awfully': 373, 'sitting': 4007, 'resemblance': 3645, 'presumably': 3380, '1983': 22, 'inspiration': 2300, 'blows': 517, 'barbara': 397, 'stanwyck': 4149, 'pre': 3365, 'regret': 3591, 'destruction': 1216, 'welcome': 4842, 'fellow': 1691, 'sophisticated': 4075, 'donald': 1321, 'cook': 988, 'portray': 3340, 'wayne': 4821, 'seconds': 3848, 'soundtrack': 4085, 'davis': 1126, 'st': 4137, 'prime': 3395, 'frank': 1821, 'jimmy': 2403, 'stewart': 4184, 'obsessed': 3069, 'changing': 752, 'mann': 2728, 'traditional': 4550, 'gangsters': 1869, 'fashioned': 1660, 'shelley': 3928, 'winters': 4901, 'questionable': 3488, 'marry': 2745, 'complex': 923, 'unusual': 4681, 'thick': 4447, 'thin': 4449, 'soft': 4051, 'cry': 1073, 'comfortable': 892, 'leader': 2546, 'model': 2880, 'humans': 2190, 'incredible': 2269, 'babe': 375, 'wave': 4818, 'win': 4892, 'accused': 91, 'trouble': 4592, 'trial': 4580, 'holmes': 2139, 'doors': 1329, 'string': 4227, 'edited': 1420, 'famous': 1647, 'flash': 1745, 'double': 1331, 'pg': 3250, '13': 4, 'tiresome': 4502, 'taking': 4352, 'taxi': 4371, 'cameron': 661, 'stole': 4194, 'jessica': 2398, 'fight': 1707, 'dialogues': 1235, 'wing': 4896, 'sitcom': 4004, 'selfish': 3870, 'chooses': 800, 'relatives': 3601, 'jerk': 2395, 'extreme': 1609, 'perfection': 3225, 'dry': 1377, 'gritty': 1977, 'transformation': 4560, 'transfer': 4559, 'personal': 3240, 'plots': 3310, 'rate': 3526, 'similarities': 3979, 'suspect': 4327, 'gentle': 1890, 'exact': 1550, 'opposite': 3123, 'le': 2544, 'simple': 3983, 'political': 3324, 'indian': 2274, 'happily': 2030, 'canada': 666, 'india': 2273, 'visit': 4755, 'husbands': 2205, 'spirited': 4114, 'twists': 4619, 'beaten': 424, 'surreal': 4317, 'spectacular': 4101, 'bollywood': 530, 'genres': 1889, 'gratuitous': 1961, 'throwing': 4480, 'trick': 4582, 'inspiring': 2302, 'thoughts': 4464, 'disappointing': 1274, 'assumed': 329, 'snl': 4044, 'crude': 1069, 'strictly': 4223, 'amateurish': 207, 'curious': 1083, 'checking': 778, 'underrated': 4642, 'mixed': 2877, 'vehicle': 4718, 'bob': 524, 'appearance': 274, 'titanic': 4503, 'burt': 629, 'rocky': 3723, 'dust': 1388, 'section': 3853, 'store': 4204, 'retired': 3664, 'essentially': 1523, 'bottle': 550, 'grant': 1956, 'doom': 1326, 'nobody': 3022, 'competent': 917, 'complaint': 920, 'solve': 4060, 'bbc': 417, 'anyways': 262, 'normally': 3034, 'toy': 4542, 'toys': 4543, 'andy': 230, 'rescue': 3643, 'ensues': 1493, 'greedy': 1969, 'monster': 2892, 'lonely': 2643, 'friendly': 1836, 'leonard': 2572, 'mood': 2898, 'reunion': 3669, 'mate': 2765, 'brothers': 599, 'claim': 828, 'clothing': 861, 'stretch': 4221, 'shower': 3957, 'drags': 1345, 'comparing': 913, 'letting': 2583, 'effective': 1429, 'photographer': 3259, 'agrees': 157, 'killers': 2471, 'coffee': 870, 'luck': 2681, 'pitt': 3280, 'lewis': 2586, 'cross': 1066, 'genuinely': 1892, 'sucked': 4270, 'plight': 3308, 'sinister': 3998, 'recognition': 3568, 'status': 4165, 'luckily': 2682, 'reveal': 3670, 'forty': 1807, 'hated': 2047, 'reminiscent': 3621, 'inspector': 2299, 'gadget': 1860, 'clumsy': 866, 'slick': 4026, 'excited': 1561, 'retarded': 3663, 'relies': 3606, 'push': 3477, 'preview': 3386, 'intelligence': 2313, 'iron': 2354, 'holy': 2140, 'sat': 3786, 'spare': 4093, 'drives': 1367, 'silent': 3975, 'greatest': 1966, 'devil': 1228, 'la': 2500, 'despite': 1211, 'nude': 3058, 'courage': 1018, 'vote': 4766, 'scenario': 3808, 'errors': 1516, 'rights': 3697, 'trail': 4553, 'weapons': 4829, 'endless': 1473, 'switch': 4339, 'door': 1328, 'games': 1865, 'club': 863, 'area': 286, 'armed': 293, 'machine': 2693, 'gory': 1943, 'splatter': 4118, 'walls': 4783, 'painted': 3174, 'rocket': 3721, 'possibilities': 3348, 'treasure': 4571, 'partly': 3197, 'moon': 2900, 'information': 2288, 'accurate': 90, 'wondering': 4930, 'sadly': 3769, 'joke': 2414, 'loads': 2633, 'ease': 1404, 'weakest': 4825, 'till': 4493, 'pulling': 3463, 'dubbing': 1380, 'matched': 2763, 'properly': 3437, 'randomly': 3515, 'pages': 3168, 'failing': 1627, 'eg': 1434, 'delivered': 1170, 'punch': 3466, 'ham': 2011, 'pitch': 3279, 'wished': 4905, 'indeed': 2271, 'convince': 983, 'gross': 1978, 'embarrassment': 1455, 'showdown': 3955, 'send': 3875, 'deliver': 1169, 'thousands': 4466, 'literature': 2623, 'severe': 3906, 'damage': 1099, 'clever': 841, 'ethan': 1528, 'cooper': 990, 'notes': 3046, 'review': 3676, 'unhappy': 4656, 'happiness': 2031, 'stands': 4147, 'noir': 3023, 'visuals': 4759, 'sin': 3988, 'bleak': 503, 'aforementioned': 139, 'simplistic': 3985, 'justice': 2438, 'experiment': 1583, 'neo': 2998, 'serve': 3893, 'fitting': 1742, 'translation': 4562, 'frequent': 1831, 'thrillers': 4473, 'throws': 4482, 'stunning': 4244, 'superbly': 4297, 'stylish': 4251, 'tremendous': 4579, 'shadows': 3913, 'emotional': 1459, 'miller': 2846, 'visually': 4758, 'daniel': 1111, 'craig': 1030, 'grim': 1974, 'catherine': 719, 'jonathan': 2417, 'occasional': 3074, 'carries': 699, 'slightly': 4029, 'conventional': 979, 'circumstances': 822, 'testament': 4417, 'sean': 3840, 'slight': 4027, 'southern': 4088, 'cop': 991, 'repeatedly': 3632, 'liberal': 2588, 'stereotypes': 4179, 'cops': 993, 'sadistic': 3768, 'witnesses': 4916, 'blacks': 494, 'grandmother': 1955, 'defend': 1158, 'blair': 497, 'row': 3744, 'beating': 425, 'overacting': 3149, 'psychotic': 3459, 'psycho': 3457, 'guilt': 1994, 'return': 3665, 'legal': 2563, 'criminals': 1058, 'rotten': 3740, 'types': 4622, 'thumbs': 4485, 'blockbuster': 509, 'copies': 992, 'idiots': 2220, 'turned': 4606, 'super': 4295, 'gerard': 1895, 'butler': 637, 'disappointment': 1275, 'regarding': 3589, 'stinks': 4192, 'colonel': 876, 'nevertheless': 3002, 'mentioning': 2812, 'zero': 4996, 'judy': 2426, 'singer': 3993, 'desired': 1206, 'paced': 3162, 'nudity': 3059, 'foul': 1810, 'natural': 2973, 'marks': 2742, 'deeply': 1156, 'freedom': 1828, 'identity': 2217, 'chilling': 794, 'remarkable': 3613, 'duo': 1386, 'baseball': 403, 'pretentious': 3383, 'packed': 3166, 'dig': 1250, 'succeed': 4262, 'satisfied': 3789, 'subplot': 4255, 'attraction': 350, 'designs': 1204, 'breathtaking': 574, 'metal': 2823, 'painfully': 3172, 'immensely': 2243, 'proves': 3447, 'kicking': 2462, 'beach': 419, 'hood': 2151, 'dreams': 1355, 'cable': 644, 'seventies': 3904, 'competition': 918, 'awkward': 374, 'ruin': 3750, 'attached': 336, 'clean': 838, 'throw': 4479, 'stock': 4193, 'footage': 1782, 'italian': 2367, 'cannibal': 669, 'navy': 2976, 'statement': 4162, 'dirty': 1268, 'stomach': 4196, 'assume': 328, 'sign': 3970, 'stan': 4142, 'laurel': 2537, 'hardy': 2037, 'professor': 3422, 'arrive': 300, 'mistakes': 2873, 'pushing': 3479, 'loaded': 2632, 'wall': 4781, 'standing': 4146, 'asks': 319, 'covered': 1023, 'mess': 2818, 'holds': 2131, 'bag': 384, 'painting': 3175, 'drop': 1369, 'water': 4816, 'ape': 266, 'ratings': 3530, 'bourne': 554, 'furthermore': 1854, 'nicely': 3009, 'motion': 2913, 'achievement': 94, 'smiling': 4037, 'ride': 3692, 'altogether': 202, 'compare': 911, 'advantage': 129, 'originality': 3130, 'fx': 1858, 'combine': 884, 'burns': 628, 'charm': 767, '40s': 49, 'starred': 4153, 'protagonist': 3441, 'trite': 4589, 'whats': 4860, 'movement': 2923, 'reasonable': 3558, 'enjoyment': 1488, 'creates': 1038, 'jenny': 2393, 'childhood': 790, 'emotionally': 1460, 'summer': 4291, 'farm': 1656, 'limited': 2606, 'poetic': 3313, 'cousin': 1021, 'shark': 3921, 'chaos': 755, 'naive': 2958, 'successfully': 4267, 'gang': 1867, 'wrapped': 4964, 'dealt': 1138, 'tricks': 4583, 'contains': 964, 'cultural': 1078, 'groups': 1981, 'chinese': 796, 'descent': 1193, 'amusing': 221, 'separate': 3883, 'levels': 2585, 'suppose': 4305, 'praise': 3364, 'melodramatic': 2798, 'affect': 136, 'subtitles': 4259, 'alongside': 196, 'ego': 1435, 'buddy': 609, 'holly': 2136, 'pig': 3274, 'closest': 857, 'belongs': 460, 'underground': 4640, 'motivations': 2915, 'insulting': 2310, 'hiding': 2099, 'costume': 1005, 'wondered': 4927, 'hills': 2109, 'mtv': 2933, 'contrived': 976, 'hotel': 2175, 'discovers': 1281, 'witnessed': 4915, 'alex': 179, 'macy': 2695, 'vaguely': 4706, 'lesbian': 2573, 'wears': 4832, 'mask': 2752, 'spooky': 4128, 'lovers': 2673, 'crash': 1033, 'incomprehensible': 2267, 'spanish': 4092, 'bedroom': 437, 'belong': 459, 'pan': 3180, 'print': 3399, 'werewolf': 4850, 'wolf': 4920, 'shirt': 3937, 'continuity': 972, 'piano': 3264, 'recorded': 3574, 'solo': 4058, 'inducing': 2279, 'dropping': 1371, 'rank': 3518, 'choices': 798, 'aliens': 184, 'conflicts': 940, 'primarily': 3393, 'explored': 1595, 'highlights': 2104, 'listen': 2619, 'text': 4419, 'enter': 1494, 'donna': 1323, 'knock': 2488, 'directions': 1262, 'georges': 1894, 'bath': 411, 'exposure': 1599, 'eat': 1411, 'extraordinary': 1607, 'blond': 510, 'gotta': 1946, 'mighty': 2836, 'pair': 3176, 'delivery': 1173, 'food': 1778, 'jumping': 2431, 'kitchen': 2485, 'tie': 4488, 'slap': 4018, 'dress': 1357, 'shy': 3962, 'location': 2635, '1970s': 17, 'lyrics': 2692, 'catchy': 717, 'dad': 1095, 'lesson': 2577, 'marriage': 2743, 'ingredients': 2289, 'bumbling': 622, 'villains': 4745, 'choreography': 802, 'props': 3439, 'don': 1320, 'results': 3662, 'clues': 865, 'expert': 1585, 'medical': 2790, 'spoken': 4126, 'recommended': 3572, 'worthless': 4954, 'promising': 3433, 'promise': 3430, 'angels': 234, 'homeless': 2143, 'tom': 4514, 'dawn': 1127, 'treats': 4575, 'cares': 690, 'distribution': 1298, 'reputation': 3640, 'breasts': 572, 'apes': 267, 'eastern': 1408, 'european': 1530, 'band': 391, 'cheese': 780, 'bucks': 606, 'worthy': 4956, 'adult': 125, 'dare': 1113, 'mission': 2870, 'thank': 4421, 'surrounded': 4318, 'yelling': 4980, 'nick': 3012, 'mom': 2885, 'committed': 905, 'commit': 904, 'china': 795, 'property': 3438, 'builds': 617, 'dangerous': 1110, 'pulls': 3464, 'johnny': 2410, 'jason': 2383, 'beloved': 461, 'newly': 3004, 'develops': 1226, 'tongue': 4518, 'stolen': 4195, 'nail': 2957, 'colors': 879, 'build': 614, 'foster': 1809, 'river': 3707, 'paying': 3217, '20': 29, 'performing': 3233, 'highest': 2102, 'lowest': 2678, 'idiot': 2218, 'degree': 1164, 'safe': 3771, 'impressed': 2251, 'capturing': 679, 'aunt': 355, 'household': 2179, 'relative': 3599, '1940s': 13, 'determined': 1221, 'combination': 883, 'miracle': 2860, 'authentic': 358, 'event': 1535, 'ghost': 1902, 'frightening': 1839, 'era': 1513, 'landing': 2512, 'causes': 725, 'tim': 4494, 'showed': 3956, 'unable': 4631, 'inane': 2258, 'dumb': 1385, 'martin': 2748, 'pamela': 3179, 'shell': 3927, 'hello': 2078, 'lou': 2663, 'ii': 2226, 'hamilton': 2012, 'cheating': 776, 'steve': 4181, 'bud': 607, 'accept': 80, 'lit': 2621, 'catches': 715, 'principal': 3398, 'teenage': 4389, 'justin': 2440, 'dating': 1120, 'carpenter': 694, 'wendy': 4846, 'planning': 3291, 'priest': 3392, 'schools': 3814, 'basement': 405, 'spirit': 4113, 'suicide': 4283, 'draws': 1352, 'kelly': 2452, 'connection': 946, '1980': 20, 'bruce': 602, 'possessed': 3347, 'picks': 3268, 'hide': 2097, 'zombie': 4997, 'maintain': 2710, 'specifically': 4100, 'wizard': 4919, 'sports': 4130, 'available': 361, 'placed': 3283, 'tree': 4576, 'screaming': 3827, 'kicks': 2463, 'kidnapped': 2466, 'shouldnt': 3952, 'jake': 2377, 'speed': 4103, 'bite': 489, 'stone': 4197, 'disc': 1278, 'collection': 874, 'accident': 84, 'nuclear': 3057, 'community': 908, 'site': 4005, 'trapped': 4564, 'zombies': 4998, 'gruesome': 1986, 'uneven': 4649, 'shine': 3931, 'todd': 4510, 'proud': 3444, 'humble': 2191, 'learn': 2550, 'tons': 4520, 'grand': 1953, 'folks': 1771, 'succeeded': 4263, 'johnson': 2411, 'nose': 3037, 'viewed': 4737, 'cruise': 1071, 'size': 4012, 'paper': 3183, 'unoriginal': 4673, 'center': 732, 'national': 2970, 'deadly': 1133, 'joe': 2407, 'blob': 507, 'eaten': 1412, 'arnold': 296, 'specific': 4099, 'nation': 2969, 'lone': 2642, 'team': 4378, 'loosely': 2651, 'ideas': 2215, 'jumps': 2432, 'guessed': 1990, 'company': 910, 'global': 1920, 'useless': 4695, 'online': 3109, 'block': 508, 'target': 4366, 'connected': 945, 'agents': 151, 'contain': 962, 'searching': 3842, 'airport': 167, 'stealing': 4171, 'worried': 4949, 'laws': 2540, 'ran': 3513, 'whilst': 4869, 'reads': 3545, 'lips': 2615, 'replaced': 3634, 'project': 3427, 'unlikely': 4671, 'contained': 963, 'president': 3378, 'staff': 4138, 'blown': 516, 'screams': 3828, 'shed': 3924, 'repeat': 3630, 'rob': 3710, 'avoided': 364, '1972': 18, 'wives': 4918, 'taught': 4370, 'arrives': 302, 'commercial': 902, 'round': 3742, 'passing': 3204, 'lumet': 2688, 'atlantis': 332, 'hooked': 2153, 'blend': 504, 'fresh': 1833, 'stargate': 4151, '2007': 37, 'tiger': 4491, 'dragon': 1344, 'succeeds': 4264, 'ghosts': 1903, 'morgan': 2905, 'ginger': 1908, 'rogers': 3725, 'ted': 4386, 'building': 615, 'guest': 1992, 'closing': 859, 'wrap': 4963, '1933': 12, 'emma': 1457, 'roberts': 3714, 'drew': 1360, 'clothes': 860, 'messages': 2820, 'persons': 3244, 'proved': 3446, 'revealing': 3672, 'poster': 3353, 'stated': 4161, 'aid': 160, 'duke': 1383, 'mechanical': 2788, 'assault': 324, 'superficial': 4298, 'timing': 4498, 'ha': 2002, 'airplane': 166, 'eddie': 1416, 'taste': 4369, 'thrills': 4475, 'gandhi': 1866, 'photographed': 3258, '30s': 44, 'nations': 2971, 'portrait': 3339, 'raised': 3508, 'disappeared': 1271, 'woods': 4935, 'admittedly': 123, 'swimming': 4338, 'health': 2060, 'sons': 4073, 'reaction': 3541, 'sleeping': 4025, 'classes': 834, 'satisfy': 3790, 'noticed': 3049, 'clue': 864, 'doctors': 1305, 'sympathetic': 4342, 'waited': 4771, 'deserved': 1200, 'blind': 506, 'upset': 4687, 'deaths': 1142, 'weekend': 4838, 'faithful': 1634, 'rain': 3506, 'mgm': 2828, 'studio': 4240, 'tour': 4538, 'studios': 4241, 'suit': 4284, 'audiences': 353, 'necessary': 2984, 'opera': 3116, 'practice': 3363, 'strike': 4224, 'susan': 4326, 'ambitious': 211, 'colour': 880, 'occasion': 3073, 'jerry': 2396, 'mouse': 2919, 'astaire': 330, 'square': 4136, 'crimes': 1056, 'britain': 588, 'fond': 1776, 'bible': 477, 'purple': 3473, 'pot': 3354, 'mayor': 2777, 'antics': 255, 'chasing': 772, 'peace': 3219, 'steal': 4170, 'hired': 2117, 'finished': 1733, 'bell': 458, 'witches': 4910, 'stellar': 4174, 'circle': 821, 'chances': 748, 'magical': 2704, 'spell': 4104, 'areas': 287, 'legendary': 2565, 'howard': 2182, 'lemmon': 2567, 'changes': 751, 'composed': 926, 'crisis': 1060, 'realizes': 3554, 'satire': 3788, 'losing': 2658, 'museum': 2945, 'ties': 4490, 'controversial': 978, 'diana': 1237, 'security': 3854, 'bullets': 621, 'junk': 2436, 'precious': 3366, 'hopefully': 2157, 'fabulous': 1615, 'warming': 4795, 'robinson': 3716, 'cd': 728, 'breath': 573, 'signs': 3973, 'talks': 4361, 'tommy': 4516, 'tarzan': 4367, 'rubber': 3747, 'list': 2617, 'includes': 2263, 'kay': 2447, 'creation': 1040, 'swedish': 4335, 'individuals': 2278, 'gabriel': 1859, 'convoluted': 987, 'glory': 1922, 'spain': 4091, 'disgusting': 1286, 'handsome': 2021, 'clint': 850, 'walker': 4778, 'territory': 4411, 'jail': 2376, 'mexican': 2826, 'visits': 4756, 'population': 3335, 'indians': 2275, 'weeks': 4839, 'deeper': 1155, 'dislike': 1288, 'carl': 692, 'vegas': 4717, 'agreed': 156, 'source': 4086, 'purchase': 3469, '1990': 24, 'devoted': 1231, 'likes': 2602, 'titles': 4506, 'twelve': 4611, 'conservative': 948, 'columbo': 881, 'scripts': 3836, 'alright': 198, 'heights': 2073, 'myers': 2952, 'matthew': 2772, 'tap': 4364, '1984': 23, 'exaggerated': 1552, 'involve': 2345, 'crucial': 1068, 'drops': 1372, 'surprising': 4315, 'notch': 3043, 'craft': 1028, 'author': 359, 'gold': 1932, 'thousand': 4465, 'miles': 2843, 'nonsense': 3030, 'laid': 2508, 'wood': 4933, 'notorious': 3051, 'pack': 3165, 'mildly': 2840, 'smith': 4038, 'confidence': 938, 'equipment': 1511, 'yesterday': 4983, 'swear': 4334, 'accepted': 82, 'anybody': 257, 'knowledge': 2491, 'passes': 3203, 'hollywoods': 2138, 'twisted': 4618, 'miserable': 2863, 'amongst': 218, 'matthau': 2771, 'eight': 1436, 'divorce': 1301, 'sloppy': 4030, 'felix': 1689, 'threw': 4470, 'wreck': 4965, 'neil': 2995, 'board': 522, 'beer': 439, 'roman': 3731, 'manhattan': 2726, 'shining': 3933, 'balance': 387, 'warmth': 4796, 'underlying': 4641, 'laura': 2536, 'directs': 1267, 'andrews': 229, 'everyones': 1543, 'streets': 4217, 'department': 1182, 'doll': 1313, 'troubled': 4593, 'accidentally': 85, 'covers': 1024, 'actions': 101, 'thoughtful': 4463, 'haunted': 2050, 'expressed': 1601, 'anger': 235, 'burning': 627, 'restaurant': 3658, 'brutal': 603, 'waitress': 4773, 'silence': 3974, 'goodness': 1938, 'ideal': 2214, 'roots': 3738, 'consequences': 947, 'marvelous': 2750, 'ships': 3935, 'rangers': 3517, 'plastic': 3294, 'fed': 1682, 'teenagers': 4391, 'cardboard': 682, 'spoil': 4121, 'million': 2847, 'infamous': 2284, 'lees': 2560, 'buck': 605, 'worry': 4950, 'wed': 4835, 'alcohol': 176, 'sink': 3999, 'distance': 1294, 'easier': 1405, 'drink': 1361, 'intentionally': 2320, 'poetry': 3314, 'profound': 3423, 'scottish': 3825, 'jobs': 2406, 'mistress': 2874, 'cheated': 775, 'useful': 4694, 'lies': 2591, 'rooms': 3736, 'pants': 3182, 'lifestyle': 2593, 'documentaries': 1306, 'returns': 3668, 'techniques': 4384, 'argue': 290, 'briefly': 580, 'seeking': 3859, 'olivier': 3103, 'finger': 1731, 'horrid': 2165, 'garbo': 1871, 'julie': 2428, 'charlotte': 766, 'julia': 2427, 'popcorn': 3331, 'winter': 4900, 'dentist': 1180, 'birth': 486, 'broken': 594, 'brutally': 604, 'closer': 856, 'dinner': 1254, 'stranger': 4213, 'torn': 4528, 'teeth': 4393, 'seemingly': 3863, 'confused': 941, 'classics': 837, 'cliché': 844, 'proceedings': 3410, 'resort': 3650, 'fish': 1738, 'species': 4098, 'exceptional': 1558, 'displays': 1293, 'hammer': 2014, 'terrifying': 4410, 'undoubtedly': 4648, 'hall': 2009, 'murderous': 2942, 'innovative': 2295, 'settings': 3901, 'houses': 2180, 'credibility': 1047, 'murderer': 2941, 'suggested': 4281, 'nurse': 3063, 'saves': 3796, 'heroic': 2090, 'brains': 563, 'parody': 3192, 'kennedy': 2454, 'tag': 4348, 'guts': 1999, 'crush': 1072, 'paris': 3189, 'turner': 4607, 'talked': 4359, 'rebel': 3561, 'perry': 3237, 'shakespeare': 3915, 'raped': 3522, 'redemption': 3578, 'generous': 1886, 'cleverly': 842, 'relate': 3593, 'respected': 3653, 'hal': 2006, 'personality': 3242, 'empathy': 1462, 'purely': 3472, 'homosexual': 2145, 'promises': 3432, 'rick': 3689, 'evident': 1547, 'stops': 4203, 'seek': 3858, 'lights': 2597, 'crappy': 1032, 'franchise': 1817, 'omen': 3104, 'thrill': 4471, 'raymond': 3534, 'cage': 645, 'thief': 4448, 'timothy': 4499, 'honor': 2150, 'spite': 4117, 'introduction': 2339, 'sheer': 3925, 'chases': 771, 'passionate': 3206, 'pleased': 3305, 'artists': 309, 'concert': 935, 'paltrow': 3178, 'brave': 567, 'funeral': 1849, 'winner': 4897, 'stopped': 4202, 'twin': 4615, 'loyal': 2679, 'mafia': 2700, 'treat': 4572, 'voices': 4763, 'godzilla': 1929, 'bay': 416, 'corpse': 999, 'warrior': 4802, 'captain': 674, 'assigned': 325, 'reaches': 3538, 'investigate': 2342, 'carter': 703, 'intention': 2319, 'illogical': 2231, 'decisions': 1152, 'scale': 3802, 'saving': 3797, 'kudos': 2497, 'germany': 1898, 'distant': 1295, 'japan': 2381, 'usa': 4691, 'union': 4661, '16': 8, 'lugosi': 2686, 'magnificent': 2705, 'concerns': 934, 'bette': 471, 'cruel': 1070, 'rose': 3739, 'parker': 3191, 'ken': 2453, 'buffs': 612, 'pie': 3271, 'catching': 716, 'margaret': 2735, 'oz': 3160, 'psychological': 3458, 'holiday': 2134, 'research': 3644, 'santa': 3783, 'factory': 1623, 'responsibility': 3655, 'eve': 1532, 'presents': 3377, 'punishment': 3467, 'daddy': 1096, 'eccentric': 1414, 'outrageous': 3145, 'unsettling': 4679, 'demented': 1176, 'wannabe': 4787, 'depression': 1189, 'companion': 909, 'friendship': 1838, 'ruins': 3752, 'whale': 4857, 'dire': 1257, 'ripped': 3701, 'plausible': 3295, 'vietnam': 4735, 'defense': 1159, 'mountains': 2918, 'granted': 1957, 'multiple': 2936, 'expressions': 1603, 'viewings': 4741, 'emily': 1456, 'traveling': 4568, 'exotic': 1574, 'betty': 474, 'alfred': 181, 'hitchcock': 2123, 'prepared': 3371, 'dedicated': 1153, 'abusive': 75, 'dozen': 1338, 'backdrop': 379, 'fool': 1779, 'decades': 1145, 'suggest': 4280, 'eva': 1531, 'returning': 3667, 'lake': 2509, 'misses': 2868, 'fortune': 1806, 'trio': 4587, '75': 57, 'achieved': 93, 'daring': 1114, 'restored': 3659, 'sides': 3967, 'landscape': 2513, 'disaster': 1276, 'shelf': 3926, 'taylor': 4372, 'hong': 2149, 'kong': 2494, 'prostitute': 3440, 'endearing': 1469, 'vice': 4727, 'secretary': 3850, 'helen': 2075, 'polished': 3323, 'locations': 2636, 'wear': 4830, 'meeting': 2794, 'christ': 807, '1950s': 14, 'alternate': 200, 'steps': 4177, 'glover': 1923, 'appalling': 268, 'giallo': 1904, 'grows': 1985, 'sexual': 3908, 'gradually': 1952, 'valley': 4707, 'portion': 3338, 'instant': 2305, 'captures': 678, 'elvis': 1451, 'colorful': 878, 'anne': 246, 'burton': 630, 'kinda': 2477, 'clip': 851, 'rap': 3520, 'identify': 2216, 'explains': 1589, 'loser': 2655, 'butt': 638, 'path': 3209, 'reduced': 3579, 'flow': 1762, 'manager': 2724, 'forth': 1804, 'suffered': 4276, 'hop': 2154, 'exist': 1569, 'hanks': 2025, 'overrated': 3156, 'caring': 691, 'simplicity': 3984, 'prevent': 3385, 'serves': 3895, 'spots': 4132, 'merits': 2817, 'opinions': 3119, 'hints': 2113, 'bird': 484, 'intellectual': 2312, 'lately': 2524, 'instinct': 2308, 'segments': 3868, 'confusion': 943, 'pays': 3218, 'fay': 1674, 'bare': 398, 'returned': 3666, 'merit': 2816, 'spirits': 4115, 'noble': 3021, 'subtlety': 4261, 'jeremy': 2394, 'bride': 577, 'tends': 4402, 'subplots': 4256, '1968': 16, 'shall': 3916, 'prince': 3396, 'movements': 2924, 'behave': 445, 'user': 4696, 'joined': 2413, 'attempting': 342, 'exceptionally': 1559, 'versus': 4722, 'enemies': 1476, 'treated': 4573, 'careers': 687, 'allowed': 190, 'mickey': 2831, 'roger': 3724, 'dancer': 1104, 'creativity': 1042, 'contract': 973, 'classical': 836, 'brooklyn': 595, 'unreal': 4676, 'quit': 3494, 'philosophy': 3254, 'goldberg': 1933, 'hideous': 2098, 'duty': 1390, 'raise': 3507, 'videos': 4734, 'disease': 1285, 'directly': 1263, 'mentally': 2809, 'norman': 3035, 'combined': 885, 'allen': 188, '2002': 32, 'signed': 3971, 'abysmal': 76, 'ireland': 2352, 'arrival': 299, 'definite': 1161, 'amounts': 220, 'countless': 1012, 'scares': 3806, 'via': 4726, 'honesty': 2148, 'wes': 4851, 'produce': 3413, 'performed': 3230, 'choreographed': 801, 'constructed': 959, 'critical': 1062, 'explicit': 1591, 'ensemble': 1492, 'wells': 4845, 'chapter': 757, 'machines': 2694, 'saved': 3795, 'larger': 2519, 'larry': 2520, 'ya': 4976, 'nelson': 2997, 'marie': 2737, 'misery': 2865, 'complicated': 925, 'matrix': 2767, 'mixture': 2878, 'causing': 726, 'pile': 3275, 'models': 2881, 'gods': 1928, 'tracks': 4545, 'excessive': 1560, 'incident': 2260, 'displayed': 1292, 'niro': 3019, 'equivalent': 1512, 'position': 3345, 'reel': 3581, 'financial': 1725, 'physically': 3263, 'fears': 1677, 'demons': 1178, 'wishing': 4907, 'purposes': 3475, 'woody': 4936, 'muslim': 2949, 'religion': 3607, 'map': 2733, 'bacall': 377, 'revolutionary': 3681, 'gordon': 1940, 'sends': 3876, 'rented': 3628, 'sentence': 3881, 'senseless': 3878, 'saga': 3773, 'epic': 1506, 'convincingly': 986, 'overlook': 3153, 'masterful': 2758, 'resolution': 3649, 'generation': 1883, 'uwe': 4703, 'boll': 529, 'nonsensical': 3031, 'ultra': 4629, 'shop': 3945, 'plans': 3292, 'sadness': 3770, 'overlooked': 3154, 'strangers': 4214, 'encounter': 1466, 'freeman': 1829, 'driven': 1365, 'bargain': 400, 'construction': 960, 'alexander': 180, 'garden': 1872, 'mail': 2706, 'chose': 804, 'ignored': 2225, 'imaginative': 2237, 'kenneth': 2455, 'spread': 4133, 'walks': 4780, 'mall': 2720, 'performs': 3234, 'topic': 4526, 'consistent': 953, 'engage': 1479, 'joseph': 2419, 'sullivan': 4288, 'captured': 677, 'greatly': 1967, 'cagney': 646, 'relevant': 3604, 'exploitation': 1592, 'gonna': 1936, 'powell': 3358, 'warren': 4801, 'irrelevant': 2358, 'hint': 2112, 'da': 1094, 'broke': 593, 'angle': 236, 'icon': 2211, 'motivation': 2914, 'incompetent': 2266, 'horrifying': 2167, 'outfit': 3144, 'cameras': 660, 'bands': 392, 'topless': 4527, 'childrens': 793, 'reynolds': 3684, 'threatening': 4468, 'raising': 3509, 'holding': 2130, 'capable': 672, 'suck': 4269, 'imagined': 2239, 'guarantee': 1987, 'teaching': 4377, 'pretending': 3382, 'cox': 1026, 'murphy': 2944, 'importance': 2246, 'frankenstein': 1822, 'princess': 3397, 'improve': 2254, 'creator': 1043, 'families': 1644, 'corporate': 998, 'advanced': 128, 'racial': 3501, 'gothic': 1945, 'revolves': 3682, 'rural': 3758, 'businessman': 634, 'eager': 1396, 'jon': 2416, 'realizing': 3555, 'rushed': 3760, 'distracting': 1297, 'faster': 1662, 'grow': 1982, 'appreciated': 280, 'wealthy': 4827, 'month': 2896, 'currently': 1085, 'modesty': 2883, 'league': 2549, 'civil': 826, 'sandra': 3782, 'admire': 121, 'inner': 2292, 'contest': 967, 'chaplin': 756, 'promised': 3431, 'visible': 4753, 'wicked': 4879, 'wore': 4939, 'suits': 4287, 'edgar': 1417, 'historically': 2120, 'suspenseful': 4331, 'enjoys': 1489, 'kicked': 2461, 'explaining': 1588, 'disturbed': 1299, 'cliff': 847, 'simpson': 3987, '1973': 19, 'rising': 3703, 'cure': 1081, 'essential': 1522, 'unwatchable': 4682, 'miserably': 2864, 'temple': 4398, 'thrilling': 4474, 'bothered': 549, 'insight': 2298, 'facing': 1620, 'revealed': 3671, 'dalton': 1098, 'jane': 2380, 'eyre': 1614, 'bright': 581, 'rochester': 3719, 'orson': 3132, 'welles': 4844, 'cave': 727, 'lasted': 2522, 'obscure': 3068, 'doomed': 1327, 'equal': 1509, '3d': 46, 'sidekick': 3966, 'francis': 1818, 'ruth': 3763, 'falk': 1636, 'terribly': 4408, 'celluloid': 731, 'vague': 4705, 'dear': 1140, 'tame': 4363, 'proof': 3434, 'stereotypical': 4180, 'hire': 2116, 'heat': 2067, 'morality': 2903, 'fancy': 1649, 'lloyd': 2630, 'dialogs': 1233, 'grandfather': 1954, 'jennifer': 2392, 'ford': 1789, 'civilization': 827, 'heston': 2094, 'troubles': 4594, 'robbery': 3711, 'remarks': 3615, 'cities': 823, 'united': 4664, 'forbidden': 1785, 'threat': 4467, 'relation': 3595, 'ah': 158, 'disappoint': 1272, 'stanley': 4148, 'backgrounds': 381, 'enters': 1496, 'wallace': 4782, 'combat': 882, 'subsequent': 4257, 'curiosity': 1082, 'lust': 2689, 'jackie': 2374, 'sum': 4289, '1990s': 25, '1996': 26, 'majority': 2712, 'ps': 3453, 'broad': 590, 'closet': 858, 'dreary': 1356, 'lively': 2627, 'favorites': 1672, 'university': 4667, 'helping': 2081, 'mel': 2796, 'staying': 4168, 'politics': 3326, 'argument': 291, 'wandering': 4785, 'tea': 4373, 'folk': 1770, 'hank': 2024, 'patients': 3212, 'horrific': 2166, 'pulp': 3465, 'lucas': 2680, 'hang': 2022, 'vengeance': 4719, 'plague': 3285, 'sleep': 4024, 'cases': 708, 'matt': 2768, 'souls': 4080, 'surprises': 4314, 'crying': 1074, 'endings': 1472, 'nyc': 3065, 'diane': 1238, 'involvement': 2347, 'afterwards': 145, 'throat': 4476, 'scope': 3821, 'voiced': 4762, 'manipulative': 2727, 'russell': 3761, 'innocence': 2293, 'widow': 4883, 'kubrick': 2496, 'jazz': 2387, 'poverty': 3357, 'banned': 395, 'beings': 449, 'feminist': 1695, 'focused': 1767, 'wound': 4960, 'member': 2800, 'capital': 673, 'homer': 2144, 'melting': 2799, 'heavily': 2069, 'ruby': 3749, 'enthusiasm': 1501, 'funnier': 1850, 'cabin': 643, 'derek': 1192, 'amy': 222, 'stiller': 4189, 'batman': 413, 'panic': 3181, 'frustrated': 1842, 'cards': 683, 'cheek': 779, 'punk': 3468, 'ramones': 3512, 'album': 175, 'attracted': 349, 'suspects': 4328, 'screens': 3832, 'worlds': 4947, 'advise': 134, 'fetched': 1698, 'sacrifice': 3766, 'estate': 1525, 'roy': 3745, 'asleep': 320, 'branagh': 564, 'flop': 1760, 'winds': 4895, '3000': 43, 'suited': 4286, 'cried': 1054, 'overwhelming': 3157, 'suspend': 4329, 'blatant': 502, 'fonda': 1777, 'centers': 734, 'hearts': 2066, 'troops': 4591, 'iraq': 2351, 'fate': 1665, 'feed': 1683, 'spring': 4134, 'females': 1694, 'awake': 365, 'ellen': 1446, 'ad': 110, 'careful': 688, 'blank': 501, 'tomatoes': 4515, 'factor': 1622, 'sport': 4129, 'horses': 2171, 'awe': 370, 'nomination': 3026, 'catholic': 720, 'church': 813, 'carradine': 695, 'walken': 4777, 'latin': 2527, 'guard': 1988, 'disappear': 1270, 'scheme': 3812, 'lab': 2501, 'virus': 4752, 'technique': 4383, 'stooges': 4200, 'shorts': 3948, 'cary': 706, '2001': 31, 'graphics': 1959, 'victor': 4731, 'chased': 770, 'styles': 4250, 'bull': 619, 'virgin': 4749, 'jesus': 2399, 'describes': 1196, 'craven': 1034, 'producing': 3417, 'ring': 3698, 'vincent': 4746, 'neat': 2982, 'ryan': 3765, 'brilliantly': 584, 'concerned': 932, 'unbelievably': 4635, 'brilliance': 582, 'depicting': 1184, 'communist': 907, 'widmark': 4882, 'peters': 3248, 'fbi': 1675, 'ritter': 3705, 'christians': 809, 'trees': 4577, 'program': 3424, 'memory': 2804, 'snake': 4042, 'amanda': 205, 'bone': 533, 'react': 3540, 'toilet': 4512, 'priceless': 3390, 'madonna': 2699, 'mario': 2738, 'flynn': 1765, 'slightest': 4028, 'liking': 2604, 'campbell': 663, 'contact': 961, 'illness': 2230, 'fever': 1699, 'stunts': 4246, 'horrors': 2169, 'elaborate': 1439, 'hopeless': 2158, 'ancient': 225, 'fatal': 1664, 'contrary': 974, 'unseen': 4678, 'depicts': 1186, 'ruthless': 3764, 'harder': 2035, 'messed': 2821, 'irish': 2353, 'unpredictable': 4675, 'providing': 3451, 'exposed': 1598, 'splendid': 4119, 'ultimate': 4627, 'charisma': 762, 'attitudes': 347, 'aids': 161, 'paulie': 3215, 'edie': 1419, 'uncle': 4636, 'existed': 1570, 'carol': 693, 'weve': 4856, 'intensity': 2317, 'scrooge': 3837, 'root': 3737, 'riveting': 3708, 'pursuit': 3476, 'wealth': 4826, 'steals': 4172, 'ninja': 3018, 'seeks': 3860, 'abc': 63, 'justify': 2439, 'robin': 3715, 'figured': 1712, 'waves': 4819, 'reflection': 3585, 'philosophical': 3253, 'regardless': 3590, 'surviving': 4323, 'masses': 2755, 'wet': 4855, 'riding': 3695, 'cole': 873, 'brenda': 575, 'curse': 1086, 'disjointed': 1287, 'dracula': 1341, 'jungle': 2434, 'valuable': 4708, 'lion': 2614, 'adorable': 124, 'ned': 2986, 'hart': 2041, 'sincere': 3991, 'jaws': 2385, 'calm': 655, 'prefer': 3368, 'isolated': 2363, 'wisdom': 4902, 'recording': 3575, 'americas': 215, 'cia': 814, 'balls': 390, 'potentially': 3356, 'vast': 4716, 'monkeys': 2891, 'ho': 2127, 'royal': 3746, 'masterpieces': 2760, 'cup': 1080, 'sits': 4006, 'jaw': 2384, 'mature': 2773, 'nostalgia': 3038, 'robots': 3718, 'lily': 2605, 'mountain': 2917, 'term': 4405, 'edition': 1422, 'analysis': 224, 'phantom': 3251, 'ball': 388, 'psychiatrist': 3455, 'von': 4765, 'satan': 3787, 'meaningful': 2781, 'blade': 495, 'hoffman': 2128, 'artificial': 306, 'hunting': 2201, 'earl': 1398, 'closed': 854, 'charge': 761, 'prisoners': 3403, 'prisoner': 3402, 'spiritual': 4116, 'corruption': 1002, 'represented': 3638, 'swim': 4337, 'rid': 3690, 'nicholas': 3010, 'scores': 3823, 'popularity': 3334, 'destiny': 1212, 'intimate': 2331, 'daily': 1097, 'gundam': 1997, 'battles': 415, 'formulaic': 1803, 'enormous': 1490, 'chorus': 803, 'abilities': 64, 'boxing': 556, 'neighbors': 2994, 'secondly': 3847, 'intentions': 2321, 'robbins': 3712, 'conversations': 981, 'del': 1165, 'che': 773, 'developing': 1224, 'ignorant': 2223, 'li': 2587, 'pal': 3177, 'stevens': 4183, 'couples': 1017, 'gender': 1878, 'sounding': 4083, 'revolution': 3680, 'unintentional': 4658, 'castle': 712, 'demon': 1177, 'angela': 232, 'imitation': 2241, 'baker': 385, 'monk': 2889, 'mitchell': 2875, 'demands': 1175, 'karen': 2444, 'discuss': 1283, 'officers': 3093, 'investigation': 2343, 'measure': 2786, 'advertising': 132, 'buff': 611, 'theory': 4437, 'spoof': 4127, 'suspicious': 4332, 'hilariously': 2107, 'ocean': 3079, 'elvira': 1450, 'connect': 944, 'maria': 2736, 'stronger': 4230, 'joey': 2408, 'sticks': 4186, 'denzel': 1181, 'struck': 4232, 'voight': 4764, 'dub': 1378, 'eastwood': 1409, 'defined': 1160, 'worn': 4948, 'kingdom': 2480, 'button': 639, 'bonus': 534, 'tracy': 4546, 'wishes': 4906, 'bergman': 466, 'offended': 3085, 'ashley': 313, 'doc': 1303, 'absence': 70, 'engaged': 1480, 'firstly': 1737, 'cliche': 843, 'florida': 1761, 'hysterical': 2208, 'uninteresting': 4660, 'suffice': 4279, 'kung': 2498, 'fu': 1844, 'dinosaur': 1255, 'outer': 3143, 'adequate': 120, 'beneath': 464, 'robot': 3717, 'khan': 2459, 'chair': 742, 'workers': 4943, 'waters': 4817, 'introduces': 2338, 'attorney': 348, 'menace': 2806, 'hates': 2048, 'elephant': 1444, 'jumped': 2430, 'soccer': 4048, 'sneak': 4043, 'arrogant': 303, 'parties': 3196, 'hopper': 2161, 'sellers': 3872, 'drunken': 1376, 'wounded': 4961, 'polanski': 3321, 'fooled': 1780, 'surrounding': 4319, 'korean': 2495, 'helicopter': 2076, 'hamlet': 2013, 'cusack': 1088, 'shake': 3914, 'greed': 1968, 'cg': 739, 'crocodile': 1065, 'persona': 3239, 'activities': 102, 'countryside': 1015, 'nervous': 2999, 'sword': 4340, 'wacky': 4769, 'lena': 2568, 'mentions': 2813, 'letters': 2582, 'lucy': 2684, 'wanna': 4786, 'chain': 741, 'ear': 1397, 'dorothy': 1330, 'willis': 4890, 'streisand': 4218, 'savage': 3793, 'complexity': 924, 'chan': 746, 'critic': 1061, 'ballet': 389, 'domino': 1319, 'brady': 561, 'scooby': 3820, 'doo': 1325, 'seed': 3856, 'generations': 1884, 'bela': 450, 'flies': 1756, 'lincoln': 2608, 'jet': 2400, 'surfing': 4311, 'samurai': 3779, 'inferior': 2285, 'coach': 868, 'celebrity': 729, 'basketball': 409, 'superhero': 4299, 'mildred': 2841, 'fulci': 1845, 'glorious': 1921, 'poem': 3312, 'stones': 4198, 'official': 3094, 'blake': 498, 'championship': 745, 'victoria': 4732, 'beatty': 427, 'miike': 2837, 'rats': 3531, 'hung': 2197, 'attend': 344, 'alcoholic': 177, 'morris': 2908, 'mummy': 2937, 'richardson': 3688, 'pit': 3278, 'moronic': 2907, 'hudson': 2184, 'command': 897, 'experiments': 1584, 'hippie': 2115, 'pearl': 3220, 'linda': 2609, 'abraham': 69}\n"
     ]
    }
   ],
   "source": [
    "print(str(vocabulary))"
   ]
  },
  {
   "cell_type": "markdown",
   "metadata": {},
   "source": [
    "Once you have added the endpoint name to the Lambda function, click on **Save**. Your Lambda function is now up and running. Next we need to create a way for our web app to execute the Lambda function."
   ]
  },
  {
   "cell_type": "markdown",
   "metadata": {},
   "source": [
    "### Setting up API Gateway\n",
    "\n",
    "Now that our Lambda function is set up, it is time to create a new API using API Gateway that will trigger the Lambda function we have just created.\n",
    "\n",
    "Using AWS Console, navigate to **Amazon API Gateway** and then click on **Get started**.\n",
    "\n",
    "On the next page, make sure that **New API** is selected and give the new api a name, for example, `sentiment_analysis_web_app`. Then, click on **Create API**.\n",
    "\n",
    "Now we have created an API, however it doesn't currently do anything. What we want it to do is to trigger the Lambda function that we created earlier.\n",
    "\n",
    "Select the **Actions** dropdown menu and click **Create Method**. A new blank method will be created, select its dropdown menu and select **POST**, then click on the check mark beside it.\n",
    "\n",
    "For the integration point, make sure that **Lambda Function** is selected and click on the **Use Lambda Proxy integration**. This option makes sure that the data that is sent to the API is then sent directly to the Lambda function with no processing. It also means that the return value must be a proper response object as it will also not be processed by API Gateway.\n",
    "\n",
    "Type the name of the Lambda function you created earlier into the **Lambda Function** text entry box and then click on **Save**. Click on **OK** in the pop-up box that then appears, giving permission to API Gateway to invoke the Lambda function you created.\n",
    "\n",
    "The last step in creating the API Gateway is to select the **Actions** dropdown and click on **Deploy API**. You will need to create a new Deployment stage and name it anything you like, for example `prod`.\n",
    "\n",
    "You have now successfully set up a public API to access your SageMaker model. Make sure to copy or write down the URL provided to invoke your newly created public API as this will be needed in the next step. This URL can be found at the top of the page, highlighted in blue next to the text **Invoke URL**."
   ]
  },
  {
   "cell_type": "markdown",
   "metadata": {},
   "source": [
    "## Step 7: Deploying our web app\n",
    "\n",
    "Now that we have a publicly available API, we can start using it in a web app. For our purposes, we have provided a simple static html file which can make use of the public api you created earlier.\n",
    "\n",
    "In the `website` folder there should be a file called `index.html`. Download the file to your computer and open that file up in a text editor of your choice. There should be a line which contains **\\*\\*REPLACE WITH PUBLIC API URL\\*\\***. Replace this string with the url that you wrote down in the last step and then save the file.\n",
    "\n",
    "Now, if you open `index.html` on your local computer, your browser will behave as a local web server and you can use the provided site to interact with your SageMaker model.\n",
    "\n",
    "If you'd like to go further, you can host this html file anywhere you'd like, for example using github or hosting a static site on Amazon's S3. Once you have done this you can share the link with anyone you'd like and have them play with it too!\n",
    "\n",
    "> **Important Note** In order for the web app to communicate with the SageMaker endpoint, the endpoint has to actually be deployed and running. This means that you are paying for it. Make sure that the endpoint is running when you want to use the web app but that you shut it down when you don't need it, otherwise you will end up with a surprisingly large AWS bill."
   ]
  },
  {
   "cell_type": "markdown",
   "metadata": {},
   "source": [
    "### Delete the endpoint\n",
    "\n",
    "Remember to always shut down your endpoint if you are no longer using it. You are charged for the length of time that the endpoint is running so if you forget and leave it on you could end up with an unexpectedly large bill."
   ]
  },
  {
   "cell_type": "code",
   "execution_count": 59,
   "metadata": {},
   "outputs": [],
   "source": [
    "xgb_predictor.delete_endpoint()"
   ]
  },
  {
   "cell_type": "markdown",
   "metadata": {},
   "source": [
    "## Optional: Clean up\n",
    "\n",
    "The default notebook instance on SageMaker doesn't have a lot of excess disk space available. As you continue to complete and execute notebooks you will eventually fill up this disk space, leading to errors which can be difficult to diagnose. Once you are completely finished using a notebook it is a good idea to remove the files that you created along the way. Of course, you can do this from the terminal or from the notebook hub if you would like. The cell below contains some commands to clean up the created files from within the notebook."
   ]
  },
  {
   "cell_type": "code",
   "execution_count": 60,
   "metadata": {},
   "outputs": [],
   "source": [
    "# First we will remove all of the files contained in the data_dir directory\n",
    "!rm $data_dir/*\n",
    "\n",
    "# And then we delete the directory itself\n",
    "!rmdir $data_dir\n",
    "\n",
    "# Similarly we remove the files in the cache_dir directory and the directory itself\n",
    "!rm $cache_dir/*\n",
    "!rmdir $cache_dir"
   ]
  },
  {
   "cell_type": "code",
   "execution_count": null,
   "metadata": {},
   "outputs": [],
   "source": []
  }
 ],
 "metadata": {
  "kernelspec": {
   "display_name": "conda_python3",
   "language": "python",
   "name": "conda_python3"
  },
  "language_info": {
   "codemirror_mode": {
    "name": "ipython",
    "version": 3
   },
   "file_extension": ".py",
   "mimetype": "text/x-python",
   "name": "python",
   "nbconvert_exporter": "python",
   "pygments_lexer": "ipython3",
   "version": "3.6.10"
  }
 },
 "nbformat": 4,
 "nbformat_minor": 2
}
